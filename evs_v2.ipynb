{
 "cells": [
  {
   "cell_type": "code",
   "execution_count": 24,
   "metadata": {},
   "outputs": [],
   "source": [
    "import pandas as pd\n",
    "import numpy as np\n",
    "from tqdm import tqdm\n",
    "from utils import preprocess_vehicles_data"
   ]
  },
  {
   "cell_type": "markdown",
   "metadata": {},
   "source": [
    "# Filtering to get data for La Baule"
   ]
  },
  {
   "cell_type": "markdown",
   "metadata": {},
   "source": [
    "#### VP (Voitures Particulières)"
   ]
  },
  {
   "cell_type": "code",
   "execution_count": 51,
   "metadata": {},
   "outputs": [
    {
     "data": {
      "text/html": [
       "<div>\n",
       "<style scoped>\n",
       "    .dataframe tbody tr th:only-of-type {\n",
       "        vertical-align: middle;\n",
       "    }\n",
       "\n",
       "    .dataframe tbody tr th {\n",
       "        vertical-align: top;\n",
       "    }\n",
       "\n",
       "    .dataframe thead th {\n",
       "        text-align: right;\n",
       "    }\n",
       "</style>\n",
       "<table border=\"1\" class=\"dataframe\">\n",
       "  <thead>\n",
       "    <tr style=\"text-align: right;\">\n",
       "      <th></th>\n",
       "      <th>Code commune de résidence</th>\n",
       "      <th>libellé commune de résidence</th>\n",
       "      <th>Carburant</th>\n",
       "      <th>statut</th>\n",
       "      <th>Crit'Air</th>\n",
       "      <th>2011</th>\n",
       "      <th>2012</th>\n",
       "      <th>2013</th>\n",
       "      <th>2014</th>\n",
       "      <th>2015</th>\n",
       "      <th>2016</th>\n",
       "      <th>2017</th>\n",
       "      <th>2018</th>\n",
       "      <th>2019</th>\n",
       "      <th>2020</th>\n",
       "      <th>2021</th>\n",
       "      <th>2022</th>\n",
       "      <th>2023</th>\n",
       "      <th>2024</th>\n",
       "    </tr>\n",
       "  </thead>\n",
       "  <tbody>\n",
       "    <tr>\n",
       "      <th>0</th>\n",
       "      <td>00000</td>\n",
       "      <td>Inconnu</td>\n",
       "      <td>Essence hybride rechargeable</td>\n",
       "      <td>PAR</td>\n",
       "      <td>Crit'Air 1</td>\n",
       "      <td>0</td>\n",
       "      <td>25</td>\n",
       "      <td>36</td>\n",
       "      <td>30</td>\n",
       "      <td>20</td>\n",
       "      <td>12</td>\n",
       "      <td>6</td>\n",
       "      <td>5</td>\n",
       "      <td>4</td>\n",
       "      <td>4</td>\n",
       "      <td>12</td>\n",
       "      <td>59</td>\n",
       "      <td>53.0</td>\n",
       "      <td>18.708</td>\n",
       "    </tr>\n",
       "    <tr>\n",
       "      <th>1</th>\n",
       "      <td>00000</td>\n",
       "      <td>Inconnu</td>\n",
       "      <td>Diesel thermique</td>\n",
       "      <td>PRO</td>\n",
       "      <td>Crit'Air 4</td>\n",
       "      <td>59</td>\n",
       "      <td>57</td>\n",
       "      <td>57</td>\n",
       "      <td>54</td>\n",
       "      <td>53</td>\n",
       "      <td>52</td>\n",
       "      <td>38</td>\n",
       "      <td>28</td>\n",
       "      <td>24</td>\n",
       "      <td>19</td>\n",
       "      <td>6</td>\n",
       "      <td>4</td>\n",
       "      <td>4.0</td>\n",
       "      <td>2.040</td>\n",
       "    </tr>\n",
       "    <tr>\n",
       "      <th>2</th>\n",
       "      <td>00000</td>\n",
       "      <td>Inconnu</td>\n",
       "      <td>Gaz</td>\n",
       "      <td>PRO</td>\n",
       "      <td>Crit'Air 1</td>\n",
       "      <td>0</td>\n",
       "      <td>0</td>\n",
       "      <td>0</td>\n",
       "      <td>0</td>\n",
       "      <td>1</td>\n",
       "      <td>1</td>\n",
       "      <td>1</td>\n",
       "      <td>1</td>\n",
       "      <td>1</td>\n",
       "      <td>1</td>\n",
       "      <td>0</td>\n",
       "      <td>0</td>\n",
       "      <td>0.0</td>\n",
       "      <td>0.000</td>\n",
       "    </tr>\n",
       "    <tr>\n",
       "      <th>3</th>\n",
       "      <td>00000</td>\n",
       "      <td>Inconnu</td>\n",
       "      <td>Essence hybride rechargeable</td>\n",
       "      <td>PRO</td>\n",
       "      <td>Crit'Air 1</td>\n",
       "      <td>0</td>\n",
       "      <td>5</td>\n",
       "      <td>10</td>\n",
       "      <td>2</td>\n",
       "      <td>1</td>\n",
       "      <td>0</td>\n",
       "      <td>0</td>\n",
       "      <td>0</td>\n",
       "      <td>0</td>\n",
       "      <td>0</td>\n",
       "      <td>5</td>\n",
       "      <td>10</td>\n",
       "      <td>15.0</td>\n",
       "      <td>13.000</td>\n",
       "    </tr>\n",
       "    <tr>\n",
       "      <th>4</th>\n",
       "      <td>00000</td>\n",
       "      <td>Inconnu</td>\n",
       "      <td>Essence thermique</td>\n",
       "      <td>PRO</td>\n",
       "      <td>Crit'Air 3</td>\n",
       "      <td>78</td>\n",
       "      <td>74</td>\n",
       "      <td>70</td>\n",
       "      <td>74</td>\n",
       "      <td>76</td>\n",
       "      <td>72</td>\n",
       "      <td>50</td>\n",
       "      <td>37</td>\n",
       "      <td>35</td>\n",
       "      <td>24</td>\n",
       "      <td>2</td>\n",
       "      <td>0</td>\n",
       "      <td>0.0</td>\n",
       "      <td>0.000</td>\n",
       "    </tr>\n",
       "  </tbody>\n",
       "</table>\n",
       "</div>"
      ],
      "text/plain": [
       "  Code commune de résidence libellé commune de résidence  \\\n",
       "0                     00000                      Inconnu   \n",
       "1                     00000                      Inconnu   \n",
       "2                     00000                      Inconnu   \n",
       "3                     00000                      Inconnu   \n",
       "4                     00000                      Inconnu   \n",
       "\n",
       "                      Carburant statut    Crit'Air  2011  2012  2013  2014  \\\n",
       "0  Essence hybride rechargeable    PAR  Crit'Air 1     0    25    36    30   \n",
       "1              Diesel thermique    PRO  Crit'Air 4    59    57    57    54   \n",
       "2                           Gaz    PRO  Crit'Air 1     0     0     0     0   \n",
       "3  Essence hybride rechargeable    PRO  Crit'Air 1     0     5    10     2   \n",
       "4             Essence thermique    PRO  Crit'Air 3    78    74    70    74   \n",
       "\n",
       "   2015  2016  2017  2018  2019  2020  2021  2022  2023    2024  \n",
       "0    20    12     6     5     4     4    12    59  53.0  18.708  \n",
       "1    53    52    38    28    24    19     6     4   4.0   2.040  \n",
       "2     1     1     1     1     1     1     0     0   0.0   0.000  \n",
       "3     1     0     0     0     0     0     5    10  15.0  13.000  \n",
       "4    76    72    50    37    35    24     2     0   0.0   0.000  "
      ]
     },
     "execution_count": 51,
     "metadata": {},
     "output_type": "execute_result"
    }
   ],
   "source": [
    "vp = pd.read_excel(f\"../data/EV/parc_vp_com_2011_2024.xlsx\", header=3,)\n",
    "vp = vp.rename(columns={'2 024': 2024})\n",
    "# vp = vp.rename(columns={'2 024': '2024'})\n",
    "# vp.shape\n",
    "vp.head()"
   ]
  },
  {
   "cell_type": "code",
   "execution_count": 52,
   "metadata": {},
   "outputs": [],
   "source": [
    "vp_baule = vp[vp['Code commune de résidence'] == '44055']\n",
    "# vp_baule.to_pickle(\"../data/EV/vp_baule_2011_2024.pkl\")\n",
    "vp_baule.to_excel(\"../data/EV/preprocessed/vp_baule_2011_2024.xlsx\", index=False)"
   ]
  },
  {
   "cell_type": "markdown",
   "metadata": {},
   "source": [
    "#### VUL (Véhicules Utilitaires Légers)"
   ]
  },
  {
   "cell_type": "code",
   "execution_count": 27,
   "metadata": {},
   "outputs": [],
   "source": [
    "vul = pd.read_excel(f\"../data/EV/parc_vul_com_2011_2024.xlsx\", header=3,)\n",
    "vul_baule = vul[vul['Code commune de résidence'] == '44055']\n",
    "# vul_baule.head()\n",
    "vul_baule.to_excel(\"../data/EV/preprocessed/vul_baule_2011_2024.xlsx\", index=False)"
   ]
  },
  {
   "cell_type": "markdown",
   "metadata": {},
   "source": [
    "### PL (Poids Lourds)"
   ]
  },
  {
   "cell_type": "code",
   "execution_count": 28,
   "metadata": {},
   "outputs": [],
   "source": [
    "pl = pd.read_excel(f\"../data/EV/parc_pl_com2011_2024.xlsx\", header=3,)\n",
    "pl_baule = pl[pl['Code commune de résidence'] == '44055']\n",
    "# pl_baule.head()\n",
    "pl_baule.to_excel(\"../data/EV/preprocessed/pl_baule_2011_2024.xlsx\", index=False)"
   ]
  },
  {
   "cell_type": "markdown",
   "metadata": {},
   "source": [
    "### TCP (Transport en Commun Collectif de Personnes)"
   ]
  },
  {
   "cell_type": "code",
   "execution_count": 29,
   "metadata": {},
   "outputs": [],
   "source": [
    "tcp = pd.read_excel(f\"../data/EV/parc_tcp_commune_2024.xlsx\", header=3,)\n",
    "tcp_baule = tcp[tcp['Code commune de résidence'] == '44055']\n",
    "tcp_baule.head()\n",
    "tcp_baule.to_excel(\"../data/EV/preprocessed/tcp_baule_2024.xlsx\", index=False)"
   ]
  },
  {
   "cell_type": "markdown",
   "metadata": {},
   "source": [
    "# Processing to get EVs"
   ]
  },
  {
   "cell_type": "code",
   "execution_count": 53,
   "metadata": {},
   "outputs": [],
   "source": [
    "vul_baule = pd.read_excel(f\"../data/EV/preprocessed/vul_baule_2011_2024.xlsx\")\n",
    "vp_baule = pd.read_excel(f\"../data/EV/preprocessed/vp_baule_2011_2024.xlsx\")\n",
    "tcp_baule = pd.read_excel(f\"../data/EV/preprocessed/tcp_baule_2024.xlsx\")\n",
    "pl_baule = pd.read_excel(f\"../data/EV/preprocessed/pl_baule_2011_2024.xlsx\")"
   ]
  },
  {
   "cell_type": "code",
   "execution_count": 54,
   "metadata": {},
   "outputs": [],
   "source": [
    "raw_vehicules = {\n",
    "    'vp': vp_baule,\n",
    "    'vul': vul_baule, \n",
    "    'pl': pl_baule,\n",
    "    'tcp': tcp_baule\n",
    "}"
   ]
  },
  {
   "cell_type": "code",
   "execution_count": 55,
   "metadata": {},
   "outputs": [
    {
     "name": "stderr",
     "output_type": "stream",
     "text": [
      "100%|██████████| 4/4 [00:00<00:00, 77.21it/s]\n"
     ]
    }
   ],
   "source": [
    "process_vehicles = preprocess_vehicles_data(raw_vehicules)"
   ]
  },
  {
   "cell_type": "code",
   "execution_count": 56,
   "metadata": {},
   "outputs": [
    {
     "data": {
      "text/html": [
       "<div>\n",
       "<style scoped>\n",
       "    .dataframe tbody tr th:only-of-type {\n",
       "        vertical-align: middle;\n",
       "    }\n",
       "\n",
       "    .dataframe tbody tr th {\n",
       "        vertical-align: top;\n",
       "    }\n",
       "\n",
       "    .dataframe thead th {\n",
       "        text-align: right;\n",
       "    }\n",
       "</style>\n",
       "<table border=\"1\" class=\"dataframe\">\n",
       "  <thead>\n",
       "    <tr style=\"text-align: right;\">\n",
       "      <th>Carburant</th>\n",
       "      <th>Code_Commune</th>\n",
       "      <th>Nom_Commune</th>\n",
       "      <th>Year</th>\n",
       "      <th>Statut</th>\n",
       "      <th>Type_Vhcl</th>\n",
       "      <th>NB_THERMIQUE</th>\n",
       "      <th>NB_RECHARGEABLE</th>\n",
       "      <th>NB_EL</th>\n",
       "    </tr>\n",
       "  </thead>\n",
       "  <tbody>\n",
       "    <tr>\n",
       "      <th>0</th>\n",
       "      <td>44055</td>\n",
       "      <td>La Baule-Escoublac</td>\n",
       "      <td>2024</td>\n",
       "      <td>Particulier</td>\n",
       "      <td>vp</td>\n",
       "      <td>12455.083</td>\n",
       "      <td>207.407</td>\n",
       "      <td>301.049</td>\n",
       "    </tr>\n",
       "    <tr>\n",
       "      <th>1</th>\n",
       "      <td>44055</td>\n",
       "      <td>La Baule-Escoublac</td>\n",
       "      <td>2024</td>\n",
       "      <td>Professionnel</td>\n",
       "      <td>vp</td>\n",
       "      <td>547.423</td>\n",
       "      <td>93.178</td>\n",
       "      <td>58.000</td>\n",
       "    </tr>\n",
       "    <tr>\n",
       "      <th>2</th>\n",
       "      <td>44055</td>\n",
       "      <td>La Baule-Escoublac</td>\n",
       "      <td>2011</td>\n",
       "      <td>Particulier</td>\n",
       "      <td>vp</td>\n",
       "      <td>11481.000</td>\n",
       "      <td>14.000</td>\n",
       "      <td>1.000</td>\n",
       "    </tr>\n",
       "    <tr>\n",
       "      <th>3</th>\n",
       "      <td>44055</td>\n",
       "      <td>La Baule-Escoublac</td>\n",
       "      <td>2011</td>\n",
       "      <td>Professionnel</td>\n",
       "      <td>vp</td>\n",
       "      <td>489.000</td>\n",
       "      <td>3.000</td>\n",
       "      <td>3.000</td>\n",
       "    </tr>\n",
       "    <tr>\n",
       "      <th>4</th>\n",
       "      <td>44055</td>\n",
       "      <td>La Baule-Escoublac</td>\n",
       "      <td>2012</td>\n",
       "      <td>Particulier</td>\n",
       "      <td>vp</td>\n",
       "      <td>11538.000</td>\n",
       "      <td>25.000</td>\n",
       "      <td>1.000</td>\n",
       "    </tr>\n",
       "  </tbody>\n",
       "</table>\n",
       "</div>"
      ],
      "text/plain": [
       "Carburant  Code_Commune         Nom_Commune  Year         Statut Type_Vhcl  \\\n",
       "0                 44055  La Baule-Escoublac  2024    Particulier        vp   \n",
       "1                 44055  La Baule-Escoublac  2024  Professionnel        vp   \n",
       "2                 44055  La Baule-Escoublac  2011    Particulier        vp   \n",
       "3                 44055  La Baule-Escoublac  2011  Professionnel        vp   \n",
       "4                 44055  La Baule-Escoublac  2012    Particulier        vp   \n",
       "\n",
       "Carburant  NB_THERMIQUE  NB_RECHARGEABLE    NB_EL  \n",
       "0             12455.083          207.407  301.049  \n",
       "1               547.423           93.178   58.000  \n",
       "2             11481.000           14.000    1.000  \n",
       "3               489.000            3.000    3.000  \n",
       "4             11538.000           25.000    1.000  "
      ]
     },
     "execution_count": 56,
     "metadata": {},
     "output_type": "execute_result"
    }
   ],
   "source": [
    "process_vehicles.head()"
   ]
  },
  {
   "cell_type": "markdown",
   "metadata": {},
   "source": [
    "### Merging all types of vehicules for each year (thermique / rechargeable / Electrique)"
   ]
  },
  {
   "cell_type": "code",
   "execution_count": 57,
   "metadata": {},
   "outputs": [
    {
     "data": {
      "text/html": [
       "<div>\n",
       "<style scoped>\n",
       "    .dataframe tbody tr th:only-of-type {\n",
       "        vertical-align: middle;\n",
       "    }\n",
       "\n",
       "    .dataframe tbody tr th {\n",
       "        vertical-align: top;\n",
       "    }\n",
       "\n",
       "    .dataframe thead th {\n",
       "        text-align: right;\n",
       "    }\n",
       "</style>\n",
       "<table border=\"1\" class=\"dataframe\">\n",
       "  <thead>\n",
       "    <tr style=\"text-align: right;\">\n",
       "      <th>Carburant</th>\n",
       "      <th>Year</th>\n",
       "      <th>NB_THERMIQUE</th>\n",
       "      <th>NB_RECHARGEABLE</th>\n",
       "      <th>NB_EL</th>\n",
       "    </tr>\n",
       "  </thead>\n",
       "  <tbody>\n",
       "    <tr>\n",
       "      <th>0</th>\n",
       "      <td>2011</td>\n",
       "      <td>13440.000</td>\n",
       "      <td>17.000</td>\n",
       "      <td>10.000</td>\n",
       "    </tr>\n",
       "    <tr>\n",
       "      <th>1</th>\n",
       "      <td>2012</td>\n",
       "      <td>13441.000</td>\n",
       "      <td>27.000</td>\n",
       "      <td>10.000</td>\n",
       "    </tr>\n",
       "    <tr>\n",
       "      <th>2</th>\n",
       "      <td>2013</td>\n",
       "      <td>13526.000</td>\n",
       "      <td>30.000</td>\n",
       "      <td>16.000</td>\n",
       "    </tr>\n",
       "    <tr>\n",
       "      <th>3</th>\n",
       "      <td>2014</td>\n",
       "      <td>13565.000</td>\n",
       "      <td>29.000</td>\n",
       "      <td>16.000</td>\n",
       "    </tr>\n",
       "    <tr>\n",
       "      <th>4</th>\n",
       "      <td>2015</td>\n",
       "      <td>13614.000</td>\n",
       "      <td>23.000</td>\n",
       "      <td>21.000</td>\n",
       "    </tr>\n",
       "    <tr>\n",
       "      <th>5</th>\n",
       "      <td>2016</td>\n",
       "      <td>13670.000</td>\n",
       "      <td>26.000</td>\n",
       "      <td>36.000</td>\n",
       "    </tr>\n",
       "    <tr>\n",
       "      <th>6</th>\n",
       "      <td>2017</td>\n",
       "      <td>13884.000</td>\n",
       "      <td>26.000</td>\n",
       "      <td>47.000</td>\n",
       "    </tr>\n",
       "    <tr>\n",
       "      <th>7</th>\n",
       "      <td>2018</td>\n",
       "      <td>14175.000</td>\n",
       "      <td>32.000</td>\n",
       "      <td>56.000</td>\n",
       "    </tr>\n",
       "    <tr>\n",
       "      <th>8</th>\n",
       "      <td>2019</td>\n",
       "      <td>14486.000</td>\n",
       "      <td>40.000</td>\n",
       "      <td>67.000</td>\n",
       "    </tr>\n",
       "    <tr>\n",
       "      <th>9</th>\n",
       "      <td>2020</td>\n",
       "      <td>14789.000</td>\n",
       "      <td>49.000</td>\n",
       "      <td>93.000</td>\n",
       "    </tr>\n",
       "    <tr>\n",
       "      <th>10</th>\n",
       "      <td>2021</td>\n",
       "      <td>14940.000</td>\n",
       "      <td>97.000</td>\n",
       "      <td>132.000</td>\n",
       "    </tr>\n",
       "    <tr>\n",
       "      <th>11</th>\n",
       "      <td>2022</td>\n",
       "      <td>14973.000</td>\n",
       "      <td>193.000</td>\n",
       "      <td>207.000</td>\n",
       "    </tr>\n",
       "    <tr>\n",
       "      <th>12</th>\n",
       "      <td>2023</td>\n",
       "      <td>14922.368</td>\n",
       "      <td>253.000</td>\n",
       "      <td>285.152</td>\n",
       "    </tr>\n",
       "    <tr>\n",
       "      <th>13</th>\n",
       "      <td>2024</td>\n",
       "      <td>14566.640</td>\n",
       "      <td>301.585</td>\n",
       "      <td>399.273</td>\n",
       "    </tr>\n",
       "  </tbody>\n",
       "</table>\n",
       "</div>"
      ],
      "text/plain": [
       "Carburant  Year  NB_THERMIQUE  NB_RECHARGEABLE    NB_EL\n",
       "0          2011     13440.000           17.000   10.000\n",
       "1          2012     13441.000           27.000   10.000\n",
       "2          2013     13526.000           30.000   16.000\n",
       "3          2014     13565.000           29.000   16.000\n",
       "4          2015     13614.000           23.000   21.000\n",
       "5          2016     13670.000           26.000   36.000\n",
       "6          2017     13884.000           26.000   47.000\n",
       "7          2018     14175.000           32.000   56.000\n",
       "8          2019     14486.000           40.000   67.000\n",
       "9          2020     14789.000           49.000   93.000\n",
       "10         2021     14940.000           97.000  132.000\n",
       "11         2022     14973.000          193.000  207.000\n",
       "12         2023     14922.368          253.000  285.152\n",
       "13         2024     14566.640          301.585  399.273"
      ]
     },
     "execution_count": 57,
     "metadata": {},
     "output_type": "execute_result"
    }
   ],
   "source": [
    "# df_grouped = process_vehicles.groupby(\"Year\", as_index=False)[\n",
    "#     [\"NB_VP_THERMIQUE\", \"NB_VP_RECHARGEABLE\", \"NB_VP_EL\"]\n",
    "# ].sum()\n",
    "\n",
    "df_grouped = process_vehicles.groupby(\"Year\", as_index=False)[\n",
    "    [\"NB_THERMIQUE\", \"NB_RECHARGEABLE\", \"NB_EL\"]\n",
    "].sum()\n",
    "\n",
    "df_grouped"
   ]
  },
  {
   "cell_type": "code",
   "execution_count": 64,
   "metadata": {},
   "outputs": [
    {
     "name": "stdout",
     "output_type": "stream",
     "text": [
      "0.04590522952745761\n",
      "15267.497999999998\n"
     ]
    }
   ],
   "source": [
    "df_2024 = df_grouped[df_grouped['Year'] == '2024']\n",
    "nb_voitures_baule_2024 = (df_2024['NB_EL'] + df_2024['NB_RECHARGEABLE'] + df_2024['NB_THERMIQUE']).iloc[0]\n",
    "ratio_baule_2024 = ((df_2024['NB_EL'] + df_2024['NB_RECHARGEABLE']) / (df_2024['NB_EL'] + df_2024['NB_RECHARGEABLE'] + df_2024['NB_THERMIQUE'])).iloc[0]\n",
    "print(ratio_baule_2024)\n",
    "print(nb_voitures_baule_2024)"
   ]
  },
  {
   "cell_type": "markdown",
   "metadata": {},
   "source": [
    "# Getting Ratio for a region"
   ]
  },
  {
   "cell_type": "markdown",
   "metadata": {},
   "source": [
    "Note\n",
    "* En France, le taux global est de 2-3%\n",
    "* Avec ce dataset on peut avoir le taux dans la région de la Baule pour mieux estimer la demande du traffic liée aux EVs"
   ]
  },
  {
   "cell_type": "code",
   "execution_count": 61,
   "metadata": {},
   "outputs": [],
   "source": [
    "vp_24 = vp[['Code commune de résidence', 'libellé commune de résidence', 'Carburant', 'statut', 2024]]\n",
    "tcp_24 = tcp[['Code commune de résidence', 'libellé commune de résidence', 'Carburant', 'statut', 2024]]\n",
    "pl_24 = pl[['Code commune de résidence', 'libellé commune de résidence', 'Carburant', 'statut', 2024]]\n",
    "vul_24 = vul[['Code commune de résidence', 'libellé commune de résidence', 'Carburant', 'statut', 2024]]"
   ]
  },
  {
   "cell_type": "markdown",
   "metadata": {},
   "source": [
    "# TODO:\n",
    "* Faire une fonction qui calcule automatiquement à partir du code de la ville\n",
    "* Faire une démo"
   ]
  }
 ],
 "metadata": {
  "kernelspec": {
   "display_name": "base",
   "language": "python",
   "name": "python3"
  },
  "language_info": {
   "codemirror_mode": {
    "name": "ipython",
    "version": 3
   },
   "file_extension": ".py",
   "mimetype": "text/x-python",
   "name": "python",
   "nbconvert_exporter": "python",
   "pygments_lexer": "ipython3",
   "version": "3.12.4"
  }
 },
 "nbformat": 4,
 "nbformat_minor": 2
}
