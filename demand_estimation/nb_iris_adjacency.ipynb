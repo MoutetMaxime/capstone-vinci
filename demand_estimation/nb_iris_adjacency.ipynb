{
 "cells": [
  {
   "cell_type": "code",
   "execution_count": null,
   "metadata": {},
   "outputs": [],
   "source": [
    "import sys\n",
    "import os\n",
    "import pandas as pd\n",
    "import numpy as np\n",
    "\n",
    "sys.path.append(os.path.abspath(os.path.join(os.getcwd(), '..')))\n",
    "from utils import get_iris_contours_city, get_adjacency_from_gdf"
   ]
  },
  {
   "cell_type": "code",
   "execution_count": 52,
   "metadata": {},
   "outputs": [],
   "source": [
    "waiting_time_api = 1\n",
    "file_iris='../../data/IRIS/contours-iris.gpkg'\n",
    "code_insee=44055\n",
    "crs_angles='EPSG:4326'\n",
    "crs_meters='EPSG:2154'\n",
    "gdf_city_iris=get_iris_contours_city(file_iris, code_insee, crs=crs_angles)"
   ]
  },
  {
   "cell_type": "code",
   "execution_count": 68,
   "metadata": {},
   "outputs": [],
   "source": [
    "gdf_city_iris_with_dist, adjacency_matrix = get_adjacency_from_gdf(gdf_city_iris, delay=waiting_time_api, crs_angles=crs_angles, crs_meters=crs_meters)"
   ]
  },
  {
   "cell_type": "code",
   "execution_count": 72,
   "metadata": {},
   "outputs": [
    {
     "data": {
      "text/plain": [
       "array([[ 0.    ,  2.8856,  3.3062,  2.3819,  2.9707,  4.3403],\n",
       "       [ 2.8856,  0.    ,  0.7609,  3.371 ,  7.4203, 11.3524],\n",
       "       [ 3.3062,  0.7609,  0.    ,  3.0541,  7.0775, 11.0097],\n",
       "       [ 2.3819,  3.371 ,  3.0541,  0.    ,  2.6009,  5.0269],\n",
       "       [ 2.9707,  7.4203,  7.0775,  2.6009,  0.    ,  4.1328],\n",
       "       [ 4.3403, 11.3524, 11.0097,  5.0269,  4.1328,  0.    ]])"
      ]
     },
     "execution_count": 72,
     "metadata": {},
     "output_type": "execute_result"
    }
   ],
   "source": [
    "adjacency_matrix"
   ]
  },
  {
   "cell_type": "code",
   "execution_count": 69,
   "metadata": {},
   "outputs": [
    {
     "data": {
      "text/html": [
       "<div>\n",
       "<style scoped>\n",
       "    .dataframe tbody tr th:only-of-type {\n",
       "        vertical-align: middle;\n",
       "    }\n",
       "\n",
       "    .dataframe tbody tr th {\n",
       "        vertical-align: top;\n",
       "    }\n",
       "\n",
       "    .dataframe thead th {\n",
       "        text-align: right;\n",
       "    }\n",
       "</style>\n",
       "<table border=\"1\" class=\"dataframe\">\n",
       "  <thead>\n",
       "    <tr style=\"text-align: right;\">\n",
       "      <th></th>\n",
       "      <th>nom_iris</th>\n",
       "      <th>dist_0</th>\n",
       "      <th>dist_1</th>\n",
       "      <th>dist_2</th>\n",
       "      <th>dist_3</th>\n",
       "      <th>dist_4</th>\n",
       "      <th>dist_5</th>\n",
       "    </tr>\n",
       "  </thead>\n",
       "  <tbody>\n",
       "    <tr>\n",
       "      <th>0</th>\n",
       "      <td>La Baule les Pins</td>\n",
       "      <td>0.0000</td>\n",
       "      <td>2.8856</td>\n",
       "      <td>3.3062</td>\n",
       "      <td>2.3819</td>\n",
       "      <td>2.9707</td>\n",
       "      <td>4.3403</td>\n",
       "    </tr>\n",
       "    <tr>\n",
       "      <th>1</th>\n",
       "      <td>Centre-Benoît</td>\n",
       "      <td>2.8856</td>\n",
       "      <td>0.0000</td>\n",
       "      <td>0.7609</td>\n",
       "      <td>3.3710</td>\n",
       "      <td>7.4203</td>\n",
       "      <td>11.3524</td>\n",
       "    </tr>\n",
       "    <tr>\n",
       "      <th>2</th>\n",
       "      <td>Gare-Grand Clos</td>\n",
       "      <td>3.3062</td>\n",
       "      <td>0.7609</td>\n",
       "      <td>0.0000</td>\n",
       "      <td>3.0541</td>\n",
       "      <td>7.0775</td>\n",
       "      <td>11.0097</td>\n",
       "    </tr>\n",
       "    <tr>\n",
       "      <th>3</th>\n",
       "      <td>Beslon</td>\n",
       "      <td>2.3819</td>\n",
       "      <td>3.3710</td>\n",
       "      <td>3.0541</td>\n",
       "      <td>0.0000</td>\n",
       "      <td>2.6009</td>\n",
       "      <td>5.0269</td>\n",
       "    </tr>\n",
       "    <tr>\n",
       "      <th>4</th>\n",
       "      <td>Escoublac</td>\n",
       "      <td>2.9707</td>\n",
       "      <td>7.4203</td>\n",
       "      <td>7.0775</td>\n",
       "      <td>2.6009</td>\n",
       "      <td>0.0000</td>\n",
       "      <td>4.1328</td>\n",
       "    </tr>\n",
       "    <tr>\n",
       "      <th>5</th>\n",
       "      <td>Le Guézy</td>\n",
       "      <td>4.3403</td>\n",
       "      <td>11.3524</td>\n",
       "      <td>11.0097</td>\n",
       "      <td>5.0269</td>\n",
       "      <td>4.1328</td>\n",
       "      <td>0.0000</td>\n",
       "    </tr>\n",
       "  </tbody>\n",
       "</table>\n",
       "</div>"
      ],
      "text/plain": [
       "            nom_iris  dist_0   dist_1   dist_2  dist_3  dist_4   dist_5\n",
       "0  La Baule les Pins  0.0000   2.8856   3.3062  2.3819  2.9707   4.3403\n",
       "1      Centre-Benoît  2.8856   0.0000   0.7609  3.3710  7.4203  11.3524\n",
       "2    Gare-Grand Clos  3.3062   0.7609   0.0000  3.0541  7.0775  11.0097\n",
       "3             Beslon  2.3819   3.3710   3.0541  0.0000  2.6009   5.0269\n",
       "4          Escoublac  2.9707   7.4203   7.0775  2.6009  0.0000   4.1328\n",
       "5           Le Guézy  4.3403  11.3524  11.0097  5.0269  4.1328   0.0000"
      ]
     },
     "execution_count": 69,
     "metadata": {},
     "output_type": "execute_result"
    }
   ],
   "source": [
    "num_rows = len(gdf_city_iris_with_dist)\n",
    "cols = ['nom_iris'] + [f\"dist_{i}\" for i in range(num_rows)] \n",
    "gdf_city_iris_with_dist_filt = gdf_city_iris_with_dist[cols]\n",
    "gdf_city_iris_with_dist_filt"
   ]
  }
 ],
 "metadata": {
  "kernelspec": {
   "display_name": "base",
   "language": "python",
   "name": "python3"
  },
  "language_info": {
   "codemirror_mode": {
    "name": "ipython",
    "version": 3
   },
   "file_extension": ".py",
   "mimetype": "text/x-python",
   "name": "python",
   "nbconvert_exporter": "python",
   "pygments_lexer": "ipython3",
   "version": "3.12.4"
  }
 },
 "nbformat": 4,
 "nbformat_minor": 2
}
