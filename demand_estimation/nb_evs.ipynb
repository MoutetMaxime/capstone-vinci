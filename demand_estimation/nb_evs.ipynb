{
 "cells": [
  {
   "cell_type": "code",
   "execution_count": 1,
   "metadata": {},
   "outputs": [],
   "source": [
    "import pandas as pd\n",
    "import numpy as np\n",
    "from tqdm import tqdm\n",
    "import os\n",
    "from utils_data import get_vehicles_city "
   ]
  },
  {
   "cell_type": "markdown",
   "metadata": {},
   "source": [
    "# Filtering to get data for any city"
   ]
  },
  {
   "cell_type": "code",
   "execution_count": 2,
   "metadata": {},
   "outputs": [],
   "source": [
    "code_insee = '44055'\n",
    "dir_ev = '../../data/EV'\n",
    "processed_dir_ev = '../../data/processed'\n",
    "os.makedirs(processed_dir_ev, exist_ok=True)\n",
    "preprocessed_dir_ev = '../../data/preprocessed'\n",
    "os.makedirs(preprocessed_dir_ev, exist_ok=True)"
   ]
  },
  {
   "cell_type": "code",
   "execution_count": 3,
   "metadata": {},
   "outputs": [],
   "source": [
    "file_vp_export = f\"{preprocessed_dir_ev}/vp_{code_insee}_2011_2024.xlsx\"\n",
    "file_vul_export = f\"{preprocessed_dir_ev}/vul_{code_insee}_2011_2024.xlsx\"\n",
    "file_pl_export = f\"{preprocessed_dir_ev}/pl_{code_insee}_2011_2024.xlsx\"\n",
    "file_tcp_export = f\"{preprocessed_dir_ev}/tcp_{code_insee}_2011_2024.xlsx\"\n",
    "\n",
    "file_vp = f\"{dir_ev}/parc_vp_com_2011_2024.xlsx\"\n",
    "file_vul = f\"{dir_ev}/parc_vul_com_2011_2024.xlsx\"\n",
    "file_pl = f\"{dir_ev}/parc_pl_com2011_2024.xlsx\"\n",
    "file_tcp = f\"{dir_ev}/parc_tcp_commune_2024.xlsx\"\n",
    "\n",
    "files_vehicules = {'vp': file_vp, 'vul': file_vul, 'pl': file_pl, 'tcp': file_tcp}\n",
    "export_files_vehicules = {'vp': file_vp_export, 'vul': file_vul_export, 'pl': file_pl_export, 'tcp': file_tcp_export}\n",
    "export_file_name = f\"{processed_dir_ev}/df_final_{code_insee}_2024.xlsx\""
   ]
  },
  {
   "cell_type": "markdown",
   "metadata": {},
   "source": [
    "#### VP (Voitures Particulières)"
   ]
  },
  {
   "cell_type": "code",
   "execution_count": 4,
   "metadata": {},
   "outputs": [],
   "source": [
    "# vp = pd.read_excel(file_vp, header=3,)\n",
    "# vp = vp.rename(columns={'2 024': 2024})\n",
    "# vp_baule = vp[vp['Code commune de résidence'] == code_insee]\n",
    "# vp_baule.to_excel(file_vp_export, index=False)"
   ]
  },
  {
   "cell_type": "markdown",
   "metadata": {},
   "source": [
    "#### VUL (Véhicules Utilitaires Légers)"
   ]
  },
  {
   "cell_type": "code",
   "execution_count": 5,
   "metadata": {},
   "outputs": [],
   "source": [
    "# vul = pd.read_excel(file_vul, header=3,)\n",
    "# vul_baule = vul[vul['Code commune de résidence'] == code_insee]\n",
    "# vul_baule.to_excel(file_vul_export, index=False)"
   ]
  },
  {
   "cell_type": "markdown",
   "metadata": {},
   "source": [
    "### PL (Poids Lourds)"
   ]
  },
  {
   "cell_type": "code",
   "execution_count": 6,
   "metadata": {},
   "outputs": [],
   "source": [
    "# pl = pd.read_excel(file_pl, header=3,)\n",
    "# pl_baule = pl[pl['Code commune de résidence'] == code_insee]\n",
    "# # pl_baule.head()\n",
    "# pl_baule.to_excel(file_pl_export, index=False)"
   ]
  },
  {
   "cell_type": "markdown",
   "metadata": {},
   "source": [
    "### TCP (Transport en Commun Collectif de Personnes)"
   ]
  },
  {
   "cell_type": "code",
   "execution_count": 7,
   "metadata": {},
   "outputs": [],
   "source": [
    "# tcp = pd.read_excel(file_tcp, header=3)\n",
    "# tcp_baule = tcp[tcp['Code commune de résidence'] == code_insee]\n",
    "# tcp_baule.head()\n",
    "# tcp_baule.to_excel(file_tcp_export, index=False)"
   ]
  },
  {
   "cell_type": "markdown",
   "metadata": {},
   "source": [
    "# Processing to get EVs"
   ]
  },
  {
   "cell_type": "code",
   "execution_count": 8,
   "metadata": {},
   "outputs": [],
   "source": [
    "# vul_city = pd.read_excel(file_vul_export)\n",
    "# vp_city = pd.read_excel(file_vp_export)\n",
    "# tcp_city = pd.read_excel(file_tcp_export)\n",
    "# pl_city = pd.read_excel(file_pl_export)"
   ]
  },
  {
   "cell_type": "code",
   "execution_count": 9,
   "metadata": {},
   "outputs": [],
   "source": [
    "# raw_vehicules = {\n",
    "#     'vp': vp_city,\n",
    "#     'vul': vul_city, \n",
    "#     'pl': pl_city,\n",
    "#     'tcp': tcp_city\n",
    "# }"
   ]
  },
  {
   "cell_type": "code",
   "execution_count": 10,
   "metadata": {},
   "outputs": [],
   "source": [
    "# process_vehicles = preprocess_vehicles_data(raw_vehicules)"
   ]
  },
  {
   "cell_type": "code",
   "execution_count": 11,
   "metadata": {},
   "outputs": [],
   "source": [
    "# process_vehicles.head()"
   ]
  },
  {
   "cell_type": "markdown",
   "metadata": {},
   "source": [
    "### Merging all types of vehicules for each year (thermique / rechargeable / Electrique)"
   ]
  },
  {
   "cell_type": "code",
   "execution_count": 12,
   "metadata": {},
   "outputs": [],
   "source": [
    "# df_grouped = process_vehicles.groupby(\"Year\", as_index=False)[\n",
    "#     [\"NB_THERMIQUE\", \"NB_RECHARGEABLE\", \"NB_EL\"]\n",
    "# ].sum()\n",
    "\n",
    "# df_grouped"
   ]
  },
  {
   "cell_type": "code",
   "execution_count": 13,
   "metadata": {},
   "outputs": [],
   "source": [
    "# df_2024 = df_grouped[df_grouped['Year'] == '2024']\n",
    "# df_2024.to_excel(export_file_name, index=False)"
   ]
  },
  {
   "cell_type": "code",
   "execution_count": 14,
   "metadata": {},
   "outputs": [],
   "source": [
    "# nb_voitures_2024 = (df_2024['NB_EL'] + df_2024['NB_RECHARGEABLE'] + df_2024['NB_THERMIQUE']).iloc[0]\n",
    "# nb_voitures_rechargeable_2024 = (df_2024['NB_EL'] + df_2024['NB_RECHARGEABLE']).iloc[0]\n",
    "# ratio_2024 = nb_voitures_rechargeable_2024 / nb_voitures_2024\n",
    "# print(nb_voitures_rechargeable_2024)\n",
    "# print(nb_voitures_2024)\n",
    "# print(ratio_2024)"
   ]
  },
  {
   "cell_type": "code",
   "execution_count": 16,
   "metadata": {},
   "outputs": [
    {
     "name": "stdout",
     "output_type": "stream",
     "text": [
      "Processing vehicule dataset (it may take around 10min)...\n",
      "Processing vp...\n"
     ]
    },
    {
     "name": "stdout",
     "output_type": "stream",
     "text": [
      "Processing vul...\n",
      "Processing pl...\n",
      "Processing tcp...\n",
      "Merging data...\n"
     ]
    },
    {
     "name": "stderr",
     "output_type": "stream",
     "text": [
      "  0%|          | 0/4 [00:00<?, ?it/s]c:\\Users\\eliot\\Documents\\M2DS\\Capstone\\Code\\packaged\\utils_data.py:144: SettingWithCopyWarning: \n",
      "A value is trying to be set on a copy of a slice from a DataFrame.\n",
      "Try using .loc[row_indexer,col_indexer] = value instead\n",
      "\n",
      "See the caveats in the documentation: https://pandas.pydata.org/pandas-docs/stable/user_guide/indexing.html#returning-a-view-versus-a-copy\n",
      "  df[\"type_vhcl\"] = type_vhcl\n",
      "c:\\Users\\eliot\\Documents\\M2DS\\Capstone\\Code\\packaged\\utils_data.py:144: SettingWithCopyWarning: \n",
      "A value is trying to be set on a copy of a slice from a DataFrame.\n",
      "Try using .loc[row_indexer,col_indexer] = value instead\n",
      "\n",
      "See the caveats in the documentation: https://pandas.pydata.org/pandas-docs/stable/user_guide/indexing.html#returning-a-view-versus-a-copy\n",
      "  df[\"type_vhcl\"] = type_vhcl\n",
      "c:\\Users\\eliot\\Documents\\M2DS\\Capstone\\Code\\packaged\\utils_data.py:144: SettingWithCopyWarning: \n",
      "A value is trying to be set on a copy of a slice from a DataFrame.\n",
      "Try using .loc[row_indexer,col_indexer] = value instead\n",
      "\n",
      "See the caveats in the documentation: https://pandas.pydata.org/pandas-docs/stable/user_guide/indexing.html#returning-a-view-versus-a-copy\n",
      "  df[\"type_vhcl\"] = type_vhcl\n",
      "c:\\Users\\eliot\\Documents\\M2DS\\Capstone\\Code\\packaged\\utils_data.py:144: SettingWithCopyWarning: \n",
      "A value is trying to be set on a copy of a slice from a DataFrame.\n",
      "Try using .loc[row_indexer,col_indexer] = value instead\n",
      "\n",
      "See the caveats in the documentation: https://pandas.pydata.org/pandas-docs/stable/user_guide/indexing.html#returning-a-view-versus-a-copy\n",
      "  df[\"type_vhcl\"] = type_vhcl\n",
      "100%|██████████| 4/4 [00:00<00:00, 49.57it/s]"
     ]
    },
    {
     "name": "stdout",
     "output_type": "stream",
     "text": [
      "Data saved!\n"
     ]
    },
    {
     "name": "stderr",
     "output_type": "stream",
     "text": [
      "\n"
     ]
    }
   ],
   "source": [
    "df = get_vehicles_city(code_insee, files_vehicules, export_files_vehicules, export_file_name)"
   ]
  },
  {
   "cell_type": "code",
   "execution_count": 19,
   "metadata": {},
   "outputs": [
    {
     "data": {
      "text/html": [
       "<div>\n",
       "<style scoped>\n",
       "    .dataframe tbody tr th:only-of-type {\n",
       "        vertical-align: middle;\n",
       "    }\n",
       "\n",
       "    .dataframe tbody tr th {\n",
       "        vertical-align: top;\n",
       "    }\n",
       "\n",
       "    .dataframe thead th {\n",
       "        text-align: right;\n",
       "    }\n",
       "</style>\n",
       "<table border=\"1\" class=\"dataframe\">\n",
       "  <thead>\n",
       "    <tr style=\"text-align: right;\">\n",
       "      <th>Carburant</th>\n",
       "      <th>Year</th>\n",
       "      <th>NB_THERMIQUE</th>\n",
       "      <th>NB_RECHARGEABLE</th>\n",
       "      <th>NB_EL</th>\n",
       "    </tr>\n",
       "  </thead>\n",
       "  <tbody>\n",
       "    <tr>\n",
       "      <th>13</th>\n",
       "      <td>2024</td>\n",
       "      <td>14566.64</td>\n",
       "      <td>301.585</td>\n",
       "      <td>399.273</td>\n",
       "    </tr>\n",
       "  </tbody>\n",
       "</table>\n",
       "</div>"
      ],
      "text/plain": [
       "Carburant  Year  NB_THERMIQUE  NB_RECHARGEABLE    NB_EL\n",
       "13         2024      14566.64          301.585  399.273"
      ]
     },
     "execution_count": 19,
     "metadata": {},
     "output_type": "execute_result"
    }
   ],
   "source": [
    "df"
   ]
  }
 ],
 "metadata": {
  "kernelspec": {
   "display_name": "base",
   "language": "python",
   "name": "python3"
  },
  "language_info": {
   "codemirror_mode": {
    "name": "ipython",
    "version": 3
   },
   "file_extension": ".py",
   "mimetype": "text/x-python",
   "name": "python",
   "nbconvert_exporter": "python",
   "pygments_lexer": "ipython3",
   "version": "3.12.4"
  }
 },
 "nbformat": 4,
 "nbformat_minor": 2
}
