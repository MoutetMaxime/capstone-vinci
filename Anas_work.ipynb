{
 "cells": [
  {
   "cell_type": "markdown",
   "metadata": {},
   "source": [
    "# <a id='toc1_'></a>[Anas Submission](#toc0_)"
   ]
  },
  {
   "cell_type": "code",
   "execution_count": 1,
   "metadata": {},
   "outputs": [],
   "source": [
    "# Necessary imports\n",
    "import pandas as pd\n",
    "import numpy as np\n",
    "import xgboost as xgb\n",
    "import optuna\n",
    "from sklearn.model_selection import train_test_split\n",
    "from sklearn.metrics import average_precision_score\n",
    "from imblearn.ensemble import BalancedRandomForestClassifier\n",
    "import matplotlib.pyplot as plt\n",
    "import seaborn as sns\n",
    "import category_encoders as ce  # Import category_encoders and alias it as ce\n",
    "from imblearn.over_sampling import ADASYN\n",
    "\n",
    "# Import models\n",
    "from sklearn.linear_model import LogisticRegression\n",
    "from sklearn.ensemble import RandomForestClassifier\n",
    "from sklearn.svm import SVC\n",
    "from sklearn.discriminant_analysis import QuadraticDiscriminantAnalysis"
   ]
  },
  {
   "cell_type": "markdown",
   "metadata": {},
   "source": [
    "**Table of contents**<a id='toc0_'></a>    \n",
    "- [Anas Submission](#toc1_)    \n",
    "- [Understanding the Data](#toc2_)    \n",
    "  - [What is considered as a fraudulent banking operation ?](#toc2_1_)    \n",
    "  - [Load Data](#toc2_2_)    \n",
    "  - [Target distribution](#toc2_3_)    \n",
    "- [Pre-Processing](#toc3_)    \n",
    "  - [Transform into a long format](#toc3_1_)    \n",
    "  - [Split the data](#toc3_2_)    \n",
    "  - [Encoding](#toc3_3_)    \n",
    "- [Predictions and experimentations](#toc4_)    \n",
    "  - [Logistic Classifier](#toc4_1_)    \n",
    "  - [QDA CLassifier](#toc4_2_)    \n",
    "  - [SVC](#toc4_3_)    \n",
    "  - [XGBoost and Random Forest Classifier](#toc4_4_)    \n",
    "- [Whole Pipeline & Y_Test generation](#toc5_)    \n",
    "- [Summary](#toc6_)    \n",
    "\n",
    "<!-- vscode-jupyter-toc-config\n",
    "\tnumbering=false\n",
    "\tanchor=true\n",
    "\tflat=false\n",
    "\tminLevel=1\n",
    "\tmaxLevel=6\n",
    "\t/vscode-jupyter-toc-config -->\n",
    "<!-- THIS CELL WILL BE REPLACED ON TOC UPDATE. DO NOT WRITE YOUR TEXT IN THIS CELL -->"
   ]
  },
  {
   "cell_type": "markdown",
   "metadata": {},
   "source": [
    "----------"
   ]
  },
  {
   "cell_type": "markdown",
   "metadata": {},
   "source": [
    "# <a id='toc2_'></a>[Understanding the Data](#toc0_)"
   ]
  },
  {
   "cell_type": "markdown",
   "metadata": {},
   "source": [
    "## <a id='toc2_1_'></a>[What is considered as a fraudulent banking operation ?](#toc0_)"
   ]
  },
  {
   "cell_type": "markdown",
   "metadata": {},
   "source": [
    "A fraudulent banking operation typically refers to any unauthorized or illegal activity conducted through a bank account or banking system. This can include a wide range of activities, such as:\n",
    "\n",
    "1. **Identity Theft**: Using someone else's personal information to open accounts or make transactions.\n",
    "2. **Account Takeover**: Gaining unauthorized access to someone else's account to make unauthorized transactions.\n",
    "3. **Money Laundering**: Moving illegally obtained funds through the banking system to make them appear legitimate.\n",
    "4. **Credit Card Fraud**: Using stolen credit card information to make unauthorized purchases.\n",
    "5. **Phishing**: Deceptive attempts to obtain sensitive information such as usernames, passwords, and credit card details by masquerading as a trustworthy entity.\n",
    "6. **Wire Fraud**: Using electronic communications to defraud individuals or entities of money.\n",
    "7. **Check Fraud**: Using counterfeit or altered checks to withdraw funds from an account.\n",
    "8. **Loan Fraud**: Providing false information to obtain a loan or using loan proceeds for unauthorized purposes.\n"
   ]
  },
  {
   "cell_type": "markdown",
   "metadata": {},
   "source": [
    "## <a id='toc2_2_'></a>[Load Data](#toc0_)"
   ]
  },
  {
   "cell_type": "code",
   "execution_count": 13,
   "metadata": {},
   "outputs": [
    {
     "name": "stderr",
     "output_type": "stream",
     "text": [
      "C:\\Users\\asus\\AppData\\Local\\Temp\\ipykernel_82792\\1872497572.py:6: DtypeWarning: Columns (21,22,23,24,69,70,71,72,93,94,95,96,97,104,105,106,107,108,109,110,111,112,113,114,115,116,117,118,119,120) have mixed types. Specify dtype option on import or set low_memory=False.\n",
      "  X_train_df = pd.read_csv('X_train.csv')\n",
      "C:\\Users\\asus\\AppData\\Local\\Temp\\ipykernel_82792\\1872497572.py:8: DtypeWarning: Columns (20,21,22,23,24,68,69,70,71,72,92,93,94,95,96,97,106,107,108,109,110,111,112,113,114,115,116,117,118) have mixed types. Specify dtype option on import or set low_memory=False.\n",
      "  X_test_df = pd.read_csv('X_test.csv')\n"
     ]
    }
   ],
   "source": [
    "# Let's load our dataset in numpy arrays\n",
    "\n",
    "# for visualization, we also load them in a pandas dataframes\n",
    "\n",
    "# Load the dataset\n",
    "X_train_df = pd.read_csv('X_train.csv')\n",
    "Y_train_df = pd.read_csv('Y_train.csv')\n",
    "X_test_df = pd.read_csv('X_test.csv')\n",
    "Y_test_df = pd.read_csv('Y_test.csv')\n"
   ]
  },
  {
   "cell_type": "code",
   "execution_count": 14,
   "metadata": {},
   "outputs": [
    {
     "data": {
      "text/html": [
       "<div>\n",
       "<style scoped>\n",
       "    .dataframe tbody tr th:only-of-type {\n",
       "        vertical-align: middle;\n",
       "    }\n",
       "\n",
       "    .dataframe tbody tr th {\n",
       "        vertical-align: top;\n",
       "    }\n",
       "\n",
       "    .dataframe thead th {\n",
       "        text-align: right;\n",
       "    }\n",
       "</style>\n",
       "<table border=\"1\" class=\"dataframe\">\n",
       "  <thead>\n",
       "    <tr style=\"text-align: right;\">\n",
       "      <th></th>\n",
       "      <th>ID</th>\n",
       "      <th>item1</th>\n",
       "      <th>item2</th>\n",
       "      <th>item3</th>\n",
       "      <th>item4</th>\n",
       "      <th>item5</th>\n",
       "      <th>item6</th>\n",
       "      <th>item7</th>\n",
       "      <th>item8</th>\n",
       "      <th>item9</th>\n",
       "      <th>...</th>\n",
       "      <th>Nbr_of_prod_purchas16</th>\n",
       "      <th>Nbr_of_prod_purchas17</th>\n",
       "      <th>Nbr_of_prod_purchas18</th>\n",
       "      <th>Nbr_of_prod_purchas19</th>\n",
       "      <th>Nbr_of_prod_purchas20</th>\n",
       "      <th>Nbr_of_prod_purchas21</th>\n",
       "      <th>Nbr_of_prod_purchas22</th>\n",
       "      <th>Nbr_of_prod_purchas23</th>\n",
       "      <th>Nbr_of_prod_purchas24</th>\n",
       "      <th>Nb_of_items</th>\n",
       "    </tr>\n",
       "  </thead>\n",
       "  <tbody>\n",
       "    <tr>\n",
       "      <th>0</th>\n",
       "      <td>85517</td>\n",
       "      <td>COMPUTERS</td>\n",
       "      <td>NaN</td>\n",
       "      <td>NaN</td>\n",
       "      <td>NaN</td>\n",
       "      <td>NaN</td>\n",
       "      <td>NaN</td>\n",
       "      <td>NaN</td>\n",
       "      <td>NaN</td>\n",
       "      <td>NaN</td>\n",
       "      <td>...</td>\n",
       "      <td>NaN</td>\n",
       "      <td>NaN</td>\n",
       "      <td>NaN</td>\n",
       "      <td>NaN</td>\n",
       "      <td>NaN</td>\n",
       "      <td>NaN</td>\n",
       "      <td>NaN</td>\n",
       "      <td>NaN</td>\n",
       "      <td>NaN</td>\n",
       "      <td>1.0</td>\n",
       "    </tr>\n",
       "    <tr>\n",
       "      <th>1</th>\n",
       "      <td>51113</td>\n",
       "      <td>COMPUTER PERIPHERALS ACCESSORIES</td>\n",
       "      <td>NaN</td>\n",
       "      <td>NaN</td>\n",
       "      <td>NaN</td>\n",
       "      <td>NaN</td>\n",
       "      <td>NaN</td>\n",
       "      <td>NaN</td>\n",
       "      <td>NaN</td>\n",
       "      <td>NaN</td>\n",
       "      <td>...</td>\n",
       "      <td>NaN</td>\n",
       "      <td>NaN</td>\n",
       "      <td>NaN</td>\n",
       "      <td>NaN</td>\n",
       "      <td>NaN</td>\n",
       "      <td>NaN</td>\n",
       "      <td>NaN</td>\n",
       "      <td>NaN</td>\n",
       "      <td>NaN</td>\n",
       "      <td>1.0</td>\n",
       "    </tr>\n",
       "    <tr>\n",
       "      <th>2</th>\n",
       "      <td>83008</td>\n",
       "      <td>TELEVISIONS HOME CINEMA</td>\n",
       "      <td>NaN</td>\n",
       "      <td>NaN</td>\n",
       "      <td>NaN</td>\n",
       "      <td>NaN</td>\n",
       "      <td>NaN</td>\n",
       "      <td>NaN</td>\n",
       "      <td>NaN</td>\n",
       "      <td>NaN</td>\n",
       "      <td>...</td>\n",
       "      <td>NaN</td>\n",
       "      <td>NaN</td>\n",
       "      <td>NaN</td>\n",
       "      <td>NaN</td>\n",
       "      <td>NaN</td>\n",
       "      <td>NaN</td>\n",
       "      <td>NaN</td>\n",
       "      <td>NaN</td>\n",
       "      <td>NaN</td>\n",
       "      <td>1.0</td>\n",
       "    </tr>\n",
       "    <tr>\n",
       "      <th>3</th>\n",
       "      <td>78712</td>\n",
       "      <td>COMPUTERS</td>\n",
       "      <td>COMPUTER PERIPHERALS ACCESSORIES</td>\n",
       "      <td>NaN</td>\n",
       "      <td>NaN</td>\n",
       "      <td>NaN</td>\n",
       "      <td>NaN</td>\n",
       "      <td>NaN</td>\n",
       "      <td>NaN</td>\n",
       "      <td>NaN</td>\n",
       "      <td>...</td>\n",
       "      <td>NaN</td>\n",
       "      <td>NaN</td>\n",
       "      <td>NaN</td>\n",
       "      <td>NaN</td>\n",
       "      <td>NaN</td>\n",
       "      <td>NaN</td>\n",
       "      <td>NaN</td>\n",
       "      <td>NaN</td>\n",
       "      <td>NaN</td>\n",
       "      <td>2.0</td>\n",
       "    </tr>\n",
       "    <tr>\n",
       "      <th>4</th>\n",
       "      <td>77846</td>\n",
       "      <td>TELEVISIONS HOME CINEMA</td>\n",
       "      <td>NaN</td>\n",
       "      <td>NaN</td>\n",
       "      <td>NaN</td>\n",
       "      <td>NaN</td>\n",
       "      <td>NaN</td>\n",
       "      <td>NaN</td>\n",
       "      <td>NaN</td>\n",
       "      <td>NaN</td>\n",
       "      <td>...</td>\n",
       "      <td>NaN</td>\n",
       "      <td>NaN</td>\n",
       "      <td>NaN</td>\n",
       "      <td>NaN</td>\n",
       "      <td>NaN</td>\n",
       "      <td>NaN</td>\n",
       "      <td>NaN</td>\n",
       "      <td>NaN</td>\n",
       "      <td>NaN</td>\n",
       "      <td>1.0</td>\n",
       "    </tr>\n",
       "    <tr>\n",
       "      <th>...</th>\n",
       "      <td>...</td>\n",
       "      <td>...</td>\n",
       "      <td>...</td>\n",
       "      <td>...</td>\n",
       "      <td>...</td>\n",
       "      <td>...</td>\n",
       "      <td>...</td>\n",
       "      <td>...</td>\n",
       "      <td>...</td>\n",
       "      <td>...</td>\n",
       "      <td>...</td>\n",
       "      <td>...</td>\n",
       "      <td>...</td>\n",
       "      <td>...</td>\n",
       "      <td>...</td>\n",
       "      <td>...</td>\n",
       "      <td>...</td>\n",
       "      <td>...</td>\n",
       "      <td>...</td>\n",
       "      <td>...</td>\n",
       "      <td>...</td>\n",
       "    </tr>\n",
       "    <tr>\n",
       "      <th>92785</th>\n",
       "      <td>21243</td>\n",
       "      <td>COMPUTER PERIPHERALS ACCESSORIES</td>\n",
       "      <td>FULFILMENT CHARGE</td>\n",
       "      <td>NaN</td>\n",
       "      <td>NaN</td>\n",
       "      <td>NaN</td>\n",
       "      <td>NaN</td>\n",
       "      <td>NaN</td>\n",
       "      <td>NaN</td>\n",
       "      <td>NaN</td>\n",
       "      <td>...</td>\n",
       "      <td>NaN</td>\n",
       "      <td>NaN</td>\n",
       "      <td>NaN</td>\n",
       "      <td>NaN</td>\n",
       "      <td>NaN</td>\n",
       "      <td>NaN</td>\n",
       "      <td>NaN</td>\n",
       "      <td>NaN</td>\n",
       "      <td>NaN</td>\n",
       "      <td>2.0</td>\n",
       "    </tr>\n",
       "    <tr>\n",
       "      <th>92786</th>\n",
       "      <td>45891</td>\n",
       "      <td>COMPUTERS</td>\n",
       "      <td>NaN</td>\n",
       "      <td>NaN</td>\n",
       "      <td>NaN</td>\n",
       "      <td>NaN</td>\n",
       "      <td>NaN</td>\n",
       "      <td>NaN</td>\n",
       "      <td>NaN</td>\n",
       "      <td>NaN</td>\n",
       "      <td>...</td>\n",
       "      <td>NaN</td>\n",
       "      <td>NaN</td>\n",
       "      <td>NaN</td>\n",
       "      <td>NaN</td>\n",
       "      <td>NaN</td>\n",
       "      <td>NaN</td>\n",
       "      <td>NaN</td>\n",
       "      <td>NaN</td>\n",
       "      <td>NaN</td>\n",
       "      <td>1.0</td>\n",
       "    </tr>\n",
       "    <tr>\n",
       "      <th>92787</th>\n",
       "      <td>42613</td>\n",
       "      <td>BEDROOM FURNITURE</td>\n",
       "      <td>BEDROOM FURNITURE</td>\n",
       "      <td>OUTDOOR FURNITURE</td>\n",
       "      <td>NaN</td>\n",
       "      <td>NaN</td>\n",
       "      <td>NaN</td>\n",
       "      <td>NaN</td>\n",
       "      <td>NaN</td>\n",
       "      <td>NaN</td>\n",
       "      <td>...</td>\n",
       "      <td>NaN</td>\n",
       "      <td>NaN</td>\n",
       "      <td>NaN</td>\n",
       "      <td>NaN</td>\n",
       "      <td>NaN</td>\n",
       "      <td>NaN</td>\n",
       "      <td>NaN</td>\n",
       "      <td>NaN</td>\n",
       "      <td>NaN</td>\n",
       "      <td>3.0</td>\n",
       "    </tr>\n",
       "    <tr>\n",
       "      <th>92788</th>\n",
       "      <td>43567</td>\n",
       "      <td>COMPUTERS</td>\n",
       "      <td>COMPUTERS</td>\n",
       "      <td>NaN</td>\n",
       "      <td>NaN</td>\n",
       "      <td>NaN</td>\n",
       "      <td>NaN</td>\n",
       "      <td>NaN</td>\n",
       "      <td>NaN</td>\n",
       "      <td>NaN</td>\n",
       "      <td>...</td>\n",
       "      <td>NaN</td>\n",
       "      <td>NaN</td>\n",
       "      <td>NaN</td>\n",
       "      <td>NaN</td>\n",
       "      <td>NaN</td>\n",
       "      <td>NaN</td>\n",
       "      <td>NaN</td>\n",
       "      <td>NaN</td>\n",
       "      <td>NaN</td>\n",
       "      <td>2.0</td>\n",
       "    </tr>\n",
       "    <tr>\n",
       "      <th>92789</th>\n",
       "      <td>68268</td>\n",
       "      <td>TELEVISIONS HOME CINEMA</td>\n",
       "      <td>NaN</td>\n",
       "      <td>NaN</td>\n",
       "      <td>NaN</td>\n",
       "      <td>NaN</td>\n",
       "      <td>NaN</td>\n",
       "      <td>NaN</td>\n",
       "      <td>NaN</td>\n",
       "      <td>NaN</td>\n",
       "      <td>...</td>\n",
       "      <td>NaN</td>\n",
       "      <td>NaN</td>\n",
       "      <td>NaN</td>\n",
       "      <td>NaN</td>\n",
       "      <td>NaN</td>\n",
       "      <td>NaN</td>\n",
       "      <td>NaN</td>\n",
       "      <td>NaN</td>\n",
       "      <td>NaN</td>\n",
       "      <td>1.0</td>\n",
       "    </tr>\n",
       "  </tbody>\n",
       "</table>\n",
       "<p>92790 rows × 146 columns</p>\n",
       "</div>"
      ],
      "text/plain": [
       "          ID                             item1  \\\n",
       "0      85517                         COMPUTERS   \n",
       "1      51113  COMPUTER PERIPHERALS ACCESSORIES   \n",
       "2      83008           TELEVISIONS HOME CINEMA   \n",
       "3      78712                         COMPUTERS   \n",
       "4      77846           TELEVISIONS HOME CINEMA   \n",
       "...      ...                               ...   \n",
       "92785  21243  COMPUTER PERIPHERALS ACCESSORIES   \n",
       "92786  45891                         COMPUTERS   \n",
       "92787  42613                 BEDROOM FURNITURE   \n",
       "92788  43567                         COMPUTERS   \n",
       "92789  68268           TELEVISIONS HOME CINEMA   \n",
       "\n",
       "                                  item2              item3 item4 item5 item6  \\\n",
       "0                                   NaN                NaN   NaN   NaN   NaN   \n",
       "1                                   NaN                NaN   NaN   NaN   NaN   \n",
       "2                                   NaN                NaN   NaN   NaN   NaN   \n",
       "3      COMPUTER PERIPHERALS ACCESSORIES                NaN   NaN   NaN   NaN   \n",
       "4                                   NaN                NaN   NaN   NaN   NaN   \n",
       "...                                 ...                ...   ...   ...   ...   \n",
       "92785                 FULFILMENT CHARGE                NaN   NaN   NaN   NaN   \n",
       "92786                               NaN                NaN   NaN   NaN   NaN   \n",
       "92787                 BEDROOM FURNITURE  OUTDOOR FURNITURE   NaN   NaN   NaN   \n",
       "92788                         COMPUTERS                NaN   NaN   NaN   NaN   \n",
       "92789                               NaN                NaN   NaN   NaN   NaN   \n",
       "\n",
       "      item7 item8 item9  ... Nbr_of_prod_purchas16 Nbr_of_prod_purchas17  \\\n",
       "0       NaN   NaN   NaN  ...                   NaN                   NaN   \n",
       "1       NaN   NaN   NaN  ...                   NaN                   NaN   \n",
       "2       NaN   NaN   NaN  ...                   NaN                   NaN   \n",
       "3       NaN   NaN   NaN  ...                   NaN                   NaN   \n",
       "4       NaN   NaN   NaN  ...                   NaN                   NaN   \n",
       "...     ...   ...   ...  ...                   ...                   ...   \n",
       "92785   NaN   NaN   NaN  ...                   NaN                   NaN   \n",
       "92786   NaN   NaN   NaN  ...                   NaN                   NaN   \n",
       "92787   NaN   NaN   NaN  ...                   NaN                   NaN   \n",
       "92788   NaN   NaN   NaN  ...                   NaN                   NaN   \n",
       "92789   NaN   NaN   NaN  ...                   NaN                   NaN   \n",
       "\n",
       "      Nbr_of_prod_purchas18 Nbr_of_prod_purchas19 Nbr_of_prod_purchas20  \\\n",
       "0                       NaN                   NaN                   NaN   \n",
       "1                       NaN                   NaN                   NaN   \n",
       "2                       NaN                   NaN                   NaN   \n",
       "3                       NaN                   NaN                   NaN   \n",
       "4                       NaN                   NaN                   NaN   \n",
       "...                     ...                   ...                   ...   \n",
       "92785                   NaN                   NaN                   NaN   \n",
       "92786                   NaN                   NaN                   NaN   \n",
       "92787                   NaN                   NaN                   NaN   \n",
       "92788                   NaN                   NaN                   NaN   \n",
       "92789                   NaN                   NaN                   NaN   \n",
       "\n",
       "      Nbr_of_prod_purchas21 Nbr_of_prod_purchas22 Nbr_of_prod_purchas23  \\\n",
       "0                       NaN                   NaN                   NaN   \n",
       "1                       NaN                   NaN                   NaN   \n",
       "2                       NaN                   NaN                   NaN   \n",
       "3                       NaN                   NaN                   NaN   \n",
       "4                       NaN                   NaN                   NaN   \n",
       "...                     ...                   ...                   ...   \n",
       "92785                   NaN                   NaN                   NaN   \n",
       "92786                   NaN                   NaN                   NaN   \n",
       "92787                   NaN                   NaN                   NaN   \n",
       "92788                   NaN                   NaN                   NaN   \n",
       "92789                   NaN                   NaN                   NaN   \n",
       "\n",
       "      Nbr_of_prod_purchas24 Nb_of_items  \n",
       "0                       NaN         1.0  \n",
       "1                       NaN         1.0  \n",
       "2                       NaN         1.0  \n",
       "3                       NaN         2.0  \n",
       "4                       NaN         1.0  \n",
       "...                     ...         ...  \n",
       "92785                   NaN         2.0  \n",
       "92786                   NaN         1.0  \n",
       "92787                   NaN         3.0  \n",
       "92788                   NaN         2.0  \n",
       "92789                   NaN         1.0  \n",
       "\n",
       "[92790 rows x 146 columns]"
      ]
     },
     "execution_count": 14,
     "metadata": {},
     "output_type": "execute_result"
    }
   ],
   "source": [
    "X_train_df"
   ]
  },
  {
   "cell_type": "code",
   "execution_count": 15,
   "metadata": {},
   "outputs": [
    {
     "data": {
      "text/html": [
       "<div>\n",
       "<style scoped>\n",
       "    .dataframe tbody tr th:only-of-type {\n",
       "        vertical-align: middle;\n",
       "    }\n",
       "\n",
       "    .dataframe tbody tr th {\n",
       "        vertical-align: top;\n",
       "    }\n",
       "\n",
       "    .dataframe thead th {\n",
       "        text-align: right;\n",
       "    }\n",
       "</style>\n",
       "<table border=\"1\" class=\"dataframe\">\n",
       "  <thead>\n",
       "    <tr style=\"text-align: right;\">\n",
       "      <th></th>\n",
       "      <th>index</th>\n",
       "      <th>ID</th>\n",
       "      <th>fraud_flag</th>\n",
       "    </tr>\n",
       "  </thead>\n",
       "  <tbody>\n",
       "    <tr>\n",
       "      <th>0</th>\n",
       "      <td>0</td>\n",
       "      <td>85517</td>\n",
       "      <td>0</td>\n",
       "    </tr>\n",
       "    <tr>\n",
       "      <th>1</th>\n",
       "      <td>1</td>\n",
       "      <td>51113</td>\n",
       "      <td>0</td>\n",
       "    </tr>\n",
       "    <tr>\n",
       "      <th>2</th>\n",
       "      <td>2</td>\n",
       "      <td>83008</td>\n",
       "      <td>0</td>\n",
       "    </tr>\n",
       "    <tr>\n",
       "      <th>3</th>\n",
       "      <td>3</td>\n",
       "      <td>78712</td>\n",
       "      <td>0</td>\n",
       "    </tr>\n",
       "    <tr>\n",
       "      <th>4</th>\n",
       "      <td>4</td>\n",
       "      <td>77846</td>\n",
       "      <td>0</td>\n",
       "    </tr>\n",
       "  </tbody>\n",
       "</table>\n",
       "</div>"
      ],
      "text/plain": [
       "   index     ID  fraud_flag\n",
       "0      0  85517           0\n",
       "1      1  51113           0\n",
       "2      2  83008           0\n",
       "3      3  78712           0\n",
       "4      4  77846           0"
      ]
     },
     "execution_count": 15,
     "metadata": {},
     "output_type": "execute_result"
    }
   ],
   "source": [
    "Y_train_df.head()"
   ]
  },
  {
   "cell_type": "code",
   "execution_count": 16,
   "metadata": {},
   "outputs": [
    {
     "name": "stdout",
     "output_type": "stream",
     "text": [
      "<class 'pandas.core.frame.DataFrame'>\n",
      "RangeIndex: 92790 entries, 0 to 92789\n",
      "Columns: 146 entries, ID to Nb_of_items\n",
      "dtypes: float64(49), int64(1), object(96)\n",
      "memory usage: 103.4+ MB\n"
     ]
    }
   ],
   "source": [
    "X_train_df.info()"
   ]
  },
  {
   "cell_type": "markdown",
   "metadata": {},
   "source": [
    "## <a id='toc2_3_'></a>[Target distribution](#toc0_)"
   ]
  },
  {
   "cell_type": "code",
   "execution_count": 17,
   "metadata": {},
   "outputs": [
    {
     "data": {
      "image/png": "[encoded data removed]",
      "text/plain": [
       "<Figure size 640x480 with 1 Axes>"
      ]
     },
     "metadata": {},
     "output_type": "display_data"
    },
    {
     "name": "stdout",
     "output_type": "stream",
     "text": [
      "The fraud rate is:  1.4214893846319647 %\n"
     ]
    }
   ],
   "source": [
    "#Let's look at the target distribution\n",
    "\n",
    "sns.countplot(x = 'fraud_flag',data = Y_train_df)\n",
    "plt.show()\n",
    "\n",
    "print(\"The fraud rate is: \", Y_train_df['fraud_flag'].sum()/Y_train_df['fraud_flag'].count()*100, \"%\")"
   ]
  },
  {
   "cell_type": "markdown",
   "metadata": {},
   "source": [
    "- As expected from a **fraud detection problem**, our dataset suffers from a **Huge data imbalance !**. This is due to the fact that in real life, fraudulent transactions represents a very small fraction of all the operations that are being done."
   ]
  },
  {
   "cell_type": "markdown",
   "metadata": {},
   "source": [
    "- Each Row of our dataset represents a basket that can contain up to **24 different items**. But as we've seen on the previous dataframe, a lot data is missing (because of only 1 or 2 items being recorded on a lot of baskets).   \n",
    "Let's take a closer look about `the presence of missing data.` "
   ]
  },
  {
   "cell_type": "code",
   "execution_count": 18,
   "metadata": {},
   "outputs": [
    {
     "data": {
      "text/plain": [
       "<Axes: title={'center': 'Percentage of nan values for each item'}, ylabel='Percentage of nan values'>"
      ]
     },
     "execution_count": 18,
     "metadata": {},
     "output_type": "execute_result"
    },
    {
     "data": {
      "image/png": "[encoded data removed]",
      "text/plain": [
       "<Figure size 1000x500 with 1 Axes>"
      ]
     },
     "metadata": {},
     "output_type": "display_data"
    }
   ],
   "source": [
    "# Let's look at the evolution of the nan values in the dataset for the items\n",
    "\n",
    "nan_values = X_train_df.iloc[:,1:24].isna().sum()\n",
    "percentages = nan_values/len(X_train_df)*100\n",
    "percentages.plot(kind='bar', figsize=(10,5), title='Percentage of nan values for each item',ylabel='Percentage of nan values')\n"
   ]
  },
  {
   "cell_type": "code",
   "execution_count": 19,
   "metadata": {},
   "outputs": [
    {
     "data": {
      "text/plain": [
       "<Axes: title={'center': 'Percentage of nan values for each item for frauds'}, ylabel='Percentage of nan values'>"
      ]
     },
     "execution_count": 19,
     "metadata": {},
     "output_type": "execute_result"
    },
    {
     "data": {
      "image/png": "[encoded data removed]",
      "text/plain": [
       "<Figure size 1000x500 with 1 Axes>"
      ]
     },
     "metadata": {},
     "output_type": "display_data"
    }
   ],
   "source": [
    "#Let's do the same thing but only for data with frauds\n",
    "\n",
    "X_train_df_fraud = X_train_df.copy()\n",
    "X_train_df_fraud['fraud_flag'] = Y_train_df['fraud_flag']\n",
    "X_train_df_fraud = X_train_df[X_train_df_fraud['fraud_flag'] == 1]\n",
    "\n",
    "nan_values = X_train_df_fraud.iloc[:,1:24].isna().sum()\n",
    "percentages = nan_values/len(X_train_df_fraud)*100\n",
    "percentages.plot(kind='bar', figsize=(10,5), title='Percentage of nan values for each item for frauds',ylabel='Percentage of nan values')\n",
    "\n",
    "\n",
    "\n"
   ]
  },
  {
   "cell_type": "code",
   "execution_count": 20,
   "metadata": {},
   "outputs": [
    {
     "name": "stdout",
     "output_type": "stream",
     "text": [
      "The proportion of NaN values in the dataset is:  92.34765740311221 %\n"
     ]
    }
   ],
   "source": [
    "# Let's compute the proportion of NaN values in our dataset\n",
    "\n",
    "nan_values = X_train_df.iloc[:, 1:24].isna().sum()\n",
    "\n",
    "total_nan_values = nan_values.sum()\n",
    "\n",
    "total_values = X_train_df.iloc[:, 1:24].size\n",
    "\n",
    "proportion_nan_values = total_nan_values / total_values * 100\n",
    "\n",
    "print(\"The proportion of NaN values in the dataset is: \", proportion_nan_values, \"%\")"
   ]
  },
  {
   "cell_type": "markdown",
   "metadata": {},
   "source": [
    "**Overview :** "
   ]
  },
  {
   "cell_type": "markdown",
   "metadata": {},
   "source": [
    "- Looking at our dataset, we see that `half of our entries only include 1 item`, and that `90%` of our entries don't have more than `two items`, which makes our dataset filled with `Nan Values` that we will need to handle.\n",
    "(Note: this is consistent even if we only take into account the `fraudulent baskets`).\n",
    "\n",
    "- We can also see that our dataset suffers from a huge imbalance. Less than `1%` of our entries show `fraudulent purchases`. `Data Imbalance` is something that we will have to take into account and deal with, especially when we would use simple models. \n",
    "\n",
    "- The evaluation metrics used is important, since `accuracy` for example would be about `99%` for a simple function that assigns the class `0` for all of our baskets. This is why the proposed `PR-AUC` metric is **the most accurate one** in order for us to judge the performance of our models."
   ]
  },
  {
   "cell_type": "markdown",
   "metadata": {},
   "source": [
    "**Next step :**"
   ]
  },
  {
   "cell_type": "markdown",
   "metadata": {},
   "source": [
    "- As we saw, the crushing majority (**Over 90% !!!**) of our data is made of missing values. No matter how we fill these values, the relevant informations in our dataset would be **submerged** by filling values that won't convey any information when they represent the absolute majority of possible values.\n",
    "\n",
    "- On top of that, the dataset has **a lot of features**. And if we decide to use techniques like **one-hot encoding** for the non-numerical data for instance, the size will increase drasticly.\n",
    "\n",
    "- ✅ To address these problems, we will transform our dataset from a wide format to a **long format**.   \n",
    "- Each row will record a single item. To keep a link between the different items from the same basket, we will repeat relevant features, which are : \n",
    "    - **Basket ID**: A unique identifier for each basket to group items together.\n",
    "    - **Total Basket Price**: The total price of all items in the basket.\n",
    "    - **Number of Items**: The total number of items in the basket.\n",
    "\n",
    "- This way, `we will get rid of all the missing values due to non-existent items`, and we will end-up with **less but more relevant features**\n"
   ]
  },
  {
   "cell_type": "markdown",
   "metadata": {},
   "source": [
    "# <a id='toc3_'></a>[Pre-Processing](#toc0_)"
   ]
  },
  {
   "cell_type": "markdown",
   "metadata": {},
   "source": [
    "## <a id='toc3_1_'></a>[Transform into a long format](#toc0_)\n"
   ]
  },
  {
   "cell_type": "markdown",
   "metadata": {},
   "source": [
    "**VERY IMPORTANT** : Since at the end we are going to submit our test predictions, our transformation **should keep original order of the IDs**, so that we can easily group the predictions per items before submitting a prediction per basket."
   ]
  },
  {
   "cell_type": "code",
   "execution_count": 21,
   "metadata": {},
   "outputs": [],
   "source": [
    "# Function to transform the dataset\n",
    "def transform_dataset(df, is_train=True):\n",
    "    # Store the original order of IDs\n",
    "    original_order = df[\"ID\"].tolist()\n",
    "\n",
    "    # Calculate the total_basket_price\n",
    "    cash_price_columns = [f'cash_price{i}' for i in range(1, 25)]\n",
    "    df['total_basket_price'] = df[cash_price_columns].sum(axis=1)\n",
    "\n",
    "    # Define the sets of related columns\n",
    "    item_columns = [f'item{i}' for i in range(1, 25)]\n",
    "    make_columns = [f'make{i}' for i in range(1, 25)]\n",
    "    model_columns = [f'model{i}' for i in range(1, 25)]\n",
    "    goods_code_columns = [f'goods_code{i}' for i in range(1, 25)]\n",
    "    nbr_of_prod_purchas_columns = [f'Nbr_of_prod_purchas{i}' for i in range(1, 25)]\n",
    "\n",
    "    # Melt the dataset for each set of related columns\n",
    "    melted_dfs = []\n",
    "    id_vars = ['ID', 'Nb_of_items', 'total_basket_price']\n",
    "    if is_train:\n",
    "        id_vars.append('fraud_flag')\n",
    "    for item_col, cash_price_col, make_col, model_col, goods_code_col, nbr_of_prod_purchas_col in zip(\n",
    "            item_columns, cash_price_columns, make_columns, model_columns, goods_code_columns, nbr_of_prod_purchas_columns):\n",
    "        # Check if the columns exist in the DataFrame\n",
    "        value_vars = [item_col, cash_price_col, make_col, model_col, goods_code_col, nbr_of_prod_purchas_col]\n",
    "        for col in value_vars:\n",
    "            if col not in df.columns:\n",
    "                raise KeyError(f\"Column '{col}' not found in the DataFrame\")\n",
    "        melted_df = pd.melt(df, id_vars=id_vars, value_vars=value_vars, var_name='variable', value_name='value')\n",
    "        melted_dfs.append(melted_df)\n",
    "\n",
    "    # Concatenate the melted DataFrames\n",
    "    df_long = pd.concat(melted_dfs, ignore_index=True)\n",
    "\n",
    "    # Remove NaN values\n",
    "    df_long = df_long.dropna(subset=['value'])\n",
    "\n",
    "    # Extract the item number (1, 2, 3, ...)\n",
    "    df_long[\"item_number\"] = df_long[\"variable\"].str.extract(r'(\\d+)')\n",
    "    df_long[\"variable\"] = df_long[\"variable\"].str.replace(r'\\d+', '', regex=True)  # Remove numbers\n",
    "\n",
    "    # Pivot to make each feature its own column\n",
    "    index_cols = [\"ID\", \"Nb_of_items\", \"total_basket_price\", \"item_number\"]\n",
    "    if is_train:\n",
    "        index_cols.append('fraud_flag')\n",
    "    df_final = df_long.pivot(index=index_cols, columns=\"variable\", values=\"value\").reset_index()\n",
    "\n",
    "    # Rename columns properly\n",
    "    df_final.columns.name = None  # Remove column name\n",
    "    df_final = df_final.rename(columns={\"item_\": \"item\", \"cash_price\": \"cash_price\", \"make\": \"make\", \"model\": \"model\", \n",
    "                                        \"goods_code\": \"goods_code\", \"Nbr_of_prod_purchas\": \"Nbr_of_prod_purchas\"})\n",
    "\n",
    "    # Drop rows where 'item' is NaN\n",
    "    df_final = df_final.dropna(subset=['item'])\n",
    "\n",
    "    # Ensure IDs follow the original order\n",
    "    df_final[\"ID\"] = pd.Categorical(df_final[\"ID\"], categories=original_order, ordered=True)\n",
    "    df_final = df_final.sort_values(by=[\"ID\", \"item_number\"]).reset_index(drop=True)\n",
    "\n",
    "    # Sort columns\n",
    "    if is_train:\n",
    "        columns = [\"ID\", \"Nb_of_items\", \"total_basket_price\", \"item_number\", \"item\", \"Nbr_of_prod_purchas\", \"make\", \"model\", \"goods_code\", \"cash_price\", \"fraud_flag\"]\n",
    "    else:\n",
    "        columns = [\"ID\", \"Nb_of_items\", \"total_basket_price\", \"item_number\", \"item\", \"Nbr_of_prod_purchas\", \"make\", \"model\", \"goods_code\", \"cash_price\"]\n",
    "    df_final = df_final[columns]\n",
    "\n",
    "    return df_final"
   ]
  },
  {
   "cell_type": "code",
   "execution_count": 22,
   "metadata": {},
   "outputs": [
    {
     "data": {
      "text/html": [
       "<div>\n",
       "<style scoped>\n",
       "    .dataframe tbody tr th:only-of-type {\n",
       "        vertical-align: middle;\n",
       "    }\n",
       "\n",
       "    .dataframe tbody tr th {\n",
       "        vertical-align: top;\n",
       "    }\n",
       "\n",
       "    .dataframe thead th {\n",
       "        text-align: right;\n",
       "    }\n",
       "</style>\n",
       "<table border=\"1\" class=\"dataframe\">\n",
       "  <thead>\n",
       "    <tr style=\"text-align: right;\">\n",
       "      <th></th>\n",
       "      <th>ID</th>\n",
       "      <th>Nb_of_items</th>\n",
       "      <th>total_basket_price</th>\n",
       "      <th>item_number</th>\n",
       "      <th>item</th>\n",
       "      <th>Nbr_of_prod_purchas</th>\n",
       "      <th>make</th>\n",
       "      <th>model</th>\n",
       "      <th>goods_code</th>\n",
       "      <th>cash_price</th>\n",
       "      <th>fraud_flag</th>\n",
       "    </tr>\n",
       "  </thead>\n",
       "  <tbody>\n",
       "    <tr>\n",
       "      <th>0</th>\n",
       "      <td>85517</td>\n",
       "      <td>1.0</td>\n",
       "      <td>889.0</td>\n",
       "      <td>1</td>\n",
       "      <td>COMPUTERS</td>\n",
       "      <td>1.0</td>\n",
       "      <td>APPLE</td>\n",
       "      <td>2020 APPLE MACBOOK AIR 13 3 RETINA DISPLAY M1 ...</td>\n",
       "      <td>239246776</td>\n",
       "      <td>889.0</td>\n",
       "      <td>0</td>\n",
       "    </tr>\n",
       "    <tr>\n",
       "      <th>1</th>\n",
       "      <td>51113</td>\n",
       "      <td>1.0</td>\n",
       "      <td>409.0</td>\n",
       "      <td>1</td>\n",
       "      <td>COMPUTER PERIPHERALS ACCESSORIES</td>\n",
       "      <td>1.0</td>\n",
       "      <td>APPLE</td>\n",
       "      <td>APPLE WATCH SERIES 6 GPS 44MM SPACE GREY ALUMI...</td>\n",
       "      <td>239001518</td>\n",
       "      <td>409.0</td>\n",
       "      <td>0</td>\n",
       "    </tr>\n",
       "    <tr>\n",
       "      <th>2</th>\n",
       "      <td>83008</td>\n",
       "      <td>1.0</td>\n",
       "      <td>1399.0</td>\n",
       "      <td>1</td>\n",
       "      <td>TELEVISIONS HOME CINEMA</td>\n",
       "      <td>1.0</td>\n",
       "      <td>SAMSUNG</td>\n",
       "      <td>SAMSUNG QE75Q70A 2021 QLED HDR 4K ULTRA HD SMA...</td>\n",
       "      <td>239842093</td>\n",
       "      <td>1399.0</td>\n",
       "      <td>0</td>\n",
       "    </tr>\n",
       "    <tr>\n",
       "      <th>3</th>\n",
       "      <td>78712</td>\n",
       "      <td>2.0</td>\n",
       "      <td>808.0</td>\n",
       "      <td>1</td>\n",
       "      <td>COMPUTERS</td>\n",
       "      <td>1.0</td>\n",
       "      <td>APPLE</td>\n",
       "      <td>2020 APPLE IPAD AIR 10 9 A14 BIONIC PROCESSOR IOS</td>\n",
       "      <td>239001422</td>\n",
       "      <td>689.0</td>\n",
       "      <td>0</td>\n",
       "    </tr>\n",
       "    <tr>\n",
       "      <th>4</th>\n",
       "      <td>78712</td>\n",
       "      <td>2.0</td>\n",
       "      <td>808.0</td>\n",
       "      <td>2</td>\n",
       "      <td>COMPUTER PERIPHERALS ACCESSORIES</td>\n",
       "      <td>1.0</td>\n",
       "      <td>APPLE</td>\n",
       "      <td>APPLE PENCIL 2ND GENERATION 2018 MATTE WHITE</td>\n",
       "      <td>237841896</td>\n",
       "      <td>119.0</td>\n",
       "      <td>0</td>\n",
       "    </tr>\n",
       "    <tr>\n",
       "      <th>...</th>\n",
       "      <td>...</td>\n",
       "      <td>...</td>\n",
       "      <td>...</td>\n",
       "      <td>...</td>\n",
       "      <td>...</td>\n",
       "      <td>...</td>\n",
       "      <td>...</td>\n",
       "      <td>...</td>\n",
       "      <td>...</td>\n",
       "      <td>...</td>\n",
       "      <td>...</td>\n",
       "    </tr>\n",
       "    <tr>\n",
       "      <th>163352</th>\n",
       "      <td>42613</td>\n",
       "      <td>3.0</td>\n",
       "      <td>1727.0</td>\n",
       "      <td>2</td>\n",
       "      <td>BEDROOM FURNITURE</td>\n",
       "      <td>1.0</td>\n",
       "      <td>SILENTNIGHT</td>\n",
       "      <td>SILENTNIGHT SLEEP GENIUS FULL HEIGHT HEADBOARD...</td>\n",
       "      <td>236938439</td>\n",
       "      <td>259.0</td>\n",
       "      <td>0</td>\n",
       "    </tr>\n",
       "    <tr>\n",
       "      <th>163353</th>\n",
       "      <td>42613</td>\n",
       "      <td>3.0</td>\n",
       "      <td>1727.0</td>\n",
       "      <td>3</td>\n",
       "      <td>OUTDOOR FURNITURE</td>\n",
       "      <td>1.0</td>\n",
       "      <td>LG OUTDOOR</td>\n",
       "      <td>LG OUTDOOR BERGEN 2-SEAT GARDEN SIDE TABLE REC...</td>\n",
       "      <td>239742814</td>\n",
       "      <td>949.0</td>\n",
       "      <td>0</td>\n",
       "    </tr>\n",
       "    <tr>\n",
       "      <th>163354</th>\n",
       "      <td>43567</td>\n",
       "      <td>2.0</td>\n",
       "      <td>3198.0</td>\n",
       "      <td>1</td>\n",
       "      <td>COMPUTERS</td>\n",
       "      <td>1.0</td>\n",
       "      <td>APPLE</td>\n",
       "      <td>2021 APPLE IPAD PRO 12 9 M1 PROCESSOR IOS WI-F...</td>\n",
       "      <td>240040978</td>\n",
       "      <td>1099.0</td>\n",
       "      <td>0</td>\n",
       "    </tr>\n",
       "    <tr>\n",
       "      <th>163355</th>\n",
       "      <td>43567</td>\n",
       "      <td>2.0</td>\n",
       "      <td>3198.0</td>\n",
       "      <td>2</td>\n",
       "      <td>COMPUTERS</td>\n",
       "      <td>1.0</td>\n",
       "      <td>APPLE</td>\n",
       "      <td>2020 APPLE IMAC 27 ALL-IN-ONE INTEL CORE I7 8G...</td>\n",
       "      <td>238923518</td>\n",
       "      <td>2099.0</td>\n",
       "      <td>0</td>\n",
       "    </tr>\n",
       "    <tr>\n",
       "      <th>163356</th>\n",
       "      <td>68268</td>\n",
       "      <td>1.0</td>\n",
       "      <td>799.0</td>\n",
       "      <td>1</td>\n",
       "      <td>TELEVISIONS HOME CINEMA</td>\n",
       "      <td>1.0</td>\n",
       "      <td>LG</td>\n",
       "      <td>LG OLED48A16LA 2021 OLED HDR 4K ULTRA HD SMART TV</td>\n",
       "      <td>239866717</td>\n",
       "      <td>799.0</td>\n",
       "      <td>0</td>\n",
       "    </tr>\n",
       "  </tbody>\n",
       "</table>\n",
       "<p>163357 rows × 11 columns</p>\n",
       "</div>"
      ],
      "text/plain": [
       "           ID  Nb_of_items  total_basket_price item_number  \\\n",
       "0       85517          1.0               889.0           1   \n",
       "1       51113          1.0               409.0           1   \n",
       "2       83008          1.0              1399.0           1   \n",
       "3       78712          2.0               808.0           1   \n",
       "4       78712          2.0               808.0           2   \n",
       "...       ...          ...                 ...         ...   \n",
       "163352  42613          3.0              1727.0           2   \n",
       "163353  42613          3.0              1727.0           3   \n",
       "163354  43567          2.0              3198.0           1   \n",
       "163355  43567          2.0              3198.0           2   \n",
       "163356  68268          1.0               799.0           1   \n",
       "\n",
       "                                    item Nbr_of_prod_purchas         make  \\\n",
       "0                              COMPUTERS                 1.0        APPLE   \n",
       "1       COMPUTER PERIPHERALS ACCESSORIES                 1.0        APPLE   \n",
       "2                TELEVISIONS HOME CINEMA                 1.0      SAMSUNG   \n",
       "3                              COMPUTERS                 1.0        APPLE   \n",
       "4       COMPUTER PERIPHERALS ACCESSORIES                 1.0        APPLE   \n",
       "...                                  ...                 ...          ...   \n",
       "163352                 BEDROOM FURNITURE                 1.0  SILENTNIGHT   \n",
       "163353                 OUTDOOR FURNITURE                 1.0   LG OUTDOOR   \n",
       "163354                         COMPUTERS                 1.0        APPLE   \n",
       "163355                         COMPUTERS                 1.0        APPLE   \n",
       "163356           TELEVISIONS HOME CINEMA                 1.0           LG   \n",
       "\n",
       "                                                    model goods_code  \\\n",
       "0       2020 APPLE MACBOOK AIR 13 3 RETINA DISPLAY M1 ...  239246776   \n",
       "1       APPLE WATCH SERIES 6 GPS 44MM SPACE GREY ALUMI...  239001518   \n",
       "2       SAMSUNG QE75Q70A 2021 QLED HDR 4K ULTRA HD SMA...  239842093   \n",
       "3       2020 APPLE IPAD AIR 10 9 A14 BIONIC PROCESSOR IOS  239001422   \n",
       "4            APPLE PENCIL 2ND GENERATION 2018 MATTE WHITE  237841896   \n",
       "...                                                   ...        ...   \n",
       "163352  SILENTNIGHT SLEEP GENIUS FULL HEIGHT HEADBOARD...  236938439   \n",
       "163353  LG OUTDOOR BERGEN 2-SEAT GARDEN SIDE TABLE REC...  239742814   \n",
       "163354  2021 APPLE IPAD PRO 12 9 M1 PROCESSOR IOS WI-F...  240040978   \n",
       "163355  2020 APPLE IMAC 27 ALL-IN-ONE INTEL CORE I7 8G...  238923518   \n",
       "163356  LG OLED48A16LA 2021 OLED HDR 4K ULTRA HD SMART TV  239866717   \n",
       "\n",
       "       cash_price  fraud_flag  \n",
       "0           889.0           0  \n",
       "1           409.0           0  \n",
       "2          1399.0           0  \n",
       "3           689.0           0  \n",
       "4           119.0           0  \n",
       "...           ...         ...  \n",
       "163352      259.0           0  \n",
       "163353      949.0           0  \n",
       "163354     1099.0           0  \n",
       "163355     2099.0           0  \n",
       "163356      799.0           0  \n",
       "\n",
       "[163357 rows x 11 columns]"
      ]
     },
     "execution_count": 22,
     "metadata": {},
     "output_type": "execute_result"
    }
   ],
   "source": [
    "# Merge X_train_df with Y_train_df so the transformation is done on both datasets\n",
    "X_train_df = pd.merge(X_train_df, Y_train_df, on='ID')\n",
    "X_train_df.drop(columns=['index'], inplace=True)\n",
    "\n",
    "# Transform the training dataset\n",
    "X_train_initial = transform_dataset(X_train_df, is_train=True)\n",
    "\n",
    "X_train_initial"
   ]
  },
  {
   "cell_type": "markdown",
   "metadata": {},
   "source": [
    "Let's see if the order is the same as before"
   ]
  },
  {
   "cell_type": "code",
   "execution_count": 23,
   "metadata": {},
   "outputs": [
    {
     "data": {
      "text/html": [
       "<div>\n",
       "<style scoped>\n",
       "    .dataframe tbody tr th:only-of-type {\n",
       "        vertical-align: middle;\n",
       "    }\n",
       "\n",
       "    .dataframe tbody tr th {\n",
       "        vertical-align: top;\n",
       "    }\n",
       "\n",
       "    .dataframe thead th {\n",
       "        text-align: right;\n",
       "    }\n",
       "</style>\n",
       "<table border=\"1\" class=\"dataframe\">\n",
       "  <thead>\n",
       "    <tr style=\"text-align: right;\">\n",
       "      <th></th>\n",
       "      <th>ID</th>\n",
       "      <th>item1</th>\n",
       "      <th>item2</th>\n",
       "      <th>item3</th>\n",
       "      <th>item4</th>\n",
       "      <th>item5</th>\n",
       "      <th>item6</th>\n",
       "      <th>item7</th>\n",
       "      <th>item8</th>\n",
       "      <th>item9</th>\n",
       "      <th>...</th>\n",
       "      <th>Nbr_of_prod_purchas18</th>\n",
       "      <th>Nbr_of_prod_purchas19</th>\n",
       "      <th>Nbr_of_prod_purchas20</th>\n",
       "      <th>Nbr_of_prod_purchas21</th>\n",
       "      <th>Nbr_of_prod_purchas22</th>\n",
       "      <th>Nbr_of_prod_purchas23</th>\n",
       "      <th>Nbr_of_prod_purchas24</th>\n",
       "      <th>Nb_of_items</th>\n",
       "      <th>fraud_flag</th>\n",
       "      <th>total_basket_price</th>\n",
       "    </tr>\n",
       "  </thead>\n",
       "  <tbody>\n",
       "    <tr>\n",
       "      <th>0</th>\n",
       "      <td>85517</td>\n",
       "      <td>COMPUTERS</td>\n",
       "      <td>NaN</td>\n",
       "      <td>NaN</td>\n",
       "      <td>NaN</td>\n",
       "      <td>NaN</td>\n",
       "      <td>NaN</td>\n",
       "      <td>NaN</td>\n",
       "      <td>NaN</td>\n",
       "      <td>NaN</td>\n",
       "      <td>...</td>\n",
       "      <td>NaN</td>\n",
       "      <td>NaN</td>\n",
       "      <td>NaN</td>\n",
       "      <td>NaN</td>\n",
       "      <td>NaN</td>\n",
       "      <td>NaN</td>\n",
       "      <td>NaN</td>\n",
       "      <td>1.0</td>\n",
       "      <td>0</td>\n",
       "      <td>889.0</td>\n",
       "    </tr>\n",
       "    <tr>\n",
       "      <th>1</th>\n",
       "      <td>51113</td>\n",
       "      <td>COMPUTER PERIPHERALS ACCESSORIES</td>\n",
       "      <td>NaN</td>\n",
       "      <td>NaN</td>\n",
       "      <td>NaN</td>\n",
       "      <td>NaN</td>\n",
       "      <td>NaN</td>\n",
       "      <td>NaN</td>\n",
       "      <td>NaN</td>\n",
       "      <td>NaN</td>\n",
       "      <td>...</td>\n",
       "      <td>NaN</td>\n",
       "      <td>NaN</td>\n",
       "      <td>NaN</td>\n",
       "      <td>NaN</td>\n",
       "      <td>NaN</td>\n",
       "      <td>NaN</td>\n",
       "      <td>NaN</td>\n",
       "      <td>1.0</td>\n",
       "      <td>0</td>\n",
       "      <td>409.0</td>\n",
       "    </tr>\n",
       "    <tr>\n",
       "      <th>2</th>\n",
       "      <td>83008</td>\n",
       "      <td>TELEVISIONS HOME CINEMA</td>\n",
       "      <td>NaN</td>\n",
       "      <td>NaN</td>\n",
       "      <td>NaN</td>\n",
       "      <td>NaN</td>\n",
       "      <td>NaN</td>\n",
       "      <td>NaN</td>\n",
       "      <td>NaN</td>\n",
       "      <td>NaN</td>\n",
       "      <td>...</td>\n",
       "      <td>NaN</td>\n",
       "      <td>NaN</td>\n",
       "      <td>NaN</td>\n",
       "      <td>NaN</td>\n",
       "      <td>NaN</td>\n",
       "      <td>NaN</td>\n",
       "      <td>NaN</td>\n",
       "      <td>1.0</td>\n",
       "      <td>0</td>\n",
       "      <td>1399.0</td>\n",
       "    </tr>\n",
       "    <tr>\n",
       "      <th>3</th>\n",
       "      <td>78712</td>\n",
       "      <td>COMPUTERS</td>\n",
       "      <td>COMPUTER PERIPHERALS ACCESSORIES</td>\n",
       "      <td>NaN</td>\n",
       "      <td>NaN</td>\n",
       "      <td>NaN</td>\n",
       "      <td>NaN</td>\n",
       "      <td>NaN</td>\n",
       "      <td>NaN</td>\n",
       "      <td>NaN</td>\n",
       "      <td>...</td>\n",
       "      <td>NaN</td>\n",
       "      <td>NaN</td>\n",
       "      <td>NaN</td>\n",
       "      <td>NaN</td>\n",
       "      <td>NaN</td>\n",
       "      <td>NaN</td>\n",
       "      <td>NaN</td>\n",
       "      <td>2.0</td>\n",
       "      <td>0</td>\n",
       "      <td>808.0</td>\n",
       "    </tr>\n",
       "    <tr>\n",
       "      <th>4</th>\n",
       "      <td>77846</td>\n",
       "      <td>TELEVISIONS HOME CINEMA</td>\n",
       "      <td>NaN</td>\n",
       "      <td>NaN</td>\n",
       "      <td>NaN</td>\n",
       "      <td>NaN</td>\n",
       "      <td>NaN</td>\n",
       "      <td>NaN</td>\n",
       "      <td>NaN</td>\n",
       "      <td>NaN</td>\n",
       "      <td>...</td>\n",
       "      <td>NaN</td>\n",
       "      <td>NaN</td>\n",
       "      <td>NaN</td>\n",
       "      <td>NaN</td>\n",
       "      <td>NaN</td>\n",
       "      <td>NaN</td>\n",
       "      <td>NaN</td>\n",
       "      <td>1.0</td>\n",
       "      <td>0</td>\n",
       "      <td>1199.0</td>\n",
       "    </tr>\n",
       "  </tbody>\n",
       "</table>\n",
       "<p>5 rows × 148 columns</p>\n",
       "</div>"
      ],
      "text/plain": [
       "      ID                             item1                             item2  \\\n",
       "0  85517                         COMPUTERS                               NaN   \n",
       "1  51113  COMPUTER PERIPHERALS ACCESSORIES                               NaN   \n",
       "2  83008           TELEVISIONS HOME CINEMA                               NaN   \n",
       "3  78712                         COMPUTERS  COMPUTER PERIPHERALS ACCESSORIES   \n",
       "4  77846           TELEVISIONS HOME CINEMA                               NaN   \n",
       "\n",
       "  item3 item4 item5 item6 item7 item8 item9  ... Nbr_of_prod_purchas18  \\\n",
       "0   NaN   NaN   NaN   NaN   NaN   NaN   NaN  ...                   NaN   \n",
       "1   NaN   NaN   NaN   NaN   NaN   NaN   NaN  ...                   NaN   \n",
       "2   NaN   NaN   NaN   NaN   NaN   NaN   NaN  ...                   NaN   \n",
       "3   NaN   NaN   NaN   NaN   NaN   NaN   NaN  ...                   NaN   \n",
       "4   NaN   NaN   NaN   NaN   NaN   NaN   NaN  ...                   NaN   \n",
       "\n",
       "  Nbr_of_prod_purchas19 Nbr_of_prod_purchas20 Nbr_of_prod_purchas21  \\\n",
       "0                   NaN                   NaN                   NaN   \n",
       "1                   NaN                   NaN                   NaN   \n",
       "2                   NaN                   NaN                   NaN   \n",
       "3                   NaN                   NaN                   NaN   \n",
       "4                   NaN                   NaN                   NaN   \n",
       "\n",
       "  Nbr_of_prod_purchas22 Nbr_of_prod_purchas23 Nbr_of_prod_purchas24  \\\n",
       "0                   NaN                   NaN                   NaN   \n",
       "1                   NaN                   NaN                   NaN   \n",
       "2                   NaN                   NaN                   NaN   \n",
       "3                   NaN                   NaN                   NaN   \n",
       "4                   NaN                   NaN                   NaN   \n",
       "\n",
       "  Nb_of_items fraud_flag total_basket_price  \n",
       "0         1.0          0              889.0  \n",
       "1         1.0          0              409.0  \n",
       "2         1.0          0             1399.0  \n",
       "3         2.0          0              808.0  \n",
       "4         1.0          0             1199.0  \n",
       "\n",
       "[5 rows x 148 columns]"
      ]
     },
     "execution_count": 23,
     "metadata": {},
     "output_type": "execute_result"
    }
   ],
   "source": [
    "X_train_df.head()"
   ]
  },
  {
   "cell_type": "markdown",
   "metadata": {},
   "source": [
    "- It seems that **the order has been well kept**"
   ]
  },
  {
   "cell_type": "markdown",
   "metadata": {},
   "source": [
    "- Let's check wether we still have NaN Values "
   ]
  },
  {
   "cell_type": "code",
   "execution_count": 24,
   "metadata": {},
   "outputs": [
    {
     "data": {
      "text/plain": [
       "ID                        0\n",
       "Nb_of_items               0\n",
       "total_basket_price        0\n",
       "item_number               0\n",
       "item                      0\n",
       "Nbr_of_prod_purchas       0\n",
       "make                   1273\n",
       "model                  1273\n",
       "goods_code                0\n",
       "cash_price                0\n",
       "fraud_flag                0\n",
       "dtype: int64"
      ]
     },
     "execution_count": 24,
     "metadata": {},
     "output_type": "execute_result"
    }
   ],
   "source": [
    "# check for nan values\n",
    "\n",
    "X_train_initial.isna().sum()\n"
   ]
  },
  {
   "cell_type": "markdown",
   "metadata": {},
   "source": [
    "- We can see that we still have NaN values in make and model. It seems that these columns would be the only ones to be able to have a NaN values other than the initial scenario where we don't have an item. They indicate an  **unavailable information** about the **manufacturer** or the **model** of the item. This is something we will have to deal with.\n",
    "\n"
   ]
  },
  {
   "cell_type": "markdown",
   "metadata": {},
   "source": [
    "## <a id='toc3_2_'></a>[Split the data](#toc0_)"
   ]
  },
  {
   "cell_type": "markdown",
   "metadata": {},
   "source": [
    "- Now let's **Split** our data into a training and a validation set, so we could assess the performances of the model we are going to try before submitting predictions for the test set.\n",
    "\n",
    "- **VERY IMPORTANT** : Since we have now switched to a long format, we should be careful in our split to `keep the items of the same ID (belonging to the same basket) in the same splitted group !`, so that our model train itself on items from the same baskets since that's why we are trying to predict !\n",
    "\n",
    "- **Another point** : Since there is a huge imbalance, we have to be careful on how we split our data. Since predicting frauds usually means dealing with a **huge imbalanced dataset**, and since don't want our training or validation dataset to end up with **fewer fraud cases** than we already have in the original distribution, `we will use a stratified split in order to keep the same distribution of fraudulent cases in the training and validation dataset`"
   ]
  },
  {
   "cell_type": "code",
   "execution_count": 25,
   "metadata": {},
   "outputs": [],
   "source": [
    "# Split the unique IDs into training and validation sets\n",
    "df_final = X_train_initial\n",
    "unique_ids = df_final['ID'].unique()\n",
    "train_ids, val_ids = train_test_split(unique_ids, test_size=0.2, random_state=42, stratify=df_final[['ID', 'fraud_flag']].drop_duplicates()['fraud_flag'])\n",
    "\n",
    "# Create training and validation sets based on the split IDs\n",
    "X_train_not_encoded = df_final[df_final['ID'].isin(train_ids)]\n",
    "X_val_not_encoded = df_final[df_final['ID'].isin(val_ids)]\n",
    "\n",
    "# Separate features and target variable\n",
    "y_train = X_train_not_encoded['fraud_flag']\n",
    "X_train_not_encoded = X_train_not_encoded.drop(columns=['fraud_flag'])\n",
    "\n",
    "y_val = X_val_not_encoded['fraud_flag']\n",
    "X_val_not_encoded = X_val_not_encoded.drop(columns=['fraud_flag'])"
   ]
  },
  {
   "cell_type": "markdown",
   "metadata": {},
   "source": [
    "Let's verify if we kept the distribution accross the two splitted datasets"
   ]
  },
  {
   "cell_type": "code",
   "execution_count": 26,
   "metadata": {},
   "outputs": [
    {
     "data": {
      "image/png": "[encoded data removed]",
      "text/plain": [
       "<Figure size 640x480 with 1 Axes>"
      ]
     },
     "metadata": {},
     "output_type": "display_data"
    },
    {
     "data": {
      "image/png": "[encoded data removed]",
      "text/plain": [
       "<Figure size 640x480 with 1 Axes>"
      ]
     },
     "metadata": {},
     "output_type": "display_data"
    }
   ],
   "source": [
    "# Let's check their distribution \n",
    "\n",
    "sns.countplot(x=y_train, label='Training set')\n",
    "plt.show()\n",
    "\n",
    "sns.countplot(x=y_val, label='Validation set')\n",
    "plt.show()"
   ]
  },
  {
   "cell_type": "markdown",
   "metadata": {},
   "source": [
    "Looks great, let's see now if we didn't split items from the same IDs "
   ]
  },
  {
   "cell_type": "code",
   "execution_count": null,
   "metadata": {},
   "outputs": [
    {
     "data": {
      "text/html": [
       "<div>\n",
       "<style scoped>\n",
       "    .dataframe tbody tr th:only-of-type {\n",
       "        vertical-align: middle;\n",
       "    }\n",
       "\n",
       "    .dataframe tbody tr th {\n",
       "        vertical-align: top;\n",
       "    }\n",
       "\n",
       "    .dataframe thead th {\n",
       "        text-align: right;\n",
       "    }\n",
       "</style>\n",
       "<table border=\"1\" class=\"dataframe\">\n",
       "  <thead>\n",
       "    <tr style=\"text-align: right;\">\n",
       "      <th></th>\n",
       "      <th>ID</th>\n",
       "      <th>Nb_of_items</th>\n",
       "      <th>total_basket_price</th>\n",
       "      <th>item_number</th>\n",
       "      <th>item</th>\n",
       "      <th>Nbr_of_prod_purchas</th>\n",
       "      <th>make</th>\n",
       "      <th>model</th>\n",
       "      <th>goods_code</th>\n",
       "      <th>cash_price</th>\n",
       "    </tr>\n",
       "  </thead>\n",
       "  <tbody>\n",
       "    <tr>\n",
       "      <th>0</th>\n",
       "      <td>85517</td>\n",
       "      <td>1.0</td>\n",
       "      <td>889.0</td>\n",
       "      <td>1</td>\n",
       "      <td>COMPUTERS</td>\n",
       "      <td>1.0</td>\n",
       "      <td>APPLE</td>\n",
       "      <td>2020 APPLE MACBOOK AIR 13 3 RETINA DISPLAY M1 ...</td>\n",
       "      <td>239246776</td>\n",
       "      <td>889.0</td>\n",
       "    </tr>\n",
       "    <tr>\n",
       "      <th>1</th>\n",
       "      <td>51113</td>\n",
       "      <td>1.0</td>\n",
       "      <td>409.0</td>\n",
       "      <td>1</td>\n",
       "      <td>COMPUTER PERIPHERALS ACCESSORIES</td>\n",
       "      <td>1.0</td>\n",
       "      <td>APPLE</td>\n",
       "      <td>APPLE WATCH SERIES 6 GPS 44MM SPACE GREY ALUMI...</td>\n",
       "      <td>239001518</td>\n",
       "      <td>409.0</td>\n",
       "    </tr>\n",
       "    <tr>\n",
       "      <th>3</th>\n",
       "      <td>78712</td>\n",
       "      <td>2.0</td>\n",
       "      <td>808.0</td>\n",
       "      <td>1</td>\n",
       "      <td>COMPUTERS</td>\n",
       "      <td>1.0</td>\n",
       "      <td>APPLE</td>\n",
       "      <td>2020 APPLE IPAD AIR 10 9 A14 BIONIC PROCESSOR IOS</td>\n",
       "      <td>239001422</td>\n",
       "      <td>689.0</td>\n",
       "    </tr>\n",
       "    <tr>\n",
       "      <th>4</th>\n",
       "      <td>78712</td>\n",
       "      <td>2.0</td>\n",
       "      <td>808.0</td>\n",
       "      <td>2</td>\n",
       "      <td>COMPUTER PERIPHERALS ACCESSORIES</td>\n",
       "      <td>1.0</td>\n",
       "      <td>APPLE</td>\n",
       "      <td>APPLE PENCIL 2ND GENERATION 2018 MATTE WHITE</td>\n",
       "      <td>237841896</td>\n",
       "      <td>119.0</td>\n",
       "    </tr>\n",
       "    <tr>\n",
       "      <th>5</th>\n",
       "      <td>77846</td>\n",
       "      <td>1.0</td>\n",
       "      <td>1199.0</td>\n",
       "      <td>1</td>\n",
       "      <td>TELEVISIONS HOME CINEMA</td>\n",
       "      <td>1.0</td>\n",
       "      <td>SONY</td>\n",
       "      <td>SONY BRAVIA KE48A9 2020 OLED HDR 4K ULTRA HD S...</td>\n",
       "      <td>239952954</td>\n",
       "      <td>1199.0</td>\n",
       "    </tr>\n",
       "  </tbody>\n",
       "</table>\n",
       "</div>"
      ],
      "text/plain": [
       "      ID  Nb_of_items  total_basket_price item_number  \\\n",
       "0  85517          1.0               889.0           1   \n",
       "1  51113          1.0               409.0           1   \n",
       "3  78712          2.0               808.0           1   \n",
       "4  78712          2.0               808.0           2   \n",
       "5  77846          1.0              1199.0           1   \n",
       "\n",
       "                               item Nbr_of_prod_purchas   make  \\\n",
       "0                         COMPUTERS                 1.0  APPLE   \n",
       "1  COMPUTER PERIPHERALS ACCESSORIES                 1.0  APPLE   \n",
       "3                         COMPUTERS                 1.0  APPLE   \n",
       "4  COMPUTER PERIPHERALS ACCESSORIES                 1.0  APPLE   \n",
       "5           TELEVISIONS HOME CINEMA                 1.0   SONY   \n",
       "\n",
       "                                               model goods_code cash_price  \n",
       "0  2020 APPLE MACBOOK AIR 13 3 RETINA DISPLAY M1 ...  239246776      889.0  \n",
       "1  APPLE WATCH SERIES 6 GPS 44MM SPACE GREY ALUMI...  239001518      409.0  \n",
       "3  2020 APPLE IPAD AIR 10 9 A14 BIONIC PROCESSOR IOS  239001422      689.0  \n",
       "4       APPLE PENCIL 2ND GENERATION 2018 MATTE WHITE  237841896      119.0  \n",
       "5  SONY BRAVIA KE48A9 2020 OLED HDR 4K ULTRA HD S...  239952954     1199.0  "
      ]
     },
     "execution_count": 16,
     "metadata": {},
     "output_type": "execute_result"
    }
   ],
   "source": [
    "X_train_not_encoded.head()"
   ]
  },
  {
   "cell_type": "code",
   "execution_count": null,
   "metadata": {},
   "outputs": [
    {
     "data": {
      "text/html": [
       "<div>\n",
       "<style scoped>\n",
       "    .dataframe tbody tr th:only-of-type {\n",
       "        vertical-align: middle;\n",
       "    }\n",
       "\n",
       "    .dataframe tbody tr th {\n",
       "        vertical-align: top;\n",
       "    }\n",
       "\n",
       "    .dataframe thead th {\n",
       "        text-align: right;\n",
       "    }\n",
       "</style>\n",
       "<table border=\"1\" class=\"dataframe\">\n",
       "  <thead>\n",
       "    <tr style=\"text-align: right;\">\n",
       "      <th></th>\n",
       "      <th>ID</th>\n",
       "      <th>Nb_of_items</th>\n",
       "      <th>total_basket_price</th>\n",
       "      <th>item_number</th>\n",
       "      <th>item</th>\n",
       "      <th>Nbr_of_prod_purchas</th>\n",
       "      <th>make</th>\n",
       "      <th>model</th>\n",
       "      <th>goods_code</th>\n",
       "      <th>cash_price</th>\n",
       "    </tr>\n",
       "  </thead>\n",
       "  <tbody>\n",
       "    <tr>\n",
       "      <th>2</th>\n",
       "      <td>83008</td>\n",
       "      <td>1.0</td>\n",
       "      <td>1399.0</td>\n",
       "      <td>1</td>\n",
       "      <td>TELEVISIONS HOME CINEMA</td>\n",
       "      <td>1.0</td>\n",
       "      <td>SAMSUNG</td>\n",
       "      <td>SAMSUNG QE75Q70A 2021 QLED HDR 4K ULTRA HD SMA...</td>\n",
       "      <td>239842093</td>\n",
       "      <td>1399.0</td>\n",
       "    </tr>\n",
       "    <tr>\n",
       "      <th>6</th>\n",
       "      <td>86994</td>\n",
       "      <td>1.0</td>\n",
       "      <td>369.0</td>\n",
       "      <td>1</td>\n",
       "      <td>COMPUTER PERIPHERALS ACCESSORIES</td>\n",
       "      <td>1.0</td>\n",
       "      <td>APPLE</td>\n",
       "      <td>APPLE WATCH NIKE SERIES 7 GPS 41MM STARLIGHT A...</td>\n",
       "      <td>240382074</td>\n",
       "      <td>369.0</td>\n",
       "    </tr>\n",
       "    <tr>\n",
       "      <th>17</th>\n",
       "      <td>108706</td>\n",
       "      <td>3.0</td>\n",
       "      <td>843.0</td>\n",
       "      <td>1</td>\n",
       "      <td>COMPUTERS</td>\n",
       "      <td>1.0</td>\n",
       "      <td>APPLE</td>\n",
       "      <td>2021 APPLE IPAD PRO 11 M1 PROCESSOR IOS WI-FI ...</td>\n",
       "      <td>240040984</td>\n",
       "      <td>717.0</td>\n",
       "    </tr>\n",
       "    <tr>\n",
       "      <th>18</th>\n",
       "      <td>108706</td>\n",
       "      <td>3.0</td>\n",
       "      <td>843.0</td>\n",
       "      <td>2</td>\n",
       "      <td>COMPUTER PERIPHERALS ACCESSORIES</td>\n",
       "      <td>1.0</td>\n",
       "      <td>APPLE</td>\n",
       "      <td>APPLE PENCIL 2ND GENERATION 2018 MATTE WHITE</td>\n",
       "      <td>237841896</td>\n",
       "      <td>119.0</td>\n",
       "    </tr>\n",
       "    <tr>\n",
       "      <th>19</th>\n",
       "      <td>108706</td>\n",
       "      <td>3.0</td>\n",
       "      <td>843.0</td>\n",
       "      <td>3</td>\n",
       "      <td>FULFILMENT CHARGE</td>\n",
       "      <td>1.0</td>\n",
       "      <td>RETAILER</td>\n",
       "      <td>RETAILER</td>\n",
       "      <td>FULFILMENT</td>\n",
       "      <td>7.0</td>\n",
       "    </tr>\n",
       "  </tbody>\n",
       "</table>\n",
       "</div>"
      ],
      "text/plain": [
       "        ID  Nb_of_items  total_basket_price item_number  \\\n",
       "2    83008          1.0              1399.0           1   \n",
       "6    86994          1.0               369.0           1   \n",
       "17  108706          3.0               843.0           1   \n",
       "18  108706          3.0               843.0           2   \n",
       "19  108706          3.0               843.0           3   \n",
       "\n",
       "                                item Nbr_of_prod_purchas      make  \\\n",
       "2            TELEVISIONS HOME CINEMA                 1.0   SAMSUNG   \n",
       "6   COMPUTER PERIPHERALS ACCESSORIES                 1.0     APPLE   \n",
       "17                         COMPUTERS                 1.0     APPLE   \n",
       "18  COMPUTER PERIPHERALS ACCESSORIES                 1.0     APPLE   \n",
       "19                 FULFILMENT CHARGE                 1.0  RETAILER   \n",
       "\n",
       "                                                model  goods_code cash_price  \n",
       "2   SAMSUNG QE75Q70A 2021 QLED HDR 4K ULTRA HD SMA...   239842093     1399.0  \n",
       "6   APPLE WATCH NIKE SERIES 7 GPS 41MM STARLIGHT A...   240382074      369.0  \n",
       "17  2021 APPLE IPAD PRO 11 M1 PROCESSOR IOS WI-FI ...   240040984      717.0  \n",
       "18       APPLE PENCIL 2ND GENERATION 2018 MATTE WHITE   237841896      119.0  \n",
       "19                                           RETAILER  FULFILMENT        7.0  "
      ]
     },
     "execution_count": 17,
     "metadata": {},
     "output_type": "execute_result"
    }
   ],
   "source": [
    "X_val_not_encoded.head()"
   ]
  },
  {
   "cell_type": "markdown",
   "metadata": {},
   "source": [
    "Everything seems to be going good."
   ]
  },
  {
   "cell_type": "markdown",
   "metadata": {},
   "source": [
    "## <a id='toc3_3_'></a>[Encoding](#toc0_)"
   ]
  },
  {
   "cell_type": "markdown",
   "metadata": {},
   "source": [
    "- We have in our features **non-numerical** attributes that we have to deal with. Using a technique like a **one-hot encoder** will be overkill. Since the possible values of these columns is too vast, we will end up with **too much features**, and suffer from a **highly sparse dataset** that models will have a hard time to deal with, and may end-up **overfitting our model**."
   ]
  },
  {
   "cell_type": "markdown",
   "metadata": {},
   "source": [
    "- Using **Label encoding** can be problematic too, especially with the features we have. Again, since there is multiple possible values per feature, we will have a lot of values, and we can end-up with high values and **introduce a huge sense of ordinality**. Especially with models using distances, a feature that has a make of 1 and another 139 can be perceived as \"far\", even though there is no notion of that when you look at their values"
   ]
  },
  {
   "cell_type": "markdown",
   "metadata": {},
   "source": [
    "- Let's encode the categorical variables using a **Target encoder**. \n",
    "\n",
    "    **Reminder :**   \n",
    "    Target encoding, also known as mean encoding or likelihood encoding, is a technique used to encode categorical variables by replacing each category with the mean of the target variable for that category.  \n",
    "  \n",
    "      \n",
    "- **How are we going to deal with the remaining NaNs ?**\n",
    "\n",
    "    - Intuitively, a missing information about a manufacturer or a model of an item can potentially convey information about the nature of our investigated purchase. \n",
    "\n",
    "    - Having this in mind, for the remaining values (which mean unknown maker / model), we will assign a \"Missing\" category to them before encoding the values. This way, `the \"absence of a value\" for these features will be treated as a category of its own, and it will have the distribution for the target variable `\n",
    "\n",
    "    - We tested other possible strategy, like replacing these values with a neutral prediction of **0.5**, or the majority class **0** so that these missing values have a neutral influence, and we got worse results than our chosen strategy, **which confirms our intuition.**"
   ]
  },
  {
   "cell_type": "code",
   "execution_count": null,
   "metadata": {},
   "outputs": [
    {
     "name": "stdout",
     "output_type": "stream",
     "text": [
      "Value of the model column for ID 6467 in the training set, which should be 'Missing':\n",
      "44    Missing\n",
      "45    Missing\n",
      "46    Missing\n",
      "Name: model, dtype: object\n",
      "Encoded Training Data:\n",
      "      ID  Nb_of_items  total_basket_price item_number      item  \\\n",
      "0  85517          1.0               889.0           1  0.022794   \n",
      "1  51113          1.0               409.0           1  0.004236   \n",
      "3  78712          2.0               808.0           1  0.022794   \n",
      "4  78712          2.0               808.0           2  0.004236   \n",
      "5  77846          1.0              1199.0           1  0.004178   \n",
      "\n",
      "  Nbr_of_prod_purchas      make     model  goods_code cash_price  \n",
      "0                 1.0  0.018200  0.012292    0.014744      889.0  \n",
      "1                 1.0  0.018200  0.005435    0.002874      409.0  \n",
      "3                 1.0  0.018200  0.002796    0.000003      689.0  \n",
      "4                 1.0  0.018200  0.003053    0.002721      119.0  \n",
      "5                 1.0  0.002794  0.005102    0.005128     1199.0  \n",
      "Encoded Validation Data:\n",
      "        ID  Nb_of_items  total_basket_price item_number      item  \\\n",
      "2    83008          1.0              1399.0           1  0.004178   \n",
      "6    86994          1.0               369.0           1  0.004236   \n",
      "17  108706          3.0               843.0           1  0.022794   \n",
      "18  108706          3.0               843.0           2  0.004236   \n",
      "19  108706          3.0               843.0           3  0.021862   \n",
      "\n",
      "   Nbr_of_prod_purchas      make     model  goods_code cash_price  \n",
      "2                  1.0  0.018564  0.090052    0.088652     1399.0  \n",
      "6                  1.0  0.018200  0.000023    0.000023      369.0  \n",
      "17                 1.0  0.018200  0.029057    0.022712      717.0  \n",
      "18                 1.0  0.018200  0.003053    0.002721      119.0  \n",
      "19                 1.0  0.011918  0.015412    0.021862        7.0  \n"
     ]
    }
   ],
   "source": [
    "\n",
    "# Identify the non-numerical columns for target encoding\n",
    "non_numerical_columns = ['item', 'make', 'model', 'goods_code']\n",
    "\n",
    "\n",
    "X_train_not_encoded[non_numerical_columns] = X_train_not_encoded[non_numerical_columns].fillna(\"Missing\").astype(str)\n",
    "X_val_not_encoded[non_numerical_columns] = X_val_not_encoded[non_numerical_columns].fillna(\"Missing\").astype(str)\n",
    "\n",
    "#To check if the missing values are replaced, we will check the ID 6467 that has a missing value in the model column\n",
    "\n",
    "print(\"Value of the model column for ID 6467 in the training set, which should be 'Missing':\")\n",
    "print(X_train_not_encoded[X_train_not_encoded['ID'] == 6467]['model'])\n",
    "\n",
    "# Initialize the TargetEncoder with handle_missing='return_nan' to keep NaN values\n",
    "encoder = ce.TargetEncoder(cols=non_numerical_columns, handle_missing='return_nan', handle_unknown='value')\n",
    "\n",
    "# Fit the encoder on the training data and transform both training and validation sets\n",
    "X_train_encoded = encoder.fit_transform(X_train_not_encoded, y_train)\n",
    "X_val_encoded = encoder.transform(X_val_not_encoded)\n",
    "\n",
    "#convert ID to int\n",
    "\n",
    "X_train_encoded['ID'] = X_train_encoded['ID'].astype(int)\n",
    "X_val_encoded['ID'] = X_val_encoded['ID'].astype(int)\n",
    "\n",
    "# Replace NaN values with -1 in the encoded datasets\n",
    "#X_train_encoded.fillna(0.5, inplace=True)\n",
    "#X_val_encoded.fillna(0.5, inplace=True)\n",
    "\n",
    "# Display the first few rows of the encoded training data\n",
    "print(\"Encoded Training Data:\")\n",
    "print(X_train_encoded.head())\n",
    "\n",
    "# Display the first few rows of the encoded validation data\n",
    "print(\"Encoded Validation Data:\")\n",
    "print(X_val_encoded.head())"
   ]
  },
  {
   "cell_type": "code",
   "execution_count": null,
   "metadata": {},
   "outputs": [
    {
     "data": {
      "text/plain": [
       "ID                     0\n",
       "Nb_of_items            0\n",
       "total_basket_price     0\n",
       "item_number            0\n",
       "item                   0\n",
       "Nbr_of_prod_purchas    0\n",
       "make                   0\n",
       "model                  0\n",
       "goods_code             0\n",
       "cash_price             0\n",
       "dtype: int64"
      ]
     },
     "execution_count": 19,
     "metadata": {},
     "output_type": "execute_result"
    }
   ],
   "source": [
    "#Check if there is some missing values in the encoded data on the validation set\n",
    "\n",
    "X_val_encoded.isna().sum()"
   ]
  },
  {
   "cell_type": "markdown",
   "metadata": {},
   "source": [
    "We also have to make sure now that the dtypes are numeric"
   ]
  },
  {
   "cell_type": "code",
   "execution_count": null,
   "metadata": {},
   "outputs": [
    {
     "data": {
      "text/plain": [
       "ID                       int32\n",
       "Nb_of_items            float64\n",
       "total_basket_price     float64\n",
       "item_number             object\n",
       "item                   float64\n",
       "Nbr_of_prod_purchas     object\n",
       "make                   float64\n",
       "model                  float64\n",
       "goods_code             float64\n",
       "cash_price              object\n",
       "dtype: object"
      ]
     },
     "execution_count": 20,
     "metadata": {},
     "output_type": "execute_result"
    }
   ],
   "source": [
    "X_train_encoded.dtypes"
   ]
  },
  {
   "cell_type": "code",
   "execution_count": null,
   "metadata": {},
   "outputs": [
    {
     "data": {
      "text/plain": [
       "ID                       int32\n",
       "Nb_of_items            float64\n",
       "total_basket_price     float64\n",
       "item_number            float64\n",
       "item                   float64\n",
       "Nbr_of_prod_purchas    float64\n",
       "make                   float64\n",
       "model                  float64\n",
       "goods_code             float64\n",
       "cash_price             float64\n",
       "dtype: object"
      ]
     },
     "execution_count": 21,
     "metadata": {},
     "output_type": "execute_result"
    }
   ],
   "source": [
    "#let's convert all the columns to float type (except the ID column) (bad behavior of the pandas groupby function)\n",
    "\n",
    "#item number, nbr_of_prod_purchas, cash_price\n",
    "\n",
    "X_train_encoded['item_number'] = X_train_encoded['item_number'].astype(float)\n",
    "X_train_encoded['Nbr_of_prod_purchas'] = X_train_encoded['Nbr_of_prod_purchas'].astype(float)\n",
    "X_train_encoded['cash_price'] = X_train_encoded['cash_price'].astype(float)\n",
    "\n",
    "X_val_encoded['item_number'] = X_val_encoded['item_number'].astype(float)\n",
    "X_val_encoded['Nbr_of_prod_purchas'] = X_val_encoded['Nbr_of_prod_purchas'].astype(float)\n",
    "X_val_encoded['cash_price'] = X_val_encoded['cash_price'].astype(float)\n",
    "\n",
    "X_train_encoded.dtypes\n"
   ]
  },
  {
   "cell_type": "markdown",
   "metadata": {},
   "source": [
    "---------"
   ]
  },
  {
   "cell_type": "markdown",
   "metadata": {},
   "source": [
    "# <a id='toc4_'></a>[Predictions and experimentations](#toc0_)"
   ]
  },
  {
   "cell_type": "markdown",
   "metadata": {},
   "source": [
    "- **The benchmark** that we are trying to beat is an `average_precision_score of 0.14`"
   ]
  },
  {
   "cell_type": "markdown",
   "metadata": {},
   "source": [
    "- BE CAREFUL !! Here, we will have predictions **PER ITEM**, and not **PER ID**.\n",
    "What we will do is, if one of the items of the same ID (meaning the same basket), is predicted as fraudulent, the **whole basket should be fraudulent**. We then should always come  back to this format before **evaluating the performance and the score of our model** "
   ]
  },
  {
   "cell_type": "markdown",
   "metadata": {},
   "source": [
    "- Remark : Before training our models, we will **remove the ID column**. We already have other meaningful features that are repeated to keep the link between items of the same basket. the `ID column doesn't provide any information about the nature of the transactions. Keeping them can lead for our model to OVERFIT on it`."
   ]
  },
  {
   "cell_type": "markdown",
   "metadata": {},
   "source": [
    "## <a id='toc4_1_'></a>[Logistic Classifier](#toc0_)"
   ]
  },
  {
   "cell_type": "markdown",
   "metadata": {},
   "source": [
    "- Let's start with a simple Logistic Classifier"
   ]
  },
  {
   "cell_type": "code",
   "execution_count": 22,
   "metadata": {},
   "outputs": [
    {
     "data": {
      "text/html": [
       "<div>\n",
       "<style scoped>\n",
       "    .dataframe tbody tr th:only-of-type {\n",
       "        vertical-align: middle;\n",
       "    }\n",
       "\n",
       "    .dataframe tbody tr th {\n",
       "        vertical-align: top;\n",
       "    }\n",
       "\n",
       "    .dataframe thead th {\n",
       "        text-align: right;\n",
       "    }\n",
       "</style>\n",
       "<table border=\"1\" class=\"dataframe\">\n",
       "  <thead>\n",
       "    <tr style=\"text-align: right;\">\n",
       "      <th></th>\n",
       "      <th>Model</th>\n",
       "      <th>Average Precision Score</th>\n",
       "    </tr>\n",
       "  </thead>\n",
       "  <tbody>\n",
       "    <tr>\n",
       "      <th>0</th>\n",
       "      <td>Benchmark</td>\n",
       "      <td>0.14</td>\n",
       "    </tr>\n",
       "  </tbody>\n",
       "</table>\n",
       "</div>"
      ],
      "text/plain": [
       "       Model  Average Precision Score\n",
       "0  Benchmark                     0.14"
      ]
     },
     "execution_count": 22,
     "metadata": {},
     "output_type": "execute_result"
    }
   ],
   "source": [
    "#Let's set a df to store the average precision score of the models\n",
    "\n",
    "average_precision_scores = pd.DataFrame(columns=['Model', 'Average Precision Score'])\n",
    "\n",
    "#let's store the benchmark, which is an average precision score of 0.14\n",
    "\n",
    "average_precision_scores.loc[0] = ['Benchmark', 0.14]\n",
    "\n",
    "average_precision_scores"
   ]
  },
  {
   "cell_type": "code",
   "execution_count": 23,
   "metadata": {},
   "outputs": [
    {
     "name": "stdout",
     "output_type": "stream",
     "text": [
      "Average Precision Score on validation set: 0.0280\n"
     ]
    },
    {
     "name": "stderr",
     "output_type": "stream",
     "text": [
      "c:\\Users\\asus\\anaconda3\\Lib\\site-packages\\sklearn\\linear_model\\_logistic.py:465: ConvergenceWarning: lbfgs failed to converge (status=1):\n",
      "STOP: TOTAL NO. of ITERATIONS REACHED LIMIT.\n",
      "\n",
      "Increase the number of iterations (max_iter) or scale the data as shown in:\n",
      "    https://scikit-learn.org/stable/modules/preprocessing.html\n",
      "Please also refer to the documentation for alternative solver options:\n",
      "    https://scikit-learn.org/stable/modules/linear_model.html#logistic-regression\n",
      "  n_iter_i = _check_optimize_result(\n"
     ]
    },
    {
     "data": {
      "text/html": [
       "<div>\n",
       "<style scoped>\n",
       "    .dataframe tbody tr th:only-of-type {\n",
       "        vertical-align: middle;\n",
       "    }\n",
       "\n",
       "    .dataframe tbody tr th {\n",
       "        vertical-align: top;\n",
       "    }\n",
       "\n",
       "    .dataframe thead th {\n",
       "        text-align: right;\n",
       "    }\n",
       "</style>\n",
       "<table border=\"1\" class=\"dataframe\">\n",
       "  <thead>\n",
       "    <tr style=\"text-align: right;\">\n",
       "      <th></th>\n",
       "      <th>Model</th>\n",
       "      <th>Average Precision Score</th>\n",
       "    </tr>\n",
       "  </thead>\n",
       "  <tbody>\n",
       "    <tr>\n",
       "      <th>0</th>\n",
       "      <td>Benchmark</td>\n",
       "      <td>0.140000</td>\n",
       "    </tr>\n",
       "    <tr>\n",
       "      <th>1</th>\n",
       "      <td>Logistic Regression</td>\n",
       "      <td>0.028027</td>\n",
       "    </tr>\n",
       "  </tbody>\n",
       "</table>\n",
       "</div>"
      ],
      "text/plain": [
       "                 Model  Average Precision Score\n",
       "0            Benchmark                 0.140000\n",
       "1  Logistic Regression                 0.028027"
      ]
     },
     "execution_count": 23,
     "metadata": {},
     "output_type": "execute_result"
    }
   ],
   "source": [
    "\n",
    "\n",
    "# Assuming X_train_encoded, y_train, X_val_encoded, and y_val are already defined\n",
    "\n",
    "# Separate the \"ID\" column\n",
    "X_train_ids = X_train_encoded[\"ID\"]\n",
    "X_val_ids = X_val_encoded[\"ID\"]\n",
    "\n",
    "# Remove the \"ID\" column from the training and validation data\n",
    "X_train_no_id = X_train_encoded.drop(columns=[\"ID\"])\n",
    "X_val_no_id = X_val_encoded.drop(columns=[\"ID\"])\n",
    "\n",
    "# Initialize the Logistic Regression model\n",
    "logistic_model = LogisticRegression(random_state=42)\n",
    "\n",
    "# Fit the Logistic Regression model on the training data without the \"ID\" column\n",
    "logistic_model.fit(X_train_no_id, y_train)\n",
    "\n",
    "# Make predictions on the validation set without the \"ID\" column\n",
    "y_val_pred_prob = logistic_model.predict_proba(X_val_no_id)[:, 1]  # Get probability of fraud (class 1)\n",
    "y_val_pred = logistic_model.predict(X_val_no_id)  # Get predicted class labels\n",
    "\n",
    "# Attach predictions to their corresponding basket ID\n",
    "df_val_predictions = pd.DataFrame({\"ID\": X_val_ids, \"fraud_prob\": y_val_pred_prob})\n",
    "\n",
    "# Transform ID to int\n",
    "df_val_predictions['ID'] = df_val_predictions['ID'].astype(int)\n",
    "\n",
    "# Aggregate predictions per basket (using max probability)\n",
    "df_basket_pred = df_val_predictions.groupby(\"ID\", sort=False).max().reset_index()\n",
    "\n",
    "# Get the actual fraud labels per ID (assuming fraud_flag is unique per basket)\n",
    "df_actual_fraud = pd.DataFrame({\"ID\": X_val_ids, \"fraud_flag\": y_val})\n",
    "df_actual_fraud = df_actual_fraud.groupby(\"ID\", sort=False).max().reset_index()\n",
    "df_actual_fraud.dropna(inplace=True)\n",
    "\n",
    "# Calculate the average precision score\n",
    "average_precision = average_precision_score(df_actual_fraud['fraud_flag'], df_basket_pred['fraud_prob'])\n",
    "\n",
    "print(f\"Average Precision Score on validation set: {average_precision:.4f}\")\n",
    "\n",
    "# Store the average precision score in the DataFrame\n",
    "average_precision_scores.loc[1] = ['Logistic Regression', average_precision]\n",
    "\n",
    "\n",
    "average_precision_scores\n"
   ]
  },
  {
   "cell_type": "markdown",
   "metadata": {},
   "source": [
    "- As expected, the classifier performs poorly, especially due to the nature of our dataset.  \n",
    "- Let's try to balance the dataset with over-sampling to see if we can improve our model."
   ]
  },
  {
   "cell_type": "code",
   "execution_count": 27,
   "metadata": {},
   "outputs": [
    {
     "name": "stderr",
     "output_type": "stream",
     "text": [
      "c:\\Users\\asus\\anaconda3\\Lib\\site-packages\\sklearn\\base.py:474: FutureWarning: `BaseEstimator._validate_data` is deprecated in 1.6 and will be removed in 1.7. Use `sklearn.utils.validation.validate_data` instead. This function becomes public and is part of the scikit-learn developer API.\n",
      "  warnings.warn(\n"
     ]
    },
    {
     "name": "stdout",
     "output_type": "stream",
     "text": [
      "Average Precision Score on validation set: 0.0502\n"
     ]
    },
    {
     "name": "stderr",
     "output_type": "stream",
     "text": [
      "c:\\Users\\asus\\anaconda3\\Lib\\site-packages\\sklearn\\linear_model\\_logistic.py:465: ConvergenceWarning: lbfgs failed to converge (status=1):\n",
      "STOP: TOTAL NO. of ITERATIONS REACHED LIMIT.\n",
      "\n",
      "Increase the number of iterations (max_iter) or scale the data as shown in:\n",
      "    https://scikit-learn.org/stable/modules/preprocessing.html\n",
      "Please also refer to the documentation for alternative solver options:\n",
      "    https://scikit-learn.org/stable/modules/linear_model.html#logistic-regression\n",
      "  n_iter_i = _check_optimize_result(\n"
     ]
    },
    {
     "data": {
      "text/html": [
       "<div>\n",
       "<style scoped>\n",
       "    .dataframe tbody tr th:only-of-type {\n",
       "        vertical-align: middle;\n",
       "    }\n",
       "\n",
       "    .dataframe tbody tr th {\n",
       "        vertical-align: top;\n",
       "    }\n",
       "\n",
       "    .dataframe thead th {\n",
       "        text-align: right;\n",
       "    }\n",
       "</style>\n",
       "<table border=\"1\" class=\"dataframe\">\n",
       "  <thead>\n",
       "    <tr style=\"text-align: right;\">\n",
       "      <th></th>\n",
       "      <th>Model</th>\n",
       "      <th>Average Precision Score</th>\n",
       "    </tr>\n",
       "  </thead>\n",
       "  <tbody>\n",
       "    <tr>\n",
       "      <th>0</th>\n",
       "      <td>Benchmark</td>\n",
       "      <td>0.140000</td>\n",
       "    </tr>\n",
       "    <tr>\n",
       "      <th>1</th>\n",
       "      <td>Logistic Regression</td>\n",
       "      <td>0.028027</td>\n",
       "    </tr>\n",
       "    <tr>\n",
       "      <th>2</th>\n",
       "      <td>Logistic Regression with ADASYN</td>\n",
       "      <td>0.050163</td>\n",
       "    </tr>\n",
       "  </tbody>\n",
       "</table>\n",
       "</div>"
      ],
      "text/plain": [
       "                             Model  Average Precision Score\n",
       "0                        Benchmark                 0.140000\n",
       "1              Logistic Regression                 0.028027\n",
       "2  Logistic Regression with ADASYN                 0.050163"
      ]
     },
     "execution_count": 27,
     "metadata": {},
     "output_type": "execute_result"
    }
   ],
   "source": [
    "\n",
    "# Assuming X_train_encoded, y_train, X_val_encoded, and y_val are already defined\n",
    "\n",
    "# Separate the \"ID\" column\n",
    "X_train_ids = X_train_encoded[\"ID\"]\n",
    "X_val_ids = X_val_encoded[\"ID\"]\n",
    "\n",
    "# Remove the \"ID\" column from the training and validation data\n",
    "X_train_no_id = X_train_encoded.drop(columns=[\"ID\"])\n",
    "X_val_no_id = X_val_encoded.drop(columns=[\"ID\"])\n",
    "\n",
    "# Resample the training data using ADASYN\n",
    "adasyn = ADASYN(random_state=42, sampling_strategy=0.5)\n",
    "X_train_resampled, y_train_resampled = adasyn.fit_resample(X_train_no_id, y_train)\n",
    "\n",
    "# Initialize the Logistic Regression model\n",
    "logistic_model = LogisticRegression(random_state=42)\n",
    "\n",
    "# Fit the Logistic Regression model on the resampled training data\n",
    "logistic_model.fit(X_train_resampled, y_train_resampled)\n",
    "\n",
    "# Make predictions on the validation set without the \"ID\" column\n",
    "y_val_pred_prob = logistic_model.predict_proba(X_val_no_id)[:, 1]  # Get probability of fraud (class 1)\n",
    "y_val_pred = logistic_model.predict(X_val_no_id)  # Get predicted class labels\n",
    "\n",
    "# Attach predictions to their corresponding basket ID\n",
    "df_val_predictions = pd.DataFrame({\"ID\": X_val_ids, \"fraud_prob\": y_val_pred_prob})\n",
    "\n",
    "# Transform ID to int\n",
    "df_val_predictions['ID'] = df_val_predictions['ID'].astype(int)\n",
    "\n",
    "# Aggregate predictions per basket (using max probability)\n",
    "df_basket_pred = df_val_predictions.groupby(\"ID\", sort=False).max().reset_index()\n",
    "\n",
    "# Get the actual fraud labels per ID (assuming fraud_flag is unique per basket)\n",
    "df_actual_fraud = pd.DataFrame({\"ID\": X_val_ids, \"fraud_flag\": y_val})\n",
    "df_actual_fraud = df_actual_fraud.groupby(\"ID\", sort=False).max().reset_index()\n",
    "df_actual_fraud.dropna(inplace=True)\n",
    "\n",
    "# Calculate the average precision score\n",
    "average_precision = average_precision_score(df_actual_fraud['fraud_flag'], df_basket_pred['fraud_prob'])\n",
    "\n",
    "print(f\"Average Precision Score on validation set: {average_precision:.4f}\")\n",
    "\n",
    "# Store the average precision score in the DataFrame\n",
    "average_precision_scores.loc[2] = ['Logistic Regression with ADASYN', average_precision]\n",
    "\n",
    "average_precision_scores"
   ]
  },
  {
   "cell_type": "markdown",
   "metadata": {},
   "source": [
    "- We are going to scale the data to make the task easier on the model. Since in our problem **absolute magnitudes matters** (Cash price etc), we will use a MinMax Scaler to normalize rather than standardize."
   ]
  },
  {
   "cell_type": "code",
   "execution_count": 28,
   "metadata": {},
   "outputs": [
    {
     "name": "stderr",
     "output_type": "stream",
     "text": [
      "c:\\Users\\asus\\anaconda3\\Lib\\site-packages\\sklearn\\base.py:474: FutureWarning: `BaseEstimator._validate_data` is deprecated in 1.6 and will be removed in 1.7. Use `sklearn.utils.validation.validate_data` instead. This function becomes public and is part of the scikit-learn developer API.\n",
      "  warnings.warn(\n"
     ]
    },
    {
     "name": "stdout",
     "output_type": "stream",
     "text": [
      "Average Precision Score on validation set: 0.0791\n"
     ]
    },
    {
     "data": {
      "text/html": [
       "<div>\n",
       "<style scoped>\n",
       "    .dataframe tbody tr th:only-of-type {\n",
       "        vertical-align: middle;\n",
       "    }\n",
       "\n",
       "    .dataframe tbody tr th {\n",
       "        vertical-align: top;\n",
       "    }\n",
       "\n",
       "    .dataframe thead th {\n",
       "        text-align: right;\n",
       "    }\n",
       "</style>\n",
       "<table border=\"1\" class=\"dataframe\">\n",
       "  <thead>\n",
       "    <tr style=\"text-align: right;\">\n",
       "      <th></th>\n",
       "      <th>Model</th>\n",
       "      <th>Average Precision Score</th>\n",
       "    </tr>\n",
       "  </thead>\n",
       "  <tbody>\n",
       "    <tr>\n",
       "      <th>0</th>\n",
       "      <td>Benchmark</td>\n",
       "      <td>0.140000</td>\n",
       "    </tr>\n",
       "    <tr>\n",
       "      <th>1</th>\n",
       "      <td>Logistic Regression</td>\n",
       "      <td>0.028027</td>\n",
       "    </tr>\n",
       "    <tr>\n",
       "      <th>2</th>\n",
       "      <td>Logistic Regression with ADASYN</td>\n",
       "      <td>0.050163</td>\n",
       "    </tr>\n",
       "    <tr>\n",
       "      <th>3</th>\n",
       "      <td>Logistic Regression with ADASYN and Min-Max Sc...</td>\n",
       "      <td>0.079117</td>\n",
       "    </tr>\n",
       "  </tbody>\n",
       "</table>\n",
       "</div>"
      ],
      "text/plain": [
       "                                               Model  Average Precision Score\n",
       "0                                          Benchmark                 0.140000\n",
       "1                                Logistic Regression                 0.028027\n",
       "2                    Logistic Regression with ADASYN                 0.050163\n",
       "3  Logistic Regression with ADASYN and Min-Max Sc...                 0.079117"
      ]
     },
     "execution_count": 28,
     "metadata": {},
     "output_type": "execute_result"
    }
   ],
   "source": [
    "from imblearn.over_sampling import ADASYN\n",
    "from sklearn.linear_model import LogisticRegression\n",
    "from sklearn.metrics import average_precision_score\n",
    "from sklearn.preprocessing import MinMaxScaler\n",
    "import pandas as pd\n",
    "\n",
    "# Assuming X_train_encoded, y_train, X_val_encoded, and y_val are already defined\n",
    "\n",
    "# Separate the \"ID\" column\n",
    "X_train_ids = X_train_encoded[\"ID\"]\n",
    "X_val_ids = X_val_encoded[\"ID\"]\n",
    "\n",
    "# Remove the \"ID\" column from the training and validation data\n",
    "X_train_no_id = X_train_encoded.drop(columns=[\"ID\"])\n",
    "X_val_no_id = X_val_encoded.drop(columns=[\"ID\"])\n",
    "\n",
    "# Scale the training and validation data using Min-Max scaling\n",
    "scaler = MinMaxScaler()\n",
    "X_train_scaled = scaler.fit_transform(X_train_no_id)\n",
    "X_val_scaled = scaler.transform(X_val_no_id)\n",
    "\n",
    "# Resample the scaled training data using ADASYN\n",
    "adasyn = ADASYN(random_state=42, sampling_strategy=0.5)\n",
    "X_train_resampled, y_train_resampled = adasyn.fit_resample(X_train_scaled, y_train)\n",
    "\n",
    "# Initialize the Logistic Regression model\n",
    "logistic_model = LogisticRegression(random_state=42)\n",
    "\n",
    "# Fit the Logistic Regression model on the resampled training data\n",
    "logistic_model.fit(X_train_resampled, y_train_resampled)\n",
    "\n",
    "# Make predictions on the scaled validation set without the \"ID\" column\n",
    "y_val_pred_prob = logistic_model.predict_proba(X_val_scaled)[:, 1]  # Get probability of fraud (class 1)\n",
    "y_val_pred = logistic_model.predict(X_val_scaled)  # Get predicted class labels\n",
    "\n",
    "# Attach predictions to their corresponding basket ID\n",
    "df_val_predictions = pd.DataFrame({\"ID\": X_val_ids, \"fraud_prob\": y_val_pred_prob})\n",
    "\n",
    "# Transform ID to int\n",
    "df_val_predictions['ID'] = df_val_predictions['ID'].astype(int)\n",
    "\n",
    "# Aggregate predictions per basket (using max probability)\n",
    "df_basket_pred = df_val_predictions.groupby(\"ID\", sort=False).max().reset_index()\n",
    "\n",
    "# Get the actual fraud labels per ID (assuming fraud_flag is unique per basket)\n",
    "df_actual_fraud = pd.DataFrame({\"ID\": X_val_ids, \"fraud_flag\": y_val})\n",
    "df_actual_fraud = df_actual_fraud.groupby(\"ID\", sort=False).max().reset_index()\n",
    "df_actual_fraud.dropna(inplace=True)\n",
    "\n",
    "# Calculate the average precision score\n",
    "average_precision = average_precision_score(df_actual_fraud['fraud_flag'], df_basket_pred['fraud_prob'])\n",
    "\n",
    "print(f\"Average Precision Score on validation set: {average_precision:.4f}\")\n",
    "\n",
    "# Store the average precision score in the DataFrame\n",
    "\n",
    "average_precision_scores.loc[3] = ['Logistic Regression with ADASYN and Min-Max Scaling', average_precision]\n",
    "\n",
    "average_precision_scores"
   ]
  },
  {
   "cell_type": "markdown",
   "metadata": {},
   "source": [
    "## <a id='toc4_2_'></a>[QDA CLassifier](#toc0_)"
   ]
  },
  {
   "cell_type": "code",
   "execution_count": 29,
   "metadata": {},
   "outputs": [
    {
     "name": "stderr",
     "output_type": "stream",
     "text": [
      "c:\\Users\\asus\\anaconda3\\Lib\\site-packages\\sklearn\\base.py:474: FutureWarning: `BaseEstimator._validate_data` is deprecated in 1.6 and will be removed in 1.7. Use `sklearn.utils.validation.validate_data` instead. This function becomes public and is part of the scikit-learn developer API.\n",
      "  warnings.warn(\n"
     ]
    },
    {
     "name": "stdout",
     "output_type": "stream",
     "text": [
      "Average precision score: 0.06494\n"
     ]
    },
    {
     "name": "stderr",
     "output_type": "stream",
     "text": [
      "c:\\Users\\asus\\anaconda3\\Lib\\site-packages\\sklearn\\discriminant_analysis.py:1024: LinAlgWarning: The covariance matrix of class 1 is not full rank. Increasing the value of parameter `reg_param` might help reducing the collinearity.\n",
      "  warnings.warn(\n"
     ]
    },
    {
     "data": {
      "text/html": [
       "<div>\n",
       "<style scoped>\n",
       "    .dataframe tbody tr th:only-of-type {\n",
       "        vertical-align: middle;\n",
       "    }\n",
       "\n",
       "    .dataframe tbody tr th {\n",
       "        vertical-align: top;\n",
       "    }\n",
       "\n",
       "    .dataframe thead th {\n",
       "        text-align: right;\n",
       "    }\n",
       "</style>\n",
       "<table border=\"1\" class=\"dataframe\">\n",
       "  <thead>\n",
       "    <tr style=\"text-align: right;\">\n",
       "      <th></th>\n",
       "      <th>Model</th>\n",
       "      <th>Average Precision Score</th>\n",
       "    </tr>\n",
       "  </thead>\n",
       "  <tbody>\n",
       "    <tr>\n",
       "      <th>0</th>\n",
       "      <td>Benchmark</td>\n",
       "      <td>0.140000</td>\n",
       "    </tr>\n",
       "    <tr>\n",
       "      <th>1</th>\n",
       "      <td>Logistic Regression</td>\n",
       "      <td>0.028027</td>\n",
       "    </tr>\n",
       "    <tr>\n",
       "      <th>2</th>\n",
       "      <td>Logistic Regression with ADASYN</td>\n",
       "      <td>0.050163</td>\n",
       "    </tr>\n",
       "    <tr>\n",
       "      <th>3</th>\n",
       "      <td>Logistic Regression with ADASYN and Min-Max Sc...</td>\n",
       "      <td>0.079117</td>\n",
       "    </tr>\n",
       "    <tr>\n",
       "      <th>4</th>\n",
       "      <td>QDA with ADASYN and Min-Max Scaling</td>\n",
       "      <td>0.064937</td>\n",
       "    </tr>\n",
       "  </tbody>\n",
       "</table>\n",
       "</div>"
      ],
      "text/plain": [
       "                                               Model  Average Precision Score\n",
       "0                                          Benchmark                 0.140000\n",
       "1                                Logistic Regression                 0.028027\n",
       "2                    Logistic Regression with ADASYN                 0.050163\n",
       "3  Logistic Regression with ADASYN and Min-Max Sc...                 0.079117\n",
       "4                QDA with ADASYN and Min-Max Scaling                 0.064937"
      ]
     },
     "execution_count": 29,
     "metadata": {},
     "output_type": "execute_result"
    }
   ],
   "source": [
    "from imblearn.over_sampling import ADASYN\n",
    "from sklearn.discriminant_analysis import QuadraticDiscriminantAnalysis\n",
    "from sklearn.preprocessing import MinMaxScaler\n",
    "from sklearn.metrics import average_precision_score\n",
    "import pandas as pd\n",
    "\n",
    "# Separate the \"ID\" column\n",
    "X_train_ids = X_train_encoded[\"ID\"]\n",
    "X_val_ids = X_val_encoded[\"ID\"]\n",
    "\n",
    "# Remove the \"ID\" column from the training and validation data\n",
    "X_train_no_id = X_train_encoded.drop(columns=[\"ID\"])\n",
    "X_val_no_id = X_val_encoded.drop(columns=[\"ID\"])\n",
    "\n",
    "# Scale the training and validation data using Min-Max scaling\n",
    "scaler = MinMaxScaler()\n",
    "X_train_scaled = scaler.fit_transform(X_train_no_id)\n",
    "X_val_scaled = scaler.transform(X_val_no_id)\n",
    "\n",
    "# Resample the scaled training data using ADASYN\n",
    "adasyn = ADASYN(random_state=42, sampling_strategy=0.5)\n",
    "X_train_resampled, y_train_resampled = adasyn.fit_resample(X_train_scaled, y_train)\n",
    "\n",
    "# Initialize the QDA model\n",
    "qda_model = QuadraticDiscriminantAnalysis()\n",
    "\n",
    "# Fit the QDA model on the resampled training data\n",
    "qda_model.fit(X_train_resampled, y_train_resampled)\n",
    "\n",
    "# Make predictions on the scaled validation set\n",
    "y_val_pred_prob = qda_model.predict_proba(X_val_scaled)[:, 1]  # Get probability of fraud (class 1)\n",
    "y_val_pred = qda_model.predict(X_val_scaled)  # Get predicted class labels\n",
    "\n",
    "# Attach predictions to their corresponding basket ID\n",
    "df_val_predictions = pd.DataFrame({\"ID\": X_val_ids, \"fraud_prob\": y_val_pred_prob})\n",
    "\n",
    "# Transform ID to int\n",
    "df_val_predictions['ID'] = df_val_predictions['ID'].astype(int)\n",
    "\n",
    "# Aggregate predictions per basket (using max probability)\n",
    "df_basket_pred = df_val_predictions.groupby(\"ID\", sort=False).max().reset_index()\n",
    "\n",
    "# Get the actual fraud labels per ID (assuming fraud_flag is unique per basket)\n",
    "df_actual_fraud = pd.DataFrame({\"ID\": X_val_ids, \"fraud_flag\": y_val})\n",
    "df_actual_fraud = df_actual_fraud.groupby(\"ID\", sort=False).max().reset_index()\n",
    "df_actual_fraud.dropna(inplace=True)\n",
    "\n",
    "# Calculate the average precision score\n",
    "average_precision = average_precision_score(df_actual_fraud['fraud_flag'], df_basket_pred['fraud_prob'])\n",
    "\n",
    "print(f'Average precision score: {average_precision:.5f}')\n",
    "\n",
    "# Store the average precision score in the DataFrame\n",
    "\n",
    "average_precision_scores.loc[4] = ['QDA with ADASYN and Min-Max Scaling', average_precision]\n",
    "\n",
    "average_precision_scores"
   ]
  },
  {
   "cell_type": "markdown",
   "metadata": {},
   "source": [
    "- Now, let's add some new features to add more nuances to our dataset."
   ]
  },
  {
   "cell_type": "code",
   "execution_count": 30,
   "metadata": {},
   "outputs": [
    {
     "name": "stderr",
     "output_type": "stream",
     "text": [
      "C:\\Users\\asus\\AppData\\Local\\Temp\\ipykernel_8892\\2912828550.py:3: FutureWarning: A value is trying to be set on a copy of a DataFrame or Series through chained assignment using an inplace method.\n",
      "The behavior will change in pandas 3.0. This inplace method will never work because the intermediate object on which we are setting values always behaves as a copy.\n",
      "\n",
      "For example, when doing 'df[col].method(value, inplace=True)', try using 'df.method({col: value}, inplace=True)' or df[col] = df[col].method(value) instead, to perform the operation inplace on the original object.\n",
      "\n",
      "\n",
      "  df[\"contribution_to_total\"].fillna(0, inplace=True)  # Handle division by zero\n",
      "C:\\Users\\asus\\AppData\\Local\\Temp\\ipykernel_8892\\2912828550.py:9: FutureWarning: A value is trying to be set on a copy of a DataFrame or Series through chained assignment using an inplace method.\n",
      "The behavior will change in pandas 3.0. This inplace method will never work because the intermediate object on which we are setting values always behaves as a copy.\n",
      "\n",
      "For example, when doing 'df[col].method(value, inplace=True)', try using 'df.method({col: value}, inplace=True)' or df[col] = df[col].method(value) instead, to perform the operation inplace on the original object.\n",
      "\n",
      "\n",
      "  df[\"avg_item_price\"].fillna(0, inplace=True)\n",
      "C:\\Users\\asus\\AppData\\Local\\Temp\\ipykernel_8892\\2912828550.py:15: FutureWarning: A value is trying to be set on a copy of a DataFrame or Series through chained assignment using an inplace method.\n",
      "The behavior will change in pandas 3.0. This inplace method will never work because the intermediate object on which we are setting values always behaves as a copy.\n",
      "\n",
      "For example, when doing 'df[col].method(value, inplace=True)', try using 'df.method({col: value}, inplace=True)' or df[col] = df[col].method(value) instead, to perform the operation inplace on the original object.\n",
      "\n",
      "\n",
      "  df[\"max_item_contribution\"].fillna(0, inplace=True)\n",
      "C:\\Users\\asus\\AppData\\Local\\Temp\\ipykernel_8892\\2912828550.py:28: FutureWarning: A value is trying to be set on a copy of a DataFrame or Series through chained assignment using an inplace method.\n",
      "The behavior will change in pandas 3.0. This inplace method will never work because the intermediate object on which we are setting values always behaves as a copy.\n",
      "\n",
      "For example, when doing 'df[col].method(value, inplace=True)', try using 'df.method({col: value}, inplace=True)' or df[col] = df[col].method(value) instead, to perform the operation inplace on the original object.\n",
      "\n",
      "\n",
      "  df[\"item_repetition_ratio\"].fillna(0, inplace=True)\n",
      "C:\\Users\\asus\\AppData\\Local\\Temp\\ipykernel_8892\\2912828550.py:3: FutureWarning: A value is trying to be set on a copy of a DataFrame or Series through chained assignment using an inplace method.\n",
      "The behavior will change in pandas 3.0. This inplace method will never work because the intermediate object on which we are setting values always behaves as a copy.\n",
      "\n",
      "For example, when doing 'df[col].method(value, inplace=True)', try using 'df.method({col: value}, inplace=True)' or df[col] = df[col].method(value) instead, to perform the operation inplace on the original object.\n",
      "\n",
      "\n",
      "  df[\"contribution_to_total\"].fillna(0, inplace=True)  # Handle division by zero\n",
      "C:\\Users\\asus\\AppData\\Local\\Temp\\ipykernel_8892\\2912828550.py:9: FutureWarning: A value is trying to be set on a copy of a DataFrame or Series through chained assignment using an inplace method.\n",
      "The behavior will change in pandas 3.0. This inplace method will never work because the intermediate object on which we are setting values always behaves as a copy.\n",
      "\n",
      "For example, when doing 'df[col].method(value, inplace=True)', try using 'df.method({col: value}, inplace=True)' or df[col] = df[col].method(value) instead, to perform the operation inplace on the original object.\n",
      "\n",
      "\n",
      "  df[\"avg_item_price\"].fillna(0, inplace=True)\n",
      "C:\\Users\\asus\\AppData\\Local\\Temp\\ipykernel_8892\\2912828550.py:15: FutureWarning: A value is trying to be set on a copy of a DataFrame or Series through chained assignment using an inplace method.\n",
      "The behavior will change in pandas 3.0. This inplace method will never work because the intermediate object on which we are setting values always behaves as a copy.\n",
      "\n",
      "For example, when doing 'df[col].method(value, inplace=True)', try using 'df.method({col: value}, inplace=True)' or df[col] = df[col].method(value) instead, to perform the operation inplace on the original object.\n",
      "\n",
      "\n",
      "  df[\"max_item_contribution\"].fillna(0, inplace=True)\n"
     ]
    },
    {
     "name": "stdout",
     "output_type": "stream",
     "text": [
      "Augmented Training Data:\n"
     ]
    },
    {
     "name": "stderr",
     "output_type": "stream",
     "text": [
      "C:\\Users\\asus\\AppData\\Local\\Temp\\ipykernel_8892\\2912828550.py:28: FutureWarning: A value is trying to be set on a copy of a DataFrame or Series through chained assignment using an inplace method.\n",
      "The behavior will change in pandas 3.0. This inplace method will never work because the intermediate object on which we are setting values always behaves as a copy.\n",
      "\n",
      "For example, when doing 'df[col].method(value, inplace=True)', try using 'df.method({col: value}, inplace=True)' or df[col] = df[col].method(value) instead, to perform the operation inplace on the original object.\n",
      "\n",
      "\n",
      "  df[\"item_repetition_ratio\"].fillna(0, inplace=True)\n"
     ]
    },
    {
     "data": {
      "text/html": [
       "<div>\n",
       "<style scoped>\n",
       "    .dataframe tbody tr th:only-of-type {\n",
       "        vertical-align: middle;\n",
       "    }\n",
       "\n",
       "    .dataframe tbody tr th {\n",
       "        vertical-align: top;\n",
       "    }\n",
       "\n",
       "    .dataframe thead th {\n",
       "        text-align: right;\n",
       "    }\n",
       "</style>\n",
       "<table border=\"1\" class=\"dataframe\">\n",
       "  <thead>\n",
       "    <tr style=\"text-align: right;\">\n",
       "      <th></th>\n",
       "      <th>ID</th>\n",
       "      <th>Nb_of_items</th>\n",
       "      <th>total_basket_price</th>\n",
       "      <th>item_number</th>\n",
       "      <th>item</th>\n",
       "      <th>Nbr_of_prod_purchas</th>\n",
       "      <th>make</th>\n",
       "      <th>model</th>\n",
       "      <th>goods_code</th>\n",
       "      <th>cash_price</th>\n",
       "      <th>contribution_to_total</th>\n",
       "      <th>avg_item_price</th>\n",
       "      <th>max_item_contribution</th>\n",
       "      <th>basket_price_zscore</th>\n",
       "      <th>item_repetition_ratio</th>\n",
       "    </tr>\n",
       "  </thead>\n",
       "  <tbody>\n",
       "    <tr>\n",
       "      <th>0</th>\n",
       "      <td>85517</td>\n",
       "      <td>1.0</td>\n",
       "      <td>889.0</td>\n",
       "      <td>1.0</td>\n",
       "      <td>0.022794</td>\n",
       "      <td>1.0</td>\n",
       "      <td>0.018200</td>\n",
       "      <td>0.012292</td>\n",
       "      <td>0.014744</td>\n",
       "      <td>889.0</td>\n",
       "      <td>1.000000</td>\n",
       "      <td>889.0</td>\n",
       "      <td>1.0</td>\n",
       "      <td>-0.534347</td>\n",
       "      <td>1.0</td>\n",
       "    </tr>\n",
       "    <tr>\n",
       "      <th>1</th>\n",
       "      <td>51113</td>\n",
       "      <td>1.0</td>\n",
       "      <td>409.0</td>\n",
       "      <td>1.0</td>\n",
       "      <td>0.004236</td>\n",
       "      <td>1.0</td>\n",
       "      <td>0.018200</td>\n",
       "      <td>0.005435</td>\n",
       "      <td>0.002874</td>\n",
       "      <td>409.0</td>\n",
       "      <td>1.000000</td>\n",
       "      <td>409.0</td>\n",
       "      <td>1.0</td>\n",
       "      <td>-1.084122</td>\n",
       "      <td>1.0</td>\n",
       "    </tr>\n",
       "    <tr>\n",
       "      <th>3</th>\n",
       "      <td>78712</td>\n",
       "      <td>2.0</td>\n",
       "      <td>808.0</td>\n",
       "      <td>1.0</td>\n",
       "      <td>0.022794</td>\n",
       "      <td>1.0</td>\n",
       "      <td>0.018200</td>\n",
       "      <td>0.002796</td>\n",
       "      <td>0.000003</td>\n",
       "      <td>689.0</td>\n",
       "      <td>0.852723</td>\n",
       "      <td>404.0</td>\n",
       "      <td>1.0</td>\n",
       "      <td>-0.627122</td>\n",
       "      <td>0.5</td>\n",
       "    </tr>\n",
       "    <tr>\n",
       "      <th>4</th>\n",
       "      <td>78712</td>\n",
       "      <td>2.0</td>\n",
       "      <td>808.0</td>\n",
       "      <td>2.0</td>\n",
       "      <td>0.004236</td>\n",
       "      <td>1.0</td>\n",
       "      <td>0.018200</td>\n",
       "      <td>0.003053</td>\n",
       "      <td>0.002721</td>\n",
       "      <td>119.0</td>\n",
       "      <td>0.147277</td>\n",
       "      <td>404.0</td>\n",
       "      <td>1.0</td>\n",
       "      <td>-0.627122</td>\n",
       "      <td>0.5</td>\n",
       "    </tr>\n",
       "    <tr>\n",
       "      <th>5</th>\n",
       "      <td>77846</td>\n",
       "      <td>1.0</td>\n",
       "      <td>1199.0</td>\n",
       "      <td>1.0</td>\n",
       "      <td>0.004178</td>\n",
       "      <td>1.0</td>\n",
       "      <td>0.002794</td>\n",
       "      <td>0.005102</td>\n",
       "      <td>0.005128</td>\n",
       "      <td>1199.0</td>\n",
       "      <td>1.000000</td>\n",
       "      <td>1199.0</td>\n",
       "      <td>1.0</td>\n",
       "      <td>-0.179284</td>\n",
       "      <td>1.0</td>\n",
       "    </tr>\n",
       "  </tbody>\n",
       "</table>\n",
       "</div>"
      ],
      "text/plain": [
       "      ID  Nb_of_items  total_basket_price  item_number      item  \\\n",
       "0  85517          1.0               889.0          1.0  0.022794   \n",
       "1  51113          1.0               409.0          1.0  0.004236   \n",
       "3  78712          2.0               808.0          1.0  0.022794   \n",
       "4  78712          2.0               808.0          2.0  0.004236   \n",
       "5  77846          1.0              1199.0          1.0  0.004178   \n",
       "\n",
       "   Nbr_of_prod_purchas      make     model  goods_code  cash_price  \\\n",
       "0                  1.0  0.018200  0.012292    0.014744       889.0   \n",
       "1                  1.0  0.018200  0.005435    0.002874       409.0   \n",
       "3                  1.0  0.018200  0.002796    0.000003       689.0   \n",
       "4                  1.0  0.018200  0.003053    0.002721       119.0   \n",
       "5                  1.0  0.002794  0.005102    0.005128      1199.0   \n",
       "\n",
       "   contribution_to_total  avg_item_price  max_item_contribution  \\\n",
       "0               1.000000           889.0                    1.0   \n",
       "1               1.000000           409.0                    1.0   \n",
       "3               0.852723           404.0                    1.0   \n",
       "4               0.147277           404.0                    1.0   \n",
       "5               1.000000          1199.0                    1.0   \n",
       "\n",
       "   basket_price_zscore  item_repetition_ratio  \n",
       "0            -0.534347                    1.0  \n",
       "1            -1.084122                    1.0  \n",
       "3            -0.627122                    0.5  \n",
       "4            -0.627122                    0.5  \n",
       "5            -0.179284                    1.0  "
      ]
     },
     "execution_count": 30,
     "metadata": {},
     "output_type": "execute_result"
    }
   ],
   "source": [
    "def compute_contribution_to_total(df):\n",
    "    df[\"contribution_to_total\"] = df[\"cash_price\"] / df[\"total_basket_price\"]\n",
    "    df[\"contribution_to_total\"].fillna(0, inplace=True)  # Handle division by zero\n",
    "    return df\n",
    "\n",
    "# Average item price in the basket\n",
    "def compute_avg_item_price(df):\n",
    "    df[\"avg_item_price\"] = df[\"total_basket_price\"] / df[\"Nb_of_items\"]\n",
    "    df[\"avg_item_price\"].fillna(0, inplace=True)\n",
    "    return df\n",
    "\n",
    "# Maximum item contribution to total basket price\n",
    "def compute_max_item_contribution(df):\n",
    "    df[\"max_item_contribution\"] = df[[\"cash_price\", \"total_basket_price\"]].max(axis=1) / df[\"total_basket_price\"]\n",
    "    df[\"max_item_contribution\"].fillna(0, inplace=True)\n",
    "    return df\n",
    "\n",
    "# Basket price deviation (Z-score)\n",
    "def compute_basket_price_zscore(df):\n",
    "    mean_price = df[\"total_basket_price\"].mean()\n",
    "    std_price = df[\"total_basket_price\"].std()\n",
    "    df[\"basket_price_zscore\"] = (df[\"total_basket_price\"] - mean_price) / (std_price + 1e-6)\n",
    "    return df\n",
    "\n",
    "# Item repetition within a basket\n",
    "def compute_item_repetition_ratio(df):\n",
    "    df[\"item_repetition_ratio\"] = df[\"Nbr_of_prod_purchas\"] / df[\"Nb_of_items\"]\n",
    "    df[\"item_repetition_ratio\"].fillna(0, inplace=True)\n",
    "    return df\n",
    "\n",
    "# Apply transformations\n",
    "X_train_augmented = compute_contribution_to_total(X_train_encoded)\n",
    "X_train_augmented = compute_avg_item_price(X_train_augmented)\n",
    "X_train_augmented = compute_max_item_contribution(X_train_augmented)\n",
    "X_train_augmented = compute_basket_price_zscore(X_train_augmented)\n",
    "X_train_augmented = compute_item_repetition_ratio(X_train_augmented)\n",
    "\n",
    "X_val_augmented = compute_contribution_to_total(X_val_encoded)\n",
    "X_val_augmented = compute_avg_item_price(X_val_augmented)\n",
    "X_val_augmented = compute_max_item_contribution(X_val_augmented)\n",
    "X_val_augmented = compute_basket_price_zscore(X_val_augmented)\n",
    "X_val_augmented = compute_item_repetition_ratio(X_val_augmented)\n",
    "\n",
    "# Display the first few rows of the augmented training data\n",
    "print(\"Augmented Training Data:\")\n",
    "X_train_augmented.head()"
   ]
  },
  {
   "cell_type": "code",
   "execution_count": 31,
   "metadata": {},
   "outputs": [
    {
     "name": "stderr",
     "output_type": "stream",
     "text": [
      "c:\\Users\\asus\\anaconda3\\Lib\\site-packages\\sklearn\\base.py:474: FutureWarning: `BaseEstimator._validate_data` is deprecated in 1.6 and will be removed in 1.7. Use `sklearn.utils.validation.validate_data` instead. This function becomes public and is part of the scikit-learn developer API.\n",
      "  warnings.warn(\n"
     ]
    },
    {
     "name": "stdout",
     "output_type": "stream",
     "text": [
      "Average Precision Score on validation set: 0.0793\n"
     ]
    },
    {
     "data": {
      "text/html": [
       "<div>\n",
       "<style scoped>\n",
       "    .dataframe tbody tr th:only-of-type {\n",
       "        vertical-align: middle;\n",
       "    }\n",
       "\n",
       "    .dataframe tbody tr th {\n",
       "        vertical-align: top;\n",
       "    }\n",
       "\n",
       "    .dataframe thead th {\n",
       "        text-align: right;\n",
       "    }\n",
       "</style>\n",
       "<table border=\"1\" class=\"dataframe\">\n",
       "  <thead>\n",
       "    <tr style=\"text-align: right;\">\n",
       "      <th></th>\n",
       "      <th>Model</th>\n",
       "      <th>Average Precision Score</th>\n",
       "    </tr>\n",
       "  </thead>\n",
       "  <tbody>\n",
       "    <tr>\n",
       "      <th>0</th>\n",
       "      <td>Benchmark</td>\n",
       "      <td>0.140000</td>\n",
       "    </tr>\n",
       "    <tr>\n",
       "      <th>1</th>\n",
       "      <td>Logistic Regression</td>\n",
       "      <td>0.028027</td>\n",
       "    </tr>\n",
       "    <tr>\n",
       "      <th>2</th>\n",
       "      <td>Logistic Regression with ADASYN</td>\n",
       "      <td>0.050163</td>\n",
       "    </tr>\n",
       "    <tr>\n",
       "      <th>3</th>\n",
       "      <td>Logistic Regression with ADASYN and Min-Max Sc...</td>\n",
       "      <td>0.079117</td>\n",
       "    </tr>\n",
       "    <tr>\n",
       "      <th>4</th>\n",
       "      <td>QDA with ADASYN and Min-Max Scaling</td>\n",
       "      <td>0.064937</td>\n",
       "    </tr>\n",
       "    <tr>\n",
       "      <th>5</th>\n",
       "      <td>Logistic Regression with ADASYN, Min-Max Scali...</td>\n",
       "      <td>0.079257</td>\n",
       "    </tr>\n",
       "  </tbody>\n",
       "</table>\n",
       "</div>"
      ],
      "text/plain": [
       "                                               Model  Average Precision Score\n",
       "0                                          Benchmark                 0.140000\n",
       "1                                Logistic Regression                 0.028027\n",
       "2                    Logistic Regression with ADASYN                 0.050163\n",
       "3  Logistic Regression with ADASYN and Min-Max Sc...                 0.079117\n",
       "4                QDA with ADASYN and Min-Max Scaling                 0.064937\n",
       "5  Logistic Regression with ADASYN, Min-Max Scali...                 0.079257"
      ]
     },
     "execution_count": 31,
     "metadata": {},
     "output_type": "execute_result"
    }
   ],
   "source": [
    "\n",
    "\n",
    "# Separate the \"ID\" column\n",
    "X_train_ids = X_train_augmented[\"ID\"]\n",
    "X_val_ids = X_val_augmented[\"ID\"]\n",
    "\n",
    "# Remove the \"ID\" column from the training and validation data\n",
    "X_train_no_id = X_train_augmented.drop(columns=[\"ID\"])\n",
    "X_val_no_id = X_val_augmented.drop(columns=[\"ID\"])\n",
    "\n",
    "# Scale the training and validation data using Min-Max scaling\n",
    "scaler = MinMaxScaler()\n",
    "X_train_scaled = scaler.fit_transform(X_train_no_id)\n",
    "X_val_scaled = scaler.transform(X_val_no_id)\n",
    "\n",
    "# Resample the scaled training data using ADASYN\n",
    "adasyn = ADASYN(random_state=42, sampling_strategy=0.5)\n",
    "X_train_resampled, y_train_resampled = adasyn.fit_resample(X_train_scaled, y_train)\n",
    "\n",
    "# Initialize the Logistic Regression model\n",
    "logistic_model = LogisticRegression(random_state=42)\n",
    "\n",
    "# Fit the Logistic Regression model on the resampled training data\n",
    "logistic_model.fit(X_train_resampled, y_train_resampled)\n",
    "\n",
    "# Make predictions on the scaled validation set without the \"ID\" column\n",
    "y_val_pred_prob = logistic_model.predict_proba(X_val_scaled)[:, 1]  # Get probability of fraud (class 1)\n",
    "y_val_pred = logistic_model.predict(X_val_scaled)  # Get predicted class labels\n",
    "\n",
    "# Attach predictions to their corresponding basket ID\n",
    "df_val_predictions = pd.DataFrame({\"ID\": X_val_ids, \"fraud_prob\": y_val_pred_prob})\n",
    "\n",
    "# Transform ID to int\n",
    "df_val_predictions['ID'] = df_val_predictions['ID'].astype(int)\n",
    "\n",
    "# Aggregate predictions per basket (using max probability)\n",
    "df_basket_pred = df_val_predictions.groupby(\"ID\", sort=False).max().reset_index()\n",
    "\n",
    "# Get the actual fraud labels per ID (assuming fraud_flag is unique per basket)\n",
    "df_actual_fraud = pd.DataFrame({\"ID\": X_val_ids, \"fraud_flag\": y_val})\n",
    "df_actual_fraud = df_actual_fraud.groupby(\"ID\", sort=False).max().reset_index()\n",
    "df_actual_fraud.dropna(inplace=True)\n",
    "\n",
    "# Calculate the average precision score\n",
    "average_precision = average_precision_score(df_actual_fraud['fraud_flag'], df_basket_pred['fraud_prob'])\n",
    "\n",
    "print(f\"Average Precision Score on validation set: {average_precision:.4f}\")\n",
    "\n",
    "# Store the average precision score in the DataFrame\n",
    "\n",
    "average_precision_scores.loc[5] = ['Logistic Regression with ADASYN, Min-Max Scaling, and Augmented Features', average_precision]\n",
    "\n",
    "average_precision_scores"
   ]
  },
  {
   "cell_type": "markdown",
   "metadata": {},
   "source": [
    "- Now we will try an SVC with an RBF kernel. Since SVC takes way more time to compute than the other models, we will use a subsample (while keeping the target distribution and items of the same IDs in the same basket)."
   ]
  },
  {
   "cell_type": "markdown",
   "metadata": {},
   "source": [
    "## <a id='toc4_3_'></a>[SVC](#toc0_)"
   ]
  },
  {
   "cell_type": "code",
   "execution_count": 32,
   "metadata": {},
   "outputs": [
    {
     "name": "stderr",
     "output_type": "stream",
     "text": [
      "c:\\Users\\asus\\anaconda3\\Lib\\site-packages\\sklearn\\base.py:474: FutureWarning: `BaseEstimator._validate_data` is deprecated in 1.6 and will be removed in 1.7. Use `sklearn.utils.validation.validate_data` instead. This function becomes public and is part of the scikit-learn developer API.\n",
      "  warnings.warn(\n"
     ]
    },
    {
     "name": "stdout",
     "output_type": "stream",
     "text": [
      "Average precision score: 0.07032\n"
     ]
    },
    {
     "data": {
      "text/html": [
       "<div>\n",
       "<style scoped>\n",
       "    .dataframe tbody tr th:only-of-type {\n",
       "        vertical-align: middle;\n",
       "    }\n",
       "\n",
       "    .dataframe tbody tr th {\n",
       "        vertical-align: top;\n",
       "    }\n",
       "\n",
       "    .dataframe thead th {\n",
       "        text-align: right;\n",
       "    }\n",
       "</style>\n",
       "<table border=\"1\" class=\"dataframe\">\n",
       "  <thead>\n",
       "    <tr style=\"text-align: right;\">\n",
       "      <th></th>\n",
       "      <th>Model</th>\n",
       "      <th>Average Precision Score</th>\n",
       "    </tr>\n",
       "  </thead>\n",
       "  <tbody>\n",
       "    <tr>\n",
       "      <th>0</th>\n",
       "      <td>Benchmark</td>\n",
       "      <td>0.140000</td>\n",
       "    </tr>\n",
       "    <tr>\n",
       "      <th>1</th>\n",
       "      <td>Logistic Regression</td>\n",
       "      <td>0.028027</td>\n",
       "    </tr>\n",
       "    <tr>\n",
       "      <th>2</th>\n",
       "      <td>Logistic Regression with ADASYN</td>\n",
       "      <td>0.050163</td>\n",
       "    </tr>\n",
       "    <tr>\n",
       "      <th>3</th>\n",
       "      <td>Logistic Regression with ADASYN and Min-Max Sc...</td>\n",
       "      <td>0.079117</td>\n",
       "    </tr>\n",
       "    <tr>\n",
       "      <th>4</th>\n",
       "      <td>QDA with ADASYN and Min-Max Scaling</td>\n",
       "      <td>0.064937</td>\n",
       "    </tr>\n",
       "    <tr>\n",
       "      <th>5</th>\n",
       "      <td>Logistic Regression with ADASYN, Min-Max Scali...</td>\n",
       "      <td>0.079257</td>\n",
       "    </tr>\n",
       "    <tr>\n",
       "      <th>6</th>\n",
       "      <td>SVC with RBF Kernel, ADASYN, and Min-Max Scaling</td>\n",
       "      <td>0.070320</td>\n",
       "    </tr>\n",
       "  </tbody>\n",
       "</table>\n",
       "</div>"
      ],
      "text/plain": [
       "                                               Model  Average Precision Score\n",
       "0                                          Benchmark                 0.140000\n",
       "1                                Logistic Regression                 0.028027\n",
       "2                    Logistic Regression with ADASYN                 0.050163\n",
       "3  Logistic Regression with ADASYN and Min-Max Sc...                 0.079117\n",
       "4                QDA with ADASYN and Min-Max Scaling                 0.064937\n",
       "5  Logistic Regression with ADASYN, Min-Max Scali...                 0.079257\n",
       "6   SVC with RBF Kernel, ADASYN, and Min-Max Scaling                 0.070320"
      ]
     },
     "execution_count": 32,
     "metadata": {},
     "output_type": "execute_result"
    }
   ],
   "source": [
    "from imblearn.over_sampling import ADASYN\n",
    "from sklearn.svm import SVC\n",
    "from sklearn.preprocessing import MinMaxScaler\n",
    "from sklearn.metrics import average_precision_score\n",
    "import pandas as pd\n",
    "import numpy as np\n",
    "\n",
    "\n",
    "# Separate the \"ID\" column\n",
    "X_train_ids = X_train_augmented[\"ID\"]\n",
    "X_val_ids = X_val_augmented[\"ID\"]\n",
    "\n",
    "# Remove the \"ID\" column from the training and validation data\n",
    "X_train_no_id = X_train_augmented.drop(columns=[\"ID\"])\n",
    "X_val_no_id = X_val_augmented.drop(columns=[\"ID\"])\n",
    "\n",
    "# Create a meaningful subsample of the training data\n",
    "# Ensure the subsample has the same target distribution and keeps items of the same IDs\n",
    "subsample_size = 0.1  # Use 10% of the training data\n",
    "unique_ids = X_train_ids.unique()\n",
    "np.random.seed(42)\n",
    "subsample_ids = np.random.choice(unique_ids, size=int(len(unique_ids) * subsample_size), replace=False)\n",
    "X_train_subsample = X_train_no_id[X_train_ids.isin(subsample_ids)]\n",
    "y_train_subsample = y_train[X_train_ids.isin(subsample_ids)]\n",
    "\n",
    "# Scale the training and validation data using Min-Max scaling\n",
    "scaler = MinMaxScaler()\n",
    "X_train_scaled = scaler.fit_transform(X_train_subsample)\n",
    "X_val_scaled = scaler.transform(X_val_no_id)\n",
    "\n",
    "# Resample the scaled training data using ADASYN\n",
    "adasyn = ADASYN(random_state=42, sampling_strategy=0.5)\n",
    "X_train_resampled, y_train_resampled = adasyn.fit_resample(X_train_scaled, y_train_subsample)\n",
    "\n",
    "# Initialize the SVC model with RBF kernel\n",
    "svc_model = SVC(kernel='rbf', probability=True, random_state=42)\n",
    "\n",
    "# Fit the SVC model on the resampled training data\n",
    "svc_model.fit(X_train_resampled, y_train_resampled)\n",
    "\n",
    "# Make predictions on the scaled validation set\n",
    "y_val_pred_prob = svc_model.predict_proba(X_val_scaled)[:, 1]  # Get probability of fraud (class 1)\n",
    "y_val_pred = svc_model.predict(X_val_scaled)  # Get predicted class labels\n",
    "\n",
    "# Attach predictions to their corresponding basket ID\n",
    "df_val_predictions = pd.DataFrame({\"ID\": X_val_ids, \"fraud_prob\": y_val_pred_prob})\n",
    "\n",
    "# Transform ID to int\n",
    "df_val_predictions['ID'] = df_val_predictions['ID'].astype(int)\n",
    "\n",
    "# Aggregate predictions per basket (using max probability)\n",
    "df_basket_pred = df_val_predictions.groupby(\"ID\", sort=False).max().reset_index()\n",
    "\n",
    "# Get the actual fraud labels per ID (assuming fraud_flag is unique per basket)\n",
    "df_actual_fraud = pd.DataFrame({\"ID\": X_val_ids, \"fraud_flag\": y_val})\n",
    "df_actual_fraud = df_actual_fraud.groupby(\"ID\", sort=False).max().reset_index()\n",
    "df_actual_fraud.dropna(inplace=True)\n",
    "\n",
    "# Calculate the average precision score\n",
    "average_precision = average_precision_score(df_actual_fraud['fraud_flag'], df_basket_pred['fraud_prob'])\n",
    "\n",
    "print(f'Average precision score: {average_precision:.5f}')\n",
    "\n",
    "# Store the average precision score in the DataFrame\n",
    "\n",
    "average_precision_scores.loc[6] = ['SVC with RBF Kernel, ADASYN, and Min-Max Scaling', average_precision]\n",
    "\n",
    "average_precision_scores"
   ]
  },
  {
   "cell_type": "markdown",
   "metadata": {},
   "source": [
    "## <a id='toc4_4_'></a>[XGBoost and Random Forest Classifier](#toc0_)"
   ]
  },
  {
   "cell_type": "markdown",
   "metadata": {},
   "source": [
    "- Since we are dealing with a highly umbalanced dataset, Boosting and Bagging gradient should be the models that performs the best. We are going to try XGBoost and Random Forest Classifier. (No need to scale the data for these models)."
   ]
  },
  {
   "cell_type": "code",
   "execution_count": 33,
   "metadata": {},
   "outputs": [
    {
     "name": "stderr",
     "output_type": "stream",
     "text": [
      "c:\\Users\\asus\\anaconda3\\Lib\\site-packages\\xgboost\\core.py:158: UserWarning: [18:03:46] WARNING: C:\\buildkite-agent\\builds\\buildkite-windows-cpu-autoscaling-group-i-08cbc0333d8d4aae1-1\\xgboost\\xgboost-ci-windows\\src\\learner.cc:740: \n",
      "Parameters: { \"use_label_encoder\" } are not used.\n",
      "\n",
      "  warnings.warn(smsg, UserWarning)\n"
     ]
    },
    {
     "name": "stdout",
     "output_type": "stream",
     "text": [
      "Average precision score: 0.17310\n"
     ]
    }
   ],
   "source": [
    "\n",
    "\n",
    "\n",
    "# Separate the \"ID\" column\n",
    "X_train_ids = X_train_augmented[\"ID\"]\n",
    "X_val_ids = X_val_augmented[\"ID\"]\n",
    "\n",
    "# Remove the \"ID\" column from the training and validation data\n",
    "X_train_no_id = X_train_augmented.drop(columns=[\"ID\"])\n",
    "X_val_no_id = X_val_augmented.drop(columns=[\"ID\"])\n",
    "\n",
    "\n",
    "# Calculate the scale_pos_weight\n",
    "num_negatives = (y_train == 0).sum()\n",
    "num_positives = (y_train == 1).sum()\n",
    "scale_pos_weight = num_negatives / num_positives\n",
    "scale_pos_weight_sqrt = np.sqrt(num_negatives / num_positives)  # Square root method\n",
    "scale_pos_weight_log = np.log(num_negatives / num_positives)  # Log method\n",
    "\n",
    "# Initialize the XGBoost model\n",
    "model = xgb.XGBClassifier(\n",
    "    n_estimators=500,           # More trees\n",
    "    #learning_rate=0.01,         # Lower learning rate\n",
    "    #max_depth=10,                # Control tree depth\n",
    "    #min_child_weight=,         # Minimum samples per leaf\n",
    "    #gamma=1,                    # Pruning\n",
    "    subsample=0.8,              # Use 80% of data per tree\n",
    "    colsample_bytree=0.8,       # Use 80% of features per tree\n",
    "    scale_pos_weight=scale_pos_weight,  # Handle class imbalance\n",
    "    #reg_lambda=1,              # L2 regularization\n",
    "    #reg_alpha=1,                # L1 regularization\n",
    "    random_state=42,\n",
    "    eval_metric='aucpr',\n",
    "    use_label_encoder=False\n",
    ")\n",
    "\n",
    "# Fit the model on the training data\n",
    "model.fit(X_train_no_id, y_train)\n",
    "\n",
    "# Make predictions on the validation set\n",
    "y_val_pred_prob = model.predict_proba(X_val_no_id)[:, 1]  # Get probability of fraud (class 1)\n",
    "\n",
    "# Attach predictions to their corresponding basket ID\n",
    "df_val_predictions = pd.DataFrame({\"ID\": X_val_ids, \"fraud_prob\": y_val_pred_prob})\n",
    "\n",
    "# Transform ID to int\n",
    "df_val_predictions['ID'] = df_val_predictions['ID'].astype(int)\n",
    "\n",
    "# Aggregate predictions per basket (using max probability)\n",
    "df_basket_pred = df_val_predictions.groupby(\"ID\", sort=False).max().reset_index()\n",
    "\n",
    "# Get the actual fraud labels per ID (assuming fraud_flag is unique per basket)\n",
    "df_actual_fraud = pd.DataFrame({\"ID\": X_val_ids, \"fraud_flag\": y_val})\n",
    "df_actual_fraud = df_actual_fraud.groupby(\"ID\", sort=False).max().reset_index()\n",
    "df_actual_fraud.dropna(inplace=True)\n",
    "\n",
    "# Calculate the average precision score\n",
    "average_precision = average_precision_score(df_actual_fraud['fraud_flag'], df_basket_pred['fraud_prob'])\n",
    "\n",
    "print(f'Average precision score: {average_precision:.5f}')\n",
    "\n",
    "# Store the average precision score in the DataFrame\n",
    "\n",
    "average_precision_scores.loc[7] = ['XGBoost with Augmented Features', average_precision]"
   ]
  },
  {
   "cell_type": "markdown",
   "metadata": {},
   "source": [
    "- For the first time, we managed to surpass the benchmark ! We are headed in the right direction. Let's see what the Random Forest Classifier has to offer"
   ]
  },
  {
   "cell_type": "code",
   "execution_count": 34,
   "metadata": {},
   "outputs": [
    {
     "name": "stdout",
     "output_type": "stream",
     "text": [
      "Average precision score: 0.13377\n"
     ]
    },
    {
     "data": {
      "text/html": [
       "<div>\n",
       "<style scoped>\n",
       "    .dataframe tbody tr th:only-of-type {\n",
       "        vertical-align: middle;\n",
       "    }\n",
       "\n",
       "    .dataframe tbody tr th {\n",
       "        vertical-align: top;\n",
       "    }\n",
       "\n",
       "    .dataframe thead th {\n",
       "        text-align: right;\n",
       "    }\n",
       "</style>\n",
       "<table border=\"1\" class=\"dataframe\">\n",
       "  <thead>\n",
       "    <tr style=\"text-align: right;\">\n",
       "      <th></th>\n",
       "      <th>Model</th>\n",
       "      <th>Average Precision Score</th>\n",
       "    </tr>\n",
       "  </thead>\n",
       "  <tbody>\n",
       "    <tr>\n",
       "      <th>0</th>\n",
       "      <td>Benchmark</td>\n",
       "      <td>0.140000</td>\n",
       "    </tr>\n",
       "    <tr>\n",
       "      <th>1</th>\n",
       "      <td>Logistic Regression</td>\n",
       "      <td>0.028027</td>\n",
       "    </tr>\n",
       "    <tr>\n",
       "      <th>2</th>\n",
       "      <td>Logistic Regression with ADASYN</td>\n",
       "      <td>0.050163</td>\n",
       "    </tr>\n",
       "    <tr>\n",
       "      <th>3</th>\n",
       "      <td>Logistic Regression with ADASYN and Min-Max Sc...</td>\n",
       "      <td>0.079117</td>\n",
       "    </tr>\n",
       "    <tr>\n",
       "      <th>4</th>\n",
       "      <td>QDA with ADASYN and Min-Max Scaling</td>\n",
       "      <td>0.064937</td>\n",
       "    </tr>\n",
       "    <tr>\n",
       "      <th>5</th>\n",
       "      <td>Logistic Regression with ADASYN, Min-Max Scali...</td>\n",
       "      <td>0.079257</td>\n",
       "    </tr>\n",
       "    <tr>\n",
       "      <th>6</th>\n",
       "      <td>SVC with RBF Kernel, ADASYN, and Min-Max Scaling</td>\n",
       "      <td>0.070320</td>\n",
       "    </tr>\n",
       "    <tr>\n",
       "      <th>7</th>\n",
       "      <td>XGBoost with Augmented Features</td>\n",
       "      <td>0.173104</td>\n",
       "    </tr>\n",
       "    <tr>\n",
       "      <th>8</th>\n",
       "      <td>Random Forest with Augmented Features</td>\n",
       "      <td>0.133771</td>\n",
       "    </tr>\n",
       "  </tbody>\n",
       "</table>\n",
       "</div>"
      ],
      "text/plain": [
       "                                               Model  Average Precision Score\n",
       "0                                          Benchmark                 0.140000\n",
       "1                                Logistic Regression                 0.028027\n",
       "2                    Logistic Regression with ADASYN                 0.050163\n",
       "3  Logistic Regression with ADASYN and Min-Max Sc...                 0.079117\n",
       "4                QDA with ADASYN and Min-Max Scaling                 0.064937\n",
       "5  Logistic Regression with ADASYN, Min-Max Scali...                 0.079257\n",
       "6   SVC with RBF Kernel, ADASYN, and Min-Max Scaling                 0.070320\n",
       "7                    XGBoost with Augmented Features                 0.173104\n",
       "8              Random Forest with Augmented Features                 0.133771"
      ]
     },
     "execution_count": 34,
     "metadata": {},
     "output_type": "execute_result"
    }
   ],
   "source": [
    "\n",
    "# Remove the \"ID\" column from the training and validation data\n",
    "X_train_no_id = X_train_augmented.drop(columns=[\"ID\"])\n",
    "X_val_no_id = X_val_augmented.drop(columns=[\"ID\"])\n",
    "\n",
    "# Initialize the Random Forest model\n",
    "rf_model = RandomForestClassifier(\n",
    "    n_estimators=500,           # More trees\n",
    "    max_depth=10,               # Control tree depth\n",
    "    min_samples_split=2,        # Minimum samples per split\n",
    "    min_samples_leaf=1,         # Minimum samples per leaf\n",
    "    max_features='sqrt',        # Number of features to consider at each split\n",
    "    #bootstrap=True,             # Use bootstrap samples\n",
    "    random_state=42\n",
    ")\n",
    "\n",
    "# Fit the model on the training data\n",
    "rf_model.fit(X_train_no_id, y_train)\n",
    "\n",
    "# Make predictions on the validation set\n",
    "y_val_pred_prob = rf_model.predict_proba(X_val_no_id)[:, 1]  # Get probability of fraud (class 1)\n",
    "\n",
    "# Attach predictions to their corresponding basket ID\n",
    "df_val_predictions = pd.DataFrame({\"ID\": X_val_ids, \"fraud_prob\": y_val_pred_prob})\n",
    "\n",
    "# Transform ID to int\n",
    "df_val_predictions['ID'] = df_val_predictions['ID'].astype(int)\n",
    "\n",
    "# Aggregate predictions per basket (using max probability)\n",
    "df_basket_pred = df_val_predictions.groupby(\"ID\", sort=False).max().reset_index()\n",
    "\n",
    "# Get the actual fraud labels per ID (assuming fraud_flag is unique per basket)\n",
    "df_actual_fraud = pd.DataFrame({\"ID\": X_val_ids, \"fraud_flag\": y_val})\n",
    "df_actual_fraud = df_actual_fraud.groupby(\"ID\", sort=False).max().reset_index()\n",
    "df_actual_fraud.dropna(inplace=True)\n",
    "\n",
    "# Calculate the average precision score\n",
    "average_precision = average_precision_score(df_actual_fraud['fraud_flag'], df_basket_pred['fraud_prob'])\n",
    "\n",
    "print(f'Average precision score: {average_precision:.5f}')\n",
    "\n",
    "# Store the average precision score in the DataFrame\n",
    "average_precision_scores.loc[8] = ['Random Forest with Augmented Features', average_precision]\n",
    "\n",
    "average_precision_scores"
   ]
  },
  {
   "cell_type": "code",
   "execution_count": 35,
   "metadata": {},
   "outputs": [
    {
     "data": {
      "text/plain": [
       "Text(0.5, 1.0, 'XGBoost Feature Importances')"
      ]
     },
     "execution_count": 35,
     "metadata": {},
     "output_type": "execute_result"
    },
    {
     "data": {
      "image/png": "[encoded data removed]",
      "text/plain": [
       "<Figure size 1000x600 with 1 Axes>"
      ]
     },
     "metadata": {},
     "output_type": "display_data"
    },
    {
     "data": {
      "image/png": "[encoded data removed]",
      "text/plain": [
       "<Figure size 1000x600 with 1 Axes>"
      ]
     },
     "metadata": {},
     "output_type": "display_data"
    }
   ],
   "source": [
    "#Let's check the feature importance of the Random Forest model and the XGBoost model\n",
    "\n",
    "# Get the feature importances from the Random Forest model\n",
    "\n",
    "feature_importances_rf = rf_model.feature_importances_\n",
    "\n",
    "#features without ID\n",
    "features = X_train_augmented.columns[1:]\n",
    "\n",
    "# Create a DataFrame to store the feature importances\n",
    "\n",
    "df_feature_importances_rf = pd.DataFrame({\"Feature\": features, \"Importance\": feature_importances_rf})\n",
    "\n",
    "# Sort the DataFrame by importance in descending order\n",
    "\n",
    "df_feature_importances_rf = df_feature_importances_rf.sort_values(by=\"Importance\", ascending=False)\n",
    "\n",
    "#plot the feature importances\n",
    "\n",
    "plt.figure(figsize=(10, 6))\n",
    "sns.barplot(x=\"Importance\", y=\"Feature\", data=df_feature_importances_rf)\n",
    "plt.title(\"Random Forest Feature Importances\")\n",
    "\n",
    "# Get the feature importances from the XGBoost model\n",
    "\n",
    "feature_importances_xgb = model.feature_importances_\n",
    "\n",
    "# Create a DataFrame to store the feature importances\n",
    "\n",
    "df_feature_importances_xgb = pd.DataFrame({\"Feature\": features, \"Importance\": feature_importances_xgb})\n",
    "\n",
    "# Sort the DataFrame by importance in descending order\n",
    "\n",
    "df_feature_importances_xgb = df_feature_importances_xgb.sort_values(by=\"Importance\", ascending=False)\n",
    "\n",
    "#plot the feature importances\n",
    "\n",
    "plt.figure(figsize=(10, 6))\n",
    "sns.barplot(x=\"Importance\", y=\"Feature\", data=df_feature_importances_xgb)\n",
    "plt.title(\"XGBoost Feature Importances\")\n",
    "\n"
   ]
  },
  {
   "cell_type": "markdown",
   "metadata": {},
   "source": [
    "- Wee that by far **goods_code** is the most relevant features for the two models. The intuition is that some products appears a lot in fraudulent cases."
   ]
  },
  {
   "cell_type": "markdown",
   "metadata": {},
   "source": [
    "- Let's now optimize our best performing model : **the XGBoost !**\n",
    "\n",
    "    -  First, we are going to select only the most relevant features to remove unnecessary information."
   ]
  },
  {
   "cell_type": "code",
   "execution_count": 36,
   "metadata": {},
   "outputs": [
    {
     "name": "stdout",
     "output_type": "stream",
     "text": [
      "Important Features (90% of importance):\n",
      "['total_basket_price', 'avg_item_price', 'contribution_to_total', 'goods_code', 'model', 'cash_price']\n"
     ]
    }
   ],
   "source": [
    "feature_importance = model.get_booster().get_score(importance_type='weight')\n",
    "feature_importance_df = pd.DataFrame(feature_importance.items(), columns=['Feature', 'Importance'])\n",
    "feature_importance_df = feature_importance_df.sort_values(by='Importance', ascending=False)\n",
    "\n",
    "# Calculate cumulative importance\n",
    "feature_importance_df['Cumulative Importance'] = feature_importance_df['Importance'].cumsum() / feature_importance_df['Importance'].sum()\n",
    "\n",
    "# Select features that capture 80% of the importance\n",
    "important_features = feature_importance_df[feature_importance_df['Cumulative Importance'] <= 0.9]['Feature'].tolist()\n",
    "\n",
    "print(\"Important Features (90% of importance):\")\n",
    "print(important_features)"
   ]
  },
  {
   "cell_type": "code",
   "execution_count": 37,
   "metadata": {},
   "outputs": [
    {
     "name": "stderr",
     "output_type": "stream",
     "text": [
      "c:\\Users\\asus\\anaconda3\\Lib\\site-packages\\xgboost\\core.py:158: UserWarning: [18:05:25] WARNING: C:\\buildkite-agent\\builds\\buildkite-windows-cpu-autoscaling-group-i-08cbc0333d8d4aae1-1\\xgboost\\xgboost-ci-windows\\src\\learner.cc:740: \n",
      "Parameters: { \"use_label_encoder\" } are not used.\n",
      "\n",
      "  warnings.warn(smsg, UserWarning)\n"
     ]
    },
    {
     "name": "stdout",
     "output_type": "stream",
     "text": [
      "Average precision score with important features: 0.19013\n"
     ]
    },
    {
     "data": {
      "text/html": [
       "<div>\n",
       "<style scoped>\n",
       "    .dataframe tbody tr th:only-of-type {\n",
       "        vertical-align: middle;\n",
       "    }\n",
       "\n",
       "    .dataframe tbody tr th {\n",
       "        vertical-align: top;\n",
       "    }\n",
       "\n",
       "    .dataframe thead th {\n",
       "        text-align: right;\n",
       "    }\n",
       "</style>\n",
       "<table border=\"1\" class=\"dataframe\">\n",
       "  <thead>\n",
       "    <tr style=\"text-align: right;\">\n",
       "      <th></th>\n",
       "      <th>Model</th>\n",
       "      <th>Average Precision Score</th>\n",
       "    </tr>\n",
       "  </thead>\n",
       "  <tbody>\n",
       "    <tr>\n",
       "      <th>0</th>\n",
       "      <td>Benchmark</td>\n",
       "      <td>0.140000</td>\n",
       "    </tr>\n",
       "    <tr>\n",
       "      <th>1</th>\n",
       "      <td>Logistic Regression</td>\n",
       "      <td>0.028027</td>\n",
       "    </tr>\n",
       "    <tr>\n",
       "      <th>2</th>\n",
       "      <td>Logistic Regression with ADASYN</td>\n",
       "      <td>0.050163</td>\n",
       "    </tr>\n",
       "    <tr>\n",
       "      <th>3</th>\n",
       "      <td>Logistic Regression with ADASYN and Min-Max Sc...</td>\n",
       "      <td>0.079117</td>\n",
       "    </tr>\n",
       "    <tr>\n",
       "      <th>4</th>\n",
       "      <td>QDA with ADASYN and Min-Max Scaling</td>\n",
       "      <td>0.064937</td>\n",
       "    </tr>\n",
       "    <tr>\n",
       "      <th>5</th>\n",
       "      <td>Logistic Regression with ADASYN, Min-Max Scali...</td>\n",
       "      <td>0.079257</td>\n",
       "    </tr>\n",
       "    <tr>\n",
       "      <th>6</th>\n",
       "      <td>SVC with RBF Kernel, ADASYN, and Min-Max Scaling</td>\n",
       "      <td>0.070320</td>\n",
       "    </tr>\n",
       "    <tr>\n",
       "      <th>7</th>\n",
       "      <td>XGBoost with Augmented Features</td>\n",
       "      <td>0.173104</td>\n",
       "    </tr>\n",
       "    <tr>\n",
       "      <th>8</th>\n",
       "      <td>Random Forest with Augmented Features</td>\n",
       "      <td>0.133771</td>\n",
       "    </tr>\n",
       "    <tr>\n",
       "      <th>9</th>\n",
       "      <td>XGBoost with Important Features (90%)</td>\n",
       "      <td>0.190129</td>\n",
       "    </tr>\n",
       "  </tbody>\n",
       "</table>\n",
       "</div>"
      ],
      "text/plain": [
       "                                               Model  Average Precision Score\n",
       "0                                          Benchmark                 0.140000\n",
       "1                                Logistic Regression                 0.028027\n",
       "2                    Logistic Regression with ADASYN                 0.050163\n",
       "3  Logistic Regression with ADASYN and Min-Max Sc...                 0.079117\n",
       "4                QDA with ADASYN and Min-Max Scaling                 0.064937\n",
       "5  Logistic Regression with ADASYN, Min-Max Scali...                 0.079257\n",
       "6   SVC with RBF Kernel, ADASYN, and Min-Max Scaling                 0.070320\n",
       "7                    XGBoost with Augmented Features                 0.173104\n",
       "8              Random Forest with Augmented Features                 0.133771\n",
       "9              XGBoost with Important Features (90%)                 0.190129"
      ]
     },
     "execution_count": 37,
     "metadata": {},
     "output_type": "execute_result"
    }
   ],
   "source": [
    "# Filter the training and validation data to include only the important features\n",
    "X_train_important = X_train_no_id[important_features]\n",
    "X_val_important = X_val_no_id[important_features]\n",
    "\n",
    "# Initialize the new XGBoost model\n",
    "model_important = xgb.XGBClassifier(\n",
    "    n_estimators=500,           # More trees\n",
    "    #learning_rate=0.01,         # Lower learning rate\n",
    "    #max_depth=10,                # Control tree depth\n",
    "    #min_child_weight=,         # Minimum samples per leaf\n",
    "    #gamma=1,                    # Pruning\n",
    "    subsample=0.8,              # Use 80% of data per tree\n",
    "    colsample_bytree=0.8,       # Use 80% of features per tree\n",
    "    scale_pos_weight=scale_pos_weight,  # Handle class imbalance\n",
    "    #reg_lambda=1,              # L2 regularization\n",
    "    #reg_alpha=1,                # L1 regularization\n",
    "    random_state=42,\n",
    "    eval_metric='aucpr',\n",
    "    use_label_encoder=False\n",
    ")\n",
    "\n",
    "# Fit the model on the training data with important features\n",
    "model_important.fit(X_train_important, y_train)\n",
    "\n",
    "# Make predictions on the validation set with important features\n",
    "y_val_pred_prob_important = model_important.predict_proba(X_val_important)[:, 1]  # Get probability of fraud (class 1)\n",
    "\n",
    "# Attach predictions to their corresponding basket ID\n",
    "df_val_predictions_important = pd.DataFrame({\"ID\": X_val_ids, \"fraud_prob\": y_val_pred_prob_important})\n",
    "\n",
    "# Transform ID to int\n",
    "df_val_predictions_important['ID'] = df_val_predictions_important['ID'].astype(int)\n",
    "\n",
    "# Aggregate predictions per basket (using max probability)\n",
    "df_basket_pred_important = df_val_predictions_important.groupby(\"ID\", sort=False).max().reset_index()\n",
    "\n",
    "# Get the actual fraud labels per ID (assuming fraud_flag is unique per basket)\n",
    "df_actual_fraud_important = pd.DataFrame({\"ID\": X_val_ids, \"fraud_flag\": y_val})\n",
    "df_actual_fraud_important = df_actual_fraud_important.groupby(\"ID\", sort=False).max().reset_index()\n",
    "df_actual_fraud_important.dropna(inplace=True)\n",
    "\n",
    "# Calculate the average precision score\n",
    "average_precision_important = average_precision_score(df_actual_fraud_important['fraud_flag'], df_basket_pred_important['fraud_prob'])\n",
    "\n",
    "print(f'Average precision score with important features: {average_precision_important:.5f}')\n",
    "\n",
    "# Store the average precision score in the DataFrame\n",
    "average_precision_scores.loc[9] = ['XGBoost with Important Features (90%)', average_precision_important]\n",
    "\n",
    "average_precision_scores"
   ]
  },
  {
   "cell_type": "markdown",
   "metadata": {},
   "source": [
    "- We can see a significant improvement ! Now let's optimize our model further using **Optuna !**   \n",
    "(Optuna is a hyperparameter optimization framework that automates the process of searching for the best hyperparameters.)"
   ]
  },
  {
   "cell_type": "code",
   "execution_count": 40,
   "metadata": {},
   "outputs": [
    {
     "name": "stderr",
     "output_type": "stream",
     "text": [
      "[I 2025-02-10 18:06:05,170] A new study created in memory with name: no-name-307ed860-9bed-472b-8ac6-3da3addea2bb\n"
     ]
    },
    {
     "data": {
      "application/vnd.jupyter.widget-view+json": {
       "model_id": "10534d52958e4271b6f2acef87477af4",
       "version_major": 2,
       "version_minor": 0
      },
      "text/plain": [
       "  0%|          | 0/50 [00:00<?, ?it/s]"
      ]
     },
     "metadata": {},
     "output_type": "display_data"
    },
    {
     "name": "stderr",
     "output_type": "stream",
     "text": [
      "C:\\Users\\asus\\AppData\\Local\\Temp\\ipykernel_8892\\1532981678.py:11: FutureWarning: suggest_loguniform has been deprecated in v3.0.0. This feature will be removed in v6.0.0. See https://github.com/optuna/optuna/releases/tag/v3.0.0. Use suggest_float(..., log=True) instead.\n",
      "  'learning_rate': trial.suggest_loguniform('learning_rate', 0.01, 0.3),\n",
      "C:\\Users\\asus\\AppData\\Local\\Temp\\ipykernel_8892\\1532981678.py:13: FutureWarning: suggest_uniform has been deprecated in v3.0.0. This feature will be removed in v6.0.0. See https://github.com/optuna/optuna/releases/tag/v3.0.0. Use suggest_float instead.\n",
      "  'subsample': trial.suggest_uniform('subsample', 0.5, 1.0),\n",
      "c:\\Users\\asus\\anaconda3\\Lib\\site-packages\\xgboost\\core.py:158: UserWarning: [18:06:05] WARNING: C:\\buildkite-agent\\builds\\buildkite-windows-cpu-autoscaling-group-i-08cbc0333d8d4aae1-1\\xgboost\\xgboost-ci-windows\\src\\learner.cc:740: \n",
      "Parameters: { \"use_label_encoder\" } are not used.\n",
      "\n",
      "  warnings.warn(smsg, UserWarning)\n"
     ]
    },
    {
     "name": "stdout",
     "output_type": "stream",
     "text": [
      "[I 2025-02-10 18:06:17,982] Trial 0 finished with value: 0.14293431898633208 and parameters: {'n_estimators': 346, 'learning_rate': 0.2399411417883397, 'max_depth': 14, 'subsample': 0.782318562104563}. Best is trial 0 with value: 0.14293431898633208.\n"
     ]
    },
    {
     "name": "stderr",
     "output_type": "stream",
     "text": [
      "C:\\Users\\asus\\AppData\\Local\\Temp\\ipykernel_8892\\1532981678.py:11: FutureWarning: suggest_loguniform has been deprecated in v3.0.0. This feature will be removed in v6.0.0. See https://github.com/optuna/optuna/releases/tag/v3.0.0. Use suggest_float(..., log=True) instead.\n",
      "  'learning_rate': trial.suggest_loguniform('learning_rate', 0.01, 0.3),\n",
      "C:\\Users\\asus\\AppData\\Local\\Temp\\ipykernel_8892\\1532981678.py:13: FutureWarning: suggest_uniform has been deprecated in v3.0.0. This feature will be removed in v6.0.0. See https://github.com/optuna/optuna/releases/tag/v3.0.0. Use suggest_float instead.\n",
      "  'subsample': trial.suggest_uniform('subsample', 0.5, 1.0),\n",
      "c:\\Users\\asus\\anaconda3\\Lib\\site-packages\\xgboost\\core.py:158: UserWarning: [18:06:18] WARNING: C:\\buildkite-agent\\builds\\buildkite-windows-cpu-autoscaling-group-i-08cbc0333d8d4aae1-1\\xgboost\\xgboost-ci-windows\\src\\learner.cc:740: \n",
      "Parameters: { \"use_label_encoder\" } are not used.\n",
      "\n",
      "  warnings.warn(smsg, UserWarning)\n"
     ]
    },
    {
     "name": "stdout",
     "output_type": "stream",
     "text": [
      "[I 2025-02-10 18:06:22,315] Trial 1 finished with value: 0.17112223942113447 and parameters: {'n_estimators': 185, 'learning_rate': 0.07442164227758398, 'max_depth': 8, 'subsample': 0.9567664337690474}. Best is trial 1 with value: 0.17112223942113447.\n"
     ]
    },
    {
     "name": "stderr",
     "output_type": "stream",
     "text": [
      "C:\\Users\\asus\\AppData\\Local\\Temp\\ipykernel_8892\\1532981678.py:11: FutureWarning: suggest_loguniform has been deprecated in v3.0.0. This feature will be removed in v6.0.0. See https://github.com/optuna/optuna/releases/tag/v3.0.0. Use suggest_float(..., log=True) instead.\n",
      "  'learning_rate': trial.suggest_loguniform('learning_rate', 0.01, 0.3),\n",
      "C:\\Users\\asus\\AppData\\Local\\Temp\\ipykernel_8892\\1532981678.py:13: FutureWarning: suggest_uniform has been deprecated in v3.0.0. This feature will be removed in v6.0.0. See https://github.com/optuna/optuna/releases/tag/v3.0.0. Use suggest_float instead.\n",
      "  'subsample': trial.suggest_uniform('subsample', 0.5, 1.0),\n",
      "c:\\Users\\asus\\anaconda3\\Lib\\site-packages\\xgboost\\core.py:158: UserWarning: [18:06:22] WARNING: C:\\buildkite-agent\\builds\\buildkite-windows-cpu-autoscaling-group-i-08cbc0333d8d4aae1-1\\xgboost\\xgboost-ci-windows\\src\\learner.cc:740: \n",
      "Parameters: { \"use_label_encoder\" } are not used.\n",
      "\n",
      "  warnings.warn(smsg, UserWarning)\n"
     ]
    },
    {
     "name": "stdout",
     "output_type": "stream",
     "text": [
      "[I 2025-02-10 18:06:32,444] Trial 2 finished with value: 0.17122052714525202 and parameters: {'n_estimators': 551, 'learning_rate': 0.042360986587374284, 'max_depth': 4, 'subsample': 0.5726832628149338}. Best is trial 2 with value: 0.17122052714525202.\n"
     ]
    },
    {
     "name": "stderr",
     "output_type": "stream",
     "text": [
      "C:\\Users\\asus\\AppData\\Local\\Temp\\ipykernel_8892\\1532981678.py:11: FutureWarning: suggest_loguniform has been deprecated in v3.0.0. This feature will be removed in v6.0.0. See https://github.com/optuna/optuna/releases/tag/v3.0.0. Use suggest_float(..., log=True) instead.\n",
      "  'learning_rate': trial.suggest_loguniform('learning_rate', 0.01, 0.3),\n",
      "C:\\Users\\asus\\AppData\\Local\\Temp\\ipykernel_8892\\1532981678.py:13: FutureWarning: suggest_uniform has been deprecated in v3.0.0. This feature will be removed in v6.0.0. See https://github.com/optuna/optuna/releases/tag/v3.0.0. Use suggest_float instead.\n",
      "  'subsample': trial.suggest_uniform('subsample', 0.5, 1.0),\n",
      "c:\\Users\\asus\\anaconda3\\Lib\\site-packages\\xgboost\\core.py:158: UserWarning: [18:06:32] WARNING: C:\\buildkite-agent\\builds\\buildkite-windows-cpu-autoscaling-group-i-08cbc0333d8d4aae1-1\\xgboost\\xgboost-ci-windows\\src\\learner.cc:740: \n",
      "Parameters: { \"use_label_encoder\" } are not used.\n",
      "\n",
      "  warnings.warn(smsg, UserWarning)\n"
     ]
    },
    {
     "name": "stdout",
     "output_type": "stream",
     "text": [
      "[I 2025-02-10 18:06:44,974] Trial 3 finished with value: 0.1649065765116696 and parameters: {'n_estimators': 418, 'learning_rate': 0.11697262117372154, 'max_depth': 7, 'subsample': 0.9694238686252212}. Best is trial 2 with value: 0.17122052714525202.\n"
     ]
    },
    {
     "name": "stderr",
     "output_type": "stream",
     "text": [
      "C:\\Users\\asus\\AppData\\Local\\Temp\\ipykernel_8892\\1532981678.py:11: FutureWarning: suggest_loguniform has been deprecated in v3.0.0. This feature will be removed in v6.0.0. See https://github.com/optuna/optuna/releases/tag/v3.0.0. Use suggest_float(..., log=True) instead.\n",
      "  'learning_rate': trial.suggest_loguniform('learning_rate', 0.01, 0.3),\n",
      "C:\\Users\\asus\\AppData\\Local\\Temp\\ipykernel_8892\\1532981678.py:13: FutureWarning: suggest_uniform has been deprecated in v3.0.0. This feature will be removed in v6.0.0. See https://github.com/optuna/optuna/releases/tag/v3.0.0. Use suggest_float instead.\n",
      "  'subsample': trial.suggest_uniform('subsample', 0.5, 1.0),\n",
      "c:\\Users\\asus\\anaconda3\\Lib\\site-packages\\xgboost\\core.py:158: UserWarning: [18:06:45] WARNING: C:\\buildkite-agent\\builds\\buildkite-windows-cpu-autoscaling-group-i-08cbc0333d8d4aae1-1\\xgboost\\xgboost-ci-windows\\src\\learner.cc:740: \n",
      "Parameters: { \"use_label_encoder\" } are not used.\n",
      "\n",
      "  warnings.warn(smsg, UserWarning)\n"
     ]
    },
    {
     "name": "stdout",
     "output_type": "stream",
     "text": [
      "[I 2025-02-10 18:06:56,034] Trial 4 finished with value: 0.17369653494502346 and parameters: {'n_estimators': 722, 'learning_rate': 0.01965640830458714, 'max_depth': 4, 'subsample': 0.7604145030840272}. Best is trial 4 with value: 0.17369653494502346.\n"
     ]
    },
    {
     "name": "stderr",
     "output_type": "stream",
     "text": [
      "C:\\Users\\asus\\AppData\\Local\\Temp\\ipykernel_8892\\1532981678.py:11: FutureWarning: suggest_loguniform has been deprecated in v3.0.0. This feature will be removed in v6.0.0. See https://github.com/optuna/optuna/releases/tag/v3.0.0. Use suggest_float(..., log=True) instead.\n",
      "  'learning_rate': trial.suggest_loguniform('learning_rate', 0.01, 0.3),\n",
      "C:\\Users\\asus\\AppData\\Local\\Temp\\ipykernel_8892\\1532981678.py:13: FutureWarning: suggest_uniform has been deprecated in v3.0.0. This feature will be removed in v6.0.0. See https://github.com/optuna/optuna/releases/tag/v3.0.0. Use suggest_float instead.\n",
      "  'subsample': trial.suggest_uniform('subsample', 0.5, 1.0),\n",
      "c:\\Users\\asus\\anaconda3\\Lib\\site-packages\\xgboost\\core.py:158: UserWarning: [18:06:56] WARNING: C:\\buildkite-agent\\builds\\buildkite-windows-cpu-autoscaling-group-i-08cbc0333d8d4aae1-1\\xgboost\\xgboost-ci-windows\\src\\learner.cc:740: \n",
      "Parameters: { \"use_label_encoder\" } are not used.\n",
      "\n",
      "  warnings.warn(smsg, UserWarning)\n"
     ]
    },
    {
     "name": "stdout",
     "output_type": "stream",
     "text": [
      "[I 2025-02-10 18:07:02,212] Trial 5 finished with value: 0.17877955372877874 and parameters: {'n_estimators': 322, 'learning_rate': 0.03229193066694856, 'max_depth': 5, 'subsample': 0.6723153441447991}. Best is trial 5 with value: 0.17877955372877874.\n"
     ]
    },
    {
     "name": "stderr",
     "output_type": "stream",
     "text": [
      "C:\\Users\\asus\\AppData\\Local\\Temp\\ipykernel_8892\\1532981678.py:11: FutureWarning: suggest_loguniform has been deprecated in v3.0.0. This feature will be removed in v6.0.0. See https://github.com/optuna/optuna/releases/tag/v3.0.0. Use suggest_float(..., log=True) instead.\n",
      "  'learning_rate': trial.suggest_loguniform('learning_rate', 0.01, 0.3),\n",
      "C:\\Users\\asus\\AppData\\Local\\Temp\\ipykernel_8892\\1532981678.py:13: FutureWarning: suggest_uniform has been deprecated in v3.0.0. This feature will be removed in v6.0.0. See https://github.com/optuna/optuna/releases/tag/v3.0.0. Use suggest_float instead.\n",
      "  'subsample': trial.suggest_uniform('subsample', 0.5, 1.0),\n",
      "c:\\Users\\asus\\anaconda3\\Lib\\site-packages\\xgboost\\core.py:158: UserWarning: [18:07:02] WARNING: C:\\buildkite-agent\\builds\\buildkite-windows-cpu-autoscaling-group-i-08cbc0333d8d4aae1-1\\xgboost\\xgboost-ci-windows\\src\\learner.cc:740: \n",
      "Parameters: { \"use_label_encoder\" } are not used.\n",
      "\n",
      "  warnings.warn(smsg, UserWarning)\n"
     ]
    },
    {
     "name": "stdout",
     "output_type": "stream",
     "text": [
      "[I 2025-02-10 18:07:05,809] Trial 6 finished with value: 0.1684862023954861 and parameters: {'n_estimators': 224, 'learning_rate': 0.25018862103669615, 'max_depth': 3, 'subsample': 0.8855321859252523}. Best is trial 5 with value: 0.17877955372877874.\n"
     ]
    },
    {
     "name": "stderr",
     "output_type": "stream",
     "text": [
      "C:\\Users\\asus\\AppData\\Local\\Temp\\ipykernel_8892\\1532981678.py:11: FutureWarning: suggest_loguniform has been deprecated in v3.0.0. This feature will be removed in v6.0.0. See https://github.com/optuna/optuna/releases/tag/v3.0.0. Use suggest_float(..., log=True) instead.\n",
      "  'learning_rate': trial.suggest_loguniform('learning_rate', 0.01, 0.3),\n",
      "C:\\Users\\asus\\AppData\\Local\\Temp\\ipykernel_8892\\1532981678.py:13: FutureWarning: suggest_uniform has been deprecated in v3.0.0. This feature will be removed in v6.0.0. See https://github.com/optuna/optuna/releases/tag/v3.0.0. Use suggest_float instead.\n",
      "  'subsample': trial.suggest_uniform('subsample', 0.5, 1.0),\n",
      "c:\\Users\\asus\\anaconda3\\Lib\\site-packages\\xgboost\\core.py:158: UserWarning: [18:07:06] WARNING: C:\\buildkite-agent\\builds\\buildkite-windows-cpu-autoscaling-group-i-08cbc0333d8d4aae1-1\\xgboost\\xgboost-ci-windows\\src\\learner.cc:740: \n",
      "Parameters: { \"use_label_encoder\" } are not used.\n",
      "\n",
      "  warnings.warn(smsg, UserWarning)\n"
     ]
    },
    {
     "name": "stdout",
     "output_type": "stream",
     "text": [
      "[I 2025-02-10 18:07:10,657] Trial 7 finished with value: 0.16677290820772134 and parameters: {'n_estimators': 144, 'learning_rate': 0.10075965699307761, 'max_depth': 9, 'subsample': 0.7394488968686916}. Best is trial 5 with value: 0.17877955372877874.\n"
     ]
    },
    {
     "name": "stderr",
     "output_type": "stream",
     "text": [
      "C:\\Users\\asus\\AppData\\Local\\Temp\\ipykernel_8892\\1532981678.py:11: FutureWarning: suggest_loguniform has been deprecated in v3.0.0. This feature will be removed in v6.0.0. See https://github.com/optuna/optuna/releases/tag/v3.0.0. Use suggest_float(..., log=True) instead.\n",
      "  'learning_rate': trial.suggest_loguniform('learning_rate', 0.01, 0.3),\n",
      "C:\\Users\\asus\\AppData\\Local\\Temp\\ipykernel_8892\\1532981678.py:13: FutureWarning: suggest_uniform has been deprecated in v3.0.0. This feature will be removed in v6.0.0. See https://github.com/optuna/optuna/releases/tag/v3.0.0. Use suggest_float instead.\n",
      "  'subsample': trial.suggest_uniform('subsample', 0.5, 1.0),\n",
      "c:\\Users\\asus\\anaconda3\\Lib\\site-packages\\xgboost\\core.py:158: UserWarning: [18:07:11] WARNING: C:\\buildkite-agent\\builds\\buildkite-windows-cpu-autoscaling-group-i-08cbc0333d8d4aae1-1\\xgboost\\xgboost-ci-windows\\src\\learner.cc:740: \n",
      "Parameters: { \"use_label_encoder\" } are not used.\n",
      "\n",
      "  warnings.warn(smsg, UserWarning)\n"
     ]
    },
    {
     "name": "stdout",
     "output_type": "stream",
     "text": [
      "[I 2025-02-10 18:07:25,970] Trial 8 finished with value: 0.15146639157797048 and parameters: {'n_estimators': 442, 'learning_rate': 0.06670378451083833, 'max_depth': 11, 'subsample': 0.7913767558096696}. Best is trial 5 with value: 0.17877955372877874.\n"
     ]
    },
    {
     "name": "stderr",
     "output_type": "stream",
     "text": [
      "C:\\Users\\asus\\AppData\\Local\\Temp\\ipykernel_8892\\1532981678.py:11: FutureWarning: suggest_loguniform has been deprecated in v3.0.0. This feature will be removed in v6.0.0. See https://github.com/optuna/optuna/releases/tag/v3.0.0. Use suggest_float(..., log=True) instead.\n",
      "  'learning_rate': trial.suggest_loguniform('learning_rate', 0.01, 0.3),\n",
      "C:\\Users\\asus\\AppData\\Local\\Temp\\ipykernel_8892\\1532981678.py:13: FutureWarning: suggest_uniform has been deprecated in v3.0.0. This feature will be removed in v6.0.0. See https://github.com/optuna/optuna/releases/tag/v3.0.0. Use suggest_float instead.\n",
      "  'subsample': trial.suggest_uniform('subsample', 0.5, 1.0),\n",
      "c:\\Users\\asus\\anaconda3\\Lib\\site-packages\\xgboost\\core.py:158: UserWarning: [18:07:26] WARNING: C:\\buildkite-agent\\builds\\buildkite-windows-cpu-autoscaling-group-i-08cbc0333d8d4aae1-1\\xgboost\\xgboost-ci-windows\\src\\learner.cc:740: \n",
      "Parameters: { \"use_label_encoder\" } are not used.\n",
      "\n",
      "  warnings.warn(smsg, UserWarning)\n"
     ]
    },
    {
     "name": "stdout",
     "output_type": "stream",
     "text": [
      "[I 2025-02-10 18:07:52,743] Trial 9 finished with value: 0.14137159175443323 and parameters: {'n_estimators': 559, 'learning_rate': 0.11452743658546327, 'max_depth': 14, 'subsample': 0.721714655654579}. Best is trial 5 with value: 0.17877955372877874.\n"
     ]
    },
    {
     "name": "stderr",
     "output_type": "stream",
     "text": [
      "C:\\Users\\asus\\AppData\\Local\\Temp\\ipykernel_8892\\1532981678.py:11: FutureWarning: suggest_loguniform has been deprecated in v3.0.0. This feature will be removed in v6.0.0. See https://github.com/optuna/optuna/releases/tag/v3.0.0. Use suggest_float(..., log=True) instead.\n",
      "  'learning_rate': trial.suggest_loguniform('learning_rate', 0.01, 0.3),\n",
      "C:\\Users\\asus\\AppData\\Local\\Temp\\ipykernel_8892\\1532981678.py:13: FutureWarning: suggest_uniform has been deprecated in v3.0.0. This feature will be removed in v6.0.0. See https://github.com/optuna/optuna/releases/tag/v3.0.0. Use suggest_float instead.\n",
      "  'subsample': trial.suggest_uniform('subsample', 0.5, 1.0),\n",
      "c:\\Users\\asus\\anaconda3\\Lib\\site-packages\\xgboost\\core.py:158: UserWarning: [18:07:53] WARNING: C:\\buildkite-agent\\builds\\buildkite-windows-cpu-autoscaling-group-i-08cbc0333d8d4aae1-1\\xgboost\\xgboost-ci-windows\\src\\learner.cc:740: \n",
      "Parameters: { \"use_label_encoder\" } are not used.\n",
      "\n",
      "  warnings.warn(smsg, UserWarning)\n"
     ]
    },
    {
     "name": "stdout",
     "output_type": "stream",
     "text": [
      "[I 2025-02-10 18:08:05,941] Trial 10 finished with value: 0.17031990002807032 and parameters: {'n_estimators': 278, 'learning_rate': 0.010907497429966401, 'max_depth': 6, 'subsample': 0.5105322184034644}. Best is trial 5 with value: 0.17877955372877874.\n"
     ]
    },
    {
     "name": "stderr",
     "output_type": "stream",
     "text": [
      "C:\\Users\\asus\\AppData\\Local\\Temp\\ipykernel_8892\\1532981678.py:11: FutureWarning: suggest_loguniform has been deprecated in v3.0.0. This feature will be removed in v6.0.0. See https://github.com/optuna/optuna/releases/tag/v3.0.0. Use suggest_float(..., log=True) instead.\n",
      "  'learning_rate': trial.suggest_loguniform('learning_rate', 0.01, 0.3),\n",
      "C:\\Users\\asus\\AppData\\Local\\Temp\\ipykernel_8892\\1532981678.py:13: FutureWarning: suggest_uniform has been deprecated in v3.0.0. This feature will be removed in v6.0.0. See https://github.com/optuna/optuna/releases/tag/v3.0.0. Use suggest_float instead.\n",
      "  'subsample': trial.suggest_uniform('subsample', 0.5, 1.0),\n",
      "c:\\Users\\asus\\anaconda3\\Lib\\site-packages\\xgboost\\core.py:158: UserWarning: [18:08:06] WARNING: C:\\buildkite-agent\\builds\\buildkite-windows-cpu-autoscaling-group-i-08cbc0333d8d4aae1-1\\xgboost\\xgboost-ci-windows\\src\\learner.cc:740: \n",
      "Parameters: { \"use_label_encoder\" } are not used.\n",
      "\n",
      "  warnings.warn(smsg, UserWarning)\n"
     ]
    },
    {
     "name": "stdout",
     "output_type": "stream",
     "text": [
      "[I 2025-02-10 18:08:28,059] Trial 11 finished with value: 0.1727118598827876 and parameters: {'n_estimators': 798, 'learning_rate': 0.02301728955752818, 'max_depth': 5, 'subsample': 0.6458770520869281}. Best is trial 5 with value: 0.17877955372877874.\n"
     ]
    },
    {
     "name": "stderr",
     "output_type": "stream",
     "text": [
      "C:\\Users\\asus\\AppData\\Local\\Temp\\ipykernel_8892\\1532981678.py:11: FutureWarning: suggest_loguniform has been deprecated in v3.0.0. This feature will be removed in v6.0.0. See https://github.com/optuna/optuna/releases/tag/v3.0.0. Use suggest_float(..., log=True) instead.\n",
      "  'learning_rate': trial.suggest_loguniform('learning_rate', 0.01, 0.3),\n",
      "C:\\Users\\asus\\AppData\\Local\\Temp\\ipykernel_8892\\1532981678.py:13: FutureWarning: suggest_uniform has been deprecated in v3.0.0. This feature will be removed in v6.0.0. See https://github.com/optuna/optuna/releases/tag/v3.0.0. Use suggest_float instead.\n",
      "  'subsample': trial.suggest_uniform('subsample', 0.5, 1.0),\n",
      "c:\\Users\\asus\\anaconda3\\Lib\\site-packages\\xgboost\\core.py:158: UserWarning: [18:08:28] WARNING: C:\\buildkite-agent\\builds\\buildkite-windows-cpu-autoscaling-group-i-08cbc0333d8d4aae1-1\\xgboost\\xgboost-ci-windows\\src\\learner.cc:740: \n",
      "Parameters: { \"use_label_encoder\" } are not used.\n",
      "\n",
      "  warnings.warn(smsg, UserWarning)\n"
     ]
    },
    {
     "name": "stdout",
     "output_type": "stream",
     "text": [
      "[I 2025-02-10 18:08:41,322] Trial 12 finished with value: 0.1630432992413269 and parameters: {'n_estimators': 790, 'learning_rate': 0.023875454522397404, 'max_depth': 3, 'subsample': 0.6588981880408492}. Best is trial 5 with value: 0.17877955372877874.\n"
     ]
    },
    {
     "name": "stderr",
     "output_type": "stream",
     "text": [
      "C:\\Users\\asus\\AppData\\Local\\Temp\\ipykernel_8892\\1532981678.py:11: FutureWarning: suggest_loguniform has been deprecated in v3.0.0. This feature will be removed in v6.0.0. See https://github.com/optuna/optuna/releases/tag/v3.0.0. Use suggest_float(..., log=True) instead.\n",
      "  'learning_rate': trial.suggest_loguniform('learning_rate', 0.01, 0.3),\n",
      "C:\\Users\\asus\\AppData\\Local\\Temp\\ipykernel_8892\\1532981678.py:13: FutureWarning: suggest_uniform has been deprecated in v3.0.0. This feature will be removed in v6.0.0. See https://github.com/optuna/optuna/releases/tag/v3.0.0. Use suggest_float instead.\n",
      "  'subsample': trial.suggest_uniform('subsample', 0.5, 1.0),\n",
      "c:\\Users\\asus\\anaconda3\\Lib\\site-packages\\xgboost\\core.py:158: UserWarning: [18:08:41] WARNING: C:\\buildkite-agent\\builds\\buildkite-windows-cpu-autoscaling-group-i-08cbc0333d8d4aae1-1\\xgboost\\xgboost-ci-windows\\src\\learner.cc:740: \n",
      "Parameters: { \"use_label_encoder\" } are not used.\n",
      "\n",
      "  warnings.warn(smsg, UserWarning)\n"
     ]
    },
    {
     "name": "stdout",
     "output_type": "stream",
     "text": [
      "[I 2025-02-10 18:09:05,056] Trial 13 finished with value: 0.16485240343053076 and parameters: {'n_estimators': 647, 'learning_rate': 0.021388076741715247, 'max_depth': 11, 'subsample': 0.8559250159211138}. Best is trial 5 with value: 0.17877955372877874.\n"
     ]
    },
    {
     "name": "stderr",
     "output_type": "stream",
     "text": [
      "C:\\Users\\asus\\AppData\\Local\\Temp\\ipykernel_8892\\1532981678.py:11: FutureWarning: suggest_loguniform has been deprecated in v3.0.0. This feature will be removed in v6.0.0. See https://github.com/optuna/optuna/releases/tag/v3.0.0. Use suggest_float(..., log=True) instead.\n",
      "  'learning_rate': trial.suggest_loguniform('learning_rate', 0.01, 0.3),\n",
      "C:\\Users\\asus\\AppData\\Local\\Temp\\ipykernel_8892\\1532981678.py:13: FutureWarning: suggest_uniform has been deprecated in v3.0.0. This feature will be removed in v6.0.0. See https://github.com/optuna/optuna/releases/tag/v3.0.0. Use suggest_float instead.\n",
      "  'subsample': trial.suggest_uniform('subsample', 0.5, 1.0),\n",
      "c:\\Users\\asus\\anaconda3\\Lib\\site-packages\\xgboost\\core.py:158: UserWarning: [18:09:05] WARNING: C:\\buildkite-agent\\builds\\buildkite-windows-cpu-autoscaling-group-i-08cbc0333d8d4aae1-1\\xgboost\\xgboost-ci-windows\\src\\learner.cc:740: \n",
      "Parameters: { \"use_label_encoder\" } are not used.\n",
      "\n",
      "  warnings.warn(smsg, UserWarning)\n"
     ]
    },
    {
     "name": "stdout",
     "output_type": "stream",
     "text": [
      "[I 2025-02-10 18:09:20,795] Trial 14 finished with value: 0.1895174910298623 and parameters: {'n_estimators': 661, 'learning_rate': 0.013032877095342548, 'max_depth': 6, 'subsample': 0.6576370723981031}. Best is trial 14 with value: 0.1895174910298623.\n"
     ]
    },
    {
     "name": "stderr",
     "output_type": "stream",
     "text": [
      "C:\\Users\\asus\\AppData\\Local\\Temp\\ipykernel_8892\\1532981678.py:11: FutureWarning: suggest_loguniform has been deprecated in v3.0.0. This feature will be removed in v6.0.0. See https://github.com/optuna/optuna/releases/tag/v3.0.0. Use suggest_float(..., log=True) instead.\n",
      "  'learning_rate': trial.suggest_loguniform('learning_rate', 0.01, 0.3),\n",
      "C:\\Users\\asus\\AppData\\Local\\Temp\\ipykernel_8892\\1532981678.py:13: FutureWarning: suggest_uniform has been deprecated in v3.0.0. This feature will be removed in v6.0.0. See https://github.com/optuna/optuna/releases/tag/v3.0.0. Use suggest_float instead.\n",
      "  'subsample': trial.suggest_uniform('subsample', 0.5, 1.0),\n",
      "c:\\Users\\asus\\anaconda3\\Lib\\site-packages\\xgboost\\core.py:158: UserWarning: [18:09:21] WARNING: C:\\buildkite-agent\\builds\\buildkite-windows-cpu-autoscaling-group-i-08cbc0333d8d4aae1-1\\xgboost\\xgboost-ci-windows\\src\\learner.cc:740: \n",
      "Parameters: { \"use_label_encoder\" } are not used.\n",
      "\n",
      "  warnings.warn(smsg, UserWarning)\n"
     ]
    },
    {
     "name": "stdout",
     "output_type": "stream",
     "text": [
      "[I 2025-02-10 18:09:34,139] Trial 15 finished with value: 0.17917724041892988 and parameters: {'n_estimators': 523, 'learning_rate': 0.011337123131753935, 'max_depth': 6, 'subsample': 0.641865885482629}. Best is trial 14 with value: 0.1895174910298623.\n"
     ]
    },
    {
     "name": "stderr",
     "output_type": "stream",
     "text": [
      "C:\\Users\\asus\\AppData\\Local\\Temp\\ipykernel_8892\\1532981678.py:11: FutureWarning: suggest_loguniform has been deprecated in v3.0.0. This feature will be removed in v6.0.0. See https://github.com/optuna/optuna/releases/tag/v3.0.0. Use suggest_float(..., log=True) instead.\n",
      "  'learning_rate': trial.suggest_loguniform('learning_rate', 0.01, 0.3),\n",
      "C:\\Users\\asus\\AppData\\Local\\Temp\\ipykernel_8892\\1532981678.py:13: FutureWarning: suggest_uniform has been deprecated in v3.0.0. This feature will be removed in v6.0.0. See https://github.com/optuna/optuna/releases/tag/v3.0.0. Use suggest_float instead.\n",
      "  'subsample': trial.suggest_uniform('subsample', 0.5, 1.0),\n",
      "c:\\Users\\asus\\anaconda3\\Lib\\site-packages\\xgboost\\core.py:158: UserWarning: [18:09:34] WARNING: C:\\buildkite-agent\\builds\\buildkite-windows-cpu-autoscaling-group-i-08cbc0333d8d4aae1-1\\xgboost\\xgboost-ci-windows\\src\\learner.cc:740: \n",
      "Parameters: { \"use_label_encoder\" } are not used.\n",
      "\n",
      "  warnings.warn(smsg, UserWarning)\n"
     ]
    },
    {
     "name": "stdout",
     "output_type": "stream",
     "text": [
      "[I 2025-02-10 18:09:47,890] Trial 16 finished with value: 0.18028144744689267 and parameters: {'n_estimators': 552, 'learning_rate': 0.01046358022122006, 'max_depth': 7, 'subsample': 0.5869219519150882}. Best is trial 14 with value: 0.1895174910298623.\n"
     ]
    },
    {
     "name": "stderr",
     "output_type": "stream",
     "text": [
      "C:\\Users\\asus\\AppData\\Local\\Temp\\ipykernel_8892\\1532981678.py:11: FutureWarning: suggest_loguniform has been deprecated in v3.0.0. This feature will be removed in v6.0.0. See https://github.com/optuna/optuna/releases/tag/v3.0.0. Use suggest_float(..., log=True) instead.\n",
      "  'learning_rate': trial.suggest_loguniform('learning_rate', 0.01, 0.3),\n",
      "C:\\Users\\asus\\AppData\\Local\\Temp\\ipykernel_8892\\1532981678.py:13: FutureWarning: suggest_uniform has been deprecated in v3.0.0. This feature will be removed in v6.0.0. See https://github.com/optuna/optuna/releases/tag/v3.0.0. Use suggest_float instead.\n",
      "  'subsample': trial.suggest_uniform('subsample', 0.5, 1.0),\n",
      "c:\\Users\\asus\\anaconda3\\Lib\\site-packages\\xgboost\\core.py:158: UserWarning: [18:09:48] WARNING: C:\\buildkite-agent\\builds\\buildkite-windows-cpu-autoscaling-group-i-08cbc0333d8d4aae1-1\\xgboost\\xgboost-ci-windows\\src\\learner.cc:740: \n",
      "Parameters: { \"use_label_encoder\" } are not used.\n",
      "\n",
      "  warnings.warn(smsg, UserWarning)\n"
     ]
    },
    {
     "name": "stdout",
     "output_type": "stream",
     "text": [
      "[I 2025-02-10 18:10:13,630] Trial 17 finished with value: 0.17469656691264612 and parameters: {'n_estimators': 648, 'learning_rate': 0.014855592019868536, 'max_depth': 11, 'subsample': 0.5346333008618588}. Best is trial 14 with value: 0.1895174910298623.\n"
     ]
    },
    {
     "name": "stderr",
     "output_type": "stream",
     "text": [
      "C:\\Users\\asus\\AppData\\Local\\Temp\\ipykernel_8892\\1532981678.py:11: FutureWarning: suggest_loguniform has been deprecated in v3.0.0. This feature will be removed in v6.0.0. See https://github.com/optuna/optuna/releases/tag/v3.0.0. Use suggest_float(..., log=True) instead.\n",
      "  'learning_rate': trial.suggest_loguniform('learning_rate', 0.01, 0.3),\n",
      "C:\\Users\\asus\\AppData\\Local\\Temp\\ipykernel_8892\\1532981678.py:13: FutureWarning: suggest_uniform has been deprecated in v3.0.0. This feature will be removed in v6.0.0. See https://github.com/optuna/optuna/releases/tag/v3.0.0. Use suggest_float instead.\n",
      "  'subsample': trial.suggest_uniform('subsample', 0.5, 1.0),\n",
      "c:\\Users\\asus\\anaconda3\\Lib\\site-packages\\xgboost\\core.py:158: UserWarning: [18:10:14] WARNING: C:\\buildkite-agent\\builds\\buildkite-windows-cpu-autoscaling-group-i-08cbc0333d8d4aae1-1\\xgboost\\xgboost-ci-windows\\src\\learner.cc:740: \n",
      "Parameters: { \"use_label_encoder\" } are not used.\n",
      "\n",
      "  warnings.warn(smsg, UserWarning)\n"
     ]
    },
    {
     "name": "stdout",
     "output_type": "stream",
     "text": [
      "[I 2025-02-10 18:10:28,135] Trial 18 finished with value: 0.17475187500280584 and parameters: {'n_estimators': 625, 'learning_rate': 0.010007982353634447, 'max_depth': 9, 'subsample': 0.5996768887171758}. Best is trial 14 with value: 0.1895174910298623.\n"
     ]
    },
    {
     "name": "stderr",
     "output_type": "stream",
     "text": [
      "C:\\Users\\asus\\AppData\\Local\\Temp\\ipykernel_8892\\1532981678.py:11: FutureWarning: suggest_loguniform has been deprecated in v3.0.0. This feature will be removed in v6.0.0. See https://github.com/optuna/optuna/releases/tag/v3.0.0. Use suggest_float(..., log=True) instead.\n",
      "  'learning_rate': trial.suggest_loguniform('learning_rate', 0.01, 0.3),\n",
      "C:\\Users\\asus\\AppData\\Local\\Temp\\ipykernel_8892\\1532981678.py:13: FutureWarning: suggest_uniform has been deprecated in v3.0.0. This feature will be removed in v6.0.0. See https://github.com/optuna/optuna/releases/tag/v3.0.0. Use suggest_float instead.\n",
      "  'subsample': trial.suggest_uniform('subsample', 0.5, 1.0),\n",
      "c:\\Users\\asus\\anaconda3\\Lib\\site-packages\\xgboost\\core.py:158: UserWarning: [18:10:28] WARNING: C:\\buildkite-agent\\builds\\buildkite-windows-cpu-autoscaling-group-i-08cbc0333d8d4aae1-1\\xgboost\\xgboost-ci-windows\\src\\learner.cc:740: \n",
      "Parameters: { \"use_label_encoder\" } are not used.\n",
      "\n",
      "  warnings.warn(smsg, UserWarning)\n"
     ]
    },
    {
     "name": "stdout",
     "output_type": "stream",
     "text": [
      "[I 2025-02-10 18:10:43,420] Trial 19 finished with value: 0.17517322458375897 and parameters: {'n_estimators': 706, 'learning_rate': 0.035180788199342235, 'max_depth': 8, 'subsample': 0.576899929408853}. Best is trial 14 with value: 0.1895174910298623.\n"
     ]
    },
    {
     "name": "stderr",
     "output_type": "stream",
     "text": [
      "C:\\Users\\asus\\AppData\\Local\\Temp\\ipykernel_8892\\1532981678.py:11: FutureWarning: suggest_loguniform has been deprecated in v3.0.0. This feature will be removed in v6.0.0. See https://github.com/optuna/optuna/releases/tag/v3.0.0. Use suggest_float(..., log=True) instead.\n",
      "  'learning_rate': trial.suggest_loguniform('learning_rate', 0.01, 0.3),\n",
      "C:\\Users\\asus\\AppData\\Local\\Temp\\ipykernel_8892\\1532981678.py:13: FutureWarning: suggest_uniform has been deprecated in v3.0.0. This feature will be removed in v6.0.0. See https://github.com/optuna/optuna/releases/tag/v3.0.0. Use suggest_float instead.\n",
      "  'subsample': trial.suggest_uniform('subsample', 0.5, 1.0),\n",
      "c:\\Users\\asus\\anaconda3\\Lib\\site-packages\\xgboost\\core.py:158: UserWarning: [18:10:43] WARNING: C:\\buildkite-agent\\builds\\buildkite-windows-cpu-autoscaling-group-i-08cbc0333d8d4aae1-1\\xgboost\\xgboost-ci-windows\\src\\learner.cc:740: \n",
      "Parameters: { \"use_label_encoder\" } are not used.\n",
      "\n",
      "  warnings.warn(smsg, UserWarning)\n"
     ]
    },
    {
     "name": "stdout",
     "output_type": "stream",
     "text": [
      "[I 2025-02-10 18:10:57,666] Trial 20 finished with value: 0.17003846213522972 and parameters: {'n_estimators': 491, 'learning_rate': 0.01608658940698867, 'max_depth': 10, 'subsample': 0.7041126469430227}. Best is trial 14 with value: 0.1895174910298623.\n"
     ]
    },
    {
     "name": "stderr",
     "output_type": "stream",
     "text": [
      "C:\\Users\\asus\\AppData\\Local\\Temp\\ipykernel_8892\\1532981678.py:11: FutureWarning: suggest_loguniform has been deprecated in v3.0.0. This feature will be removed in v6.0.0. See https://github.com/optuna/optuna/releases/tag/v3.0.0. Use suggest_float(..., log=True) instead.\n",
      "  'learning_rate': trial.suggest_loguniform('learning_rate', 0.01, 0.3),\n",
      "C:\\Users\\asus\\AppData\\Local\\Temp\\ipykernel_8892\\1532981678.py:13: FutureWarning: suggest_uniform has been deprecated in v3.0.0. This feature will be removed in v6.0.0. See https://github.com/optuna/optuna/releases/tag/v3.0.0. Use suggest_float instead.\n",
      "  'subsample': trial.suggest_uniform('subsample', 0.5, 1.0),\n",
      "c:\\Users\\asus\\anaconda3\\Lib\\site-packages\\xgboost\\core.py:158: UserWarning: [18:10:58] WARNING: C:\\buildkite-agent\\builds\\buildkite-windows-cpu-autoscaling-group-i-08cbc0333d8d4aae1-1\\xgboost\\xgboost-ci-windows\\src\\learner.cc:740: \n",
      "Parameters: { \"use_label_encoder\" } are not used.\n",
      "\n",
      "  warnings.warn(smsg, UserWarning)\n"
     ]
    },
    {
     "name": "stdout",
     "output_type": "stream",
     "text": [
      "[I 2025-02-10 18:11:07,277] Trial 21 finished with value: 0.18534060663450327 and parameters: {'n_estimators': 537, 'learning_rate': 0.013948829454650882, 'max_depth': 6, 'subsample': 0.6085487082700857}. Best is trial 14 with value: 0.1895174910298623.\n"
     ]
    },
    {
     "name": "stderr",
     "output_type": "stream",
     "text": [
      "C:\\Users\\asus\\AppData\\Local\\Temp\\ipykernel_8892\\1532981678.py:11: FutureWarning: suggest_loguniform has been deprecated in v3.0.0. This feature will be removed in v6.0.0. See https://github.com/optuna/optuna/releases/tag/v3.0.0. Use suggest_float(..., log=True) instead.\n",
      "  'learning_rate': trial.suggest_loguniform('learning_rate', 0.01, 0.3),\n",
      "C:\\Users\\asus\\AppData\\Local\\Temp\\ipykernel_8892\\1532981678.py:13: FutureWarning: suggest_uniform has been deprecated in v3.0.0. This feature will be removed in v6.0.0. See https://github.com/optuna/optuna/releases/tag/v3.0.0. Use suggest_float instead.\n",
      "  'subsample': trial.suggest_uniform('subsample', 0.5, 1.0),\n",
      "c:\\Users\\asus\\anaconda3\\Lib\\site-packages\\xgboost\\core.py:158: UserWarning: [18:11:07] WARNING: C:\\buildkite-agent\\builds\\buildkite-windows-cpu-autoscaling-group-i-08cbc0333d8d4aae1-1\\xgboost\\xgboost-ci-windows\\src\\learner.cc:740: \n",
      "Parameters: { \"use_label_encoder\" } are not used.\n",
      "\n",
      "  warnings.warn(smsg, UserWarning)\n"
     ]
    },
    {
     "name": "stdout",
     "output_type": "stream",
     "text": [
      "[I 2025-02-10 18:11:18,823] Trial 22 finished with value: 0.18450912452705995 and parameters: {'n_estimators': 605, 'learning_rate': 0.014936954495277176, 'max_depth': 7, 'subsample': 0.6072182997733759}. Best is trial 14 with value: 0.1895174910298623.\n"
     ]
    },
    {
     "name": "stderr",
     "output_type": "stream",
     "text": [
      "C:\\Users\\asus\\AppData\\Local\\Temp\\ipykernel_8892\\1532981678.py:11: FutureWarning: suggest_loguniform has been deprecated in v3.0.0. This feature will be removed in v6.0.0. See https://github.com/optuna/optuna/releases/tag/v3.0.0. Use suggest_float(..., log=True) instead.\n",
      "  'learning_rate': trial.suggest_loguniform('learning_rate', 0.01, 0.3),\n",
      "C:\\Users\\asus\\AppData\\Local\\Temp\\ipykernel_8892\\1532981678.py:13: FutureWarning: suggest_uniform has been deprecated in v3.0.0. This feature will be removed in v6.0.0. See https://github.com/optuna/optuna/releases/tag/v3.0.0. Use suggest_float instead.\n",
      "  'subsample': trial.suggest_uniform('subsample', 0.5, 1.0),\n",
      "c:\\Users\\asus\\anaconda3\\Lib\\site-packages\\xgboost\\core.py:158: UserWarning: [18:11:19] WARNING: C:\\buildkite-agent\\builds\\buildkite-windows-cpu-autoscaling-group-i-08cbc0333d8d4aae1-1\\xgboost\\xgboost-ci-windows\\src\\learner.cc:740: \n",
      "Parameters: { \"use_label_encoder\" } are not used.\n",
      "\n",
      "  warnings.warn(smsg, UserWarning)\n"
     ]
    },
    {
     "name": "stdout",
     "output_type": "stream",
     "text": [
      "[I 2025-02-10 18:11:29,279] Trial 23 finished with value: 0.184527273701013 and parameters: {'n_estimators': 607, 'learning_rate': 0.016520487373288633, 'max_depth': 6, 'subsample': 0.6190007085931251}. Best is trial 14 with value: 0.1895174910298623.\n"
     ]
    },
    {
     "name": "stderr",
     "output_type": "stream",
     "text": [
      "C:\\Users\\asus\\AppData\\Local\\Temp\\ipykernel_8892\\1532981678.py:11: FutureWarning: suggest_loguniform has been deprecated in v3.0.0. This feature will be removed in v6.0.0. See https://github.com/optuna/optuna/releases/tag/v3.0.0. Use suggest_float(..., log=True) instead.\n",
      "  'learning_rate': trial.suggest_loguniform('learning_rate', 0.01, 0.3),\n",
      "C:\\Users\\asus\\AppData\\Local\\Temp\\ipykernel_8892\\1532981678.py:13: FutureWarning: suggest_uniform has been deprecated in v3.0.0. This feature will be removed in v6.0.0. See https://github.com/optuna/optuna/releases/tag/v3.0.0. Use suggest_float instead.\n",
      "  'subsample': trial.suggest_uniform('subsample', 0.5, 1.0),\n",
      "c:\\Users\\asus\\anaconda3\\Lib\\site-packages\\xgboost\\core.py:158: UserWarning: [18:11:29] WARNING: C:\\buildkite-agent\\builds\\buildkite-windows-cpu-autoscaling-group-i-08cbc0333d8d4aae1-1\\xgboost\\xgboost-ci-windows\\src\\learner.cc:740: \n",
      "Parameters: { \"use_label_encoder\" } are not used.\n",
      "\n",
      "  warnings.warn(smsg, UserWarning)\n"
     ]
    },
    {
     "name": "stdout",
     "output_type": "stream",
     "text": [
      "[I 2025-02-10 18:11:42,275] Trial 24 finished with value: 0.17846378891053324 and parameters: {'n_estimators': 707, 'learning_rate': 0.028054009298399497, 'max_depth': 5, 'subsample': 0.6850527382744409}. Best is trial 14 with value: 0.1895174910298623.\n"
     ]
    },
    {
     "name": "stderr",
     "output_type": "stream",
     "text": [
      "C:\\Users\\asus\\AppData\\Local\\Temp\\ipykernel_8892\\1532981678.py:11: FutureWarning: suggest_loguniform has been deprecated in v3.0.0. This feature will be removed in v6.0.0. See https://github.com/optuna/optuna/releases/tag/v3.0.0. Use suggest_float(..., log=True) instead.\n",
      "  'learning_rate': trial.suggest_loguniform('learning_rate', 0.01, 0.3),\n",
      "C:\\Users\\asus\\AppData\\Local\\Temp\\ipykernel_8892\\1532981678.py:13: FutureWarning: suggest_uniform has been deprecated in v3.0.0. This feature will be removed in v6.0.0. See https://github.com/optuna/optuna/releases/tag/v3.0.0. Use suggest_float instead.\n",
      "  'subsample': trial.suggest_uniform('subsample', 0.5, 1.0),\n",
      "c:\\Users\\asus\\anaconda3\\Lib\\site-packages\\xgboost\\core.py:158: UserWarning: [18:11:42] WARNING: C:\\buildkite-agent\\builds\\buildkite-windows-cpu-autoscaling-group-i-08cbc0333d8d4aae1-1\\xgboost\\xgboost-ci-windows\\src\\learner.cc:740: \n",
      "Parameters: { \"use_label_encoder\" } are not used.\n",
      "\n",
      "  warnings.warn(smsg, UserWarning)\n"
     ]
    },
    {
     "name": "stdout",
     "output_type": "stream",
     "text": [
      "[I 2025-02-10 18:11:53,598] Trial 25 finished with value: 0.1765587089513191 and parameters: {'n_estimators': 400, 'learning_rate': 0.016150701586118203, 'max_depth': 6, 'subsample': 0.5441053135974269}. Best is trial 14 with value: 0.1895174910298623.\n"
     ]
    },
    {
     "name": "stderr",
     "output_type": "stream",
     "text": [
      "C:\\Users\\asus\\AppData\\Local\\Temp\\ipykernel_8892\\1532981678.py:11: FutureWarning: suggest_loguniform has been deprecated in v3.0.0. This feature will be removed in v6.0.0. See https://github.com/optuna/optuna/releases/tag/v3.0.0. Use suggest_float(..., log=True) instead.\n",
      "  'learning_rate': trial.suggest_loguniform('learning_rate', 0.01, 0.3),\n",
      "C:\\Users\\asus\\AppData\\Local\\Temp\\ipykernel_8892\\1532981678.py:13: FutureWarning: suggest_uniform has been deprecated in v3.0.0. This feature will be removed in v6.0.0. See https://github.com/optuna/optuna/releases/tag/v3.0.0. Use suggest_float instead.\n",
      "  'subsample': trial.suggest_uniform('subsample', 0.5, 1.0),\n",
      "c:\\Users\\asus\\anaconda3\\Lib\\site-packages\\xgboost\\core.py:158: UserWarning: [18:11:54] WARNING: C:\\buildkite-agent\\builds\\buildkite-windows-cpu-autoscaling-group-i-08cbc0333d8d4aae1-1\\xgboost\\xgboost-ci-windows\\src\\learner.cc:740: \n",
      "Parameters: { \"use_label_encoder\" } are not used.\n",
      "\n",
      "  warnings.warn(smsg, UserWarning)\n"
     ]
    },
    {
     "name": "stdout",
     "output_type": "stream",
     "text": [
      "[I 2025-02-10 18:12:03,655] Trial 26 finished with value: 0.1675067173541836 and parameters: {'n_estimators': 468, 'learning_rate': 0.050044317900373794, 'max_depth': 4, 'subsample': 0.6112905051079323}. Best is trial 14 with value: 0.1895174910298623.\n"
     ]
    },
    {
     "name": "stderr",
     "output_type": "stream",
     "text": [
      "C:\\Users\\asus\\AppData\\Local\\Temp\\ipykernel_8892\\1532981678.py:11: FutureWarning: suggest_loguniform has been deprecated in v3.0.0. This feature will be removed in v6.0.0. See https://github.com/optuna/optuna/releases/tag/v3.0.0. Use suggest_float(..., log=True) instead.\n",
      "  'learning_rate': trial.suggest_loguniform('learning_rate', 0.01, 0.3),\n",
      "C:\\Users\\asus\\AppData\\Local\\Temp\\ipykernel_8892\\1532981678.py:13: FutureWarning: suggest_uniform has been deprecated in v3.0.0. This feature will be removed in v6.0.0. See https://github.com/optuna/optuna/releases/tag/v3.0.0. Use suggest_float instead.\n",
      "  'subsample': trial.suggest_uniform('subsample', 0.5, 1.0),\n",
      "c:\\Users\\asus\\anaconda3\\Lib\\site-packages\\xgboost\\core.py:158: UserWarning: [18:12:04] WARNING: C:\\buildkite-agent\\builds\\buildkite-windows-cpu-autoscaling-group-i-08cbc0333d8d4aae1-1\\xgboost\\xgboost-ci-windows\\src\\learner.cc:740: \n",
      "Parameters: { \"use_label_encoder\" } are not used.\n",
      "\n",
      "  warnings.warn(smsg, UserWarning)\n"
     ]
    },
    {
     "name": "stdout",
     "output_type": "stream",
     "text": [
      "[I 2025-02-10 18:12:22,360] Trial 27 finished with value: 0.18298606412631907 and parameters: {'n_estimators': 722, 'learning_rate': 0.013247928730384844, 'max_depth': 8, 'subsample': 0.6308653971753067}. Best is trial 14 with value: 0.1895174910298623.\n"
     ]
    },
    {
     "name": "stderr",
     "output_type": "stream",
     "text": [
      "C:\\Users\\asus\\AppData\\Local\\Temp\\ipykernel_8892\\1532981678.py:11: FutureWarning: suggest_loguniform has been deprecated in v3.0.0. This feature will be removed in v6.0.0. See https://github.com/optuna/optuna/releases/tag/v3.0.0. Use suggest_float(..., log=True) instead.\n",
      "  'learning_rate': trial.suggest_loguniform('learning_rate', 0.01, 0.3),\n",
      "C:\\Users\\asus\\AppData\\Local\\Temp\\ipykernel_8892\\1532981678.py:13: FutureWarning: suggest_uniform has been deprecated in v3.0.0. This feature will be removed in v6.0.0. See https://github.com/optuna/optuna/releases/tag/v3.0.0. Use suggest_float instead.\n",
      "  'subsample': trial.suggest_uniform('subsample', 0.5, 1.0),\n",
      "c:\\Users\\asus\\anaconda3\\Lib\\site-packages\\xgboost\\core.py:158: UserWarning: [18:12:23] WARNING: C:\\buildkite-agent\\builds\\buildkite-windows-cpu-autoscaling-group-i-08cbc0333d8d4aae1-1\\xgboost\\xgboost-ci-windows\\src\\learner.cc:740: \n",
      "Parameters: { \"use_label_encoder\" } are not used.\n",
      "\n",
      "  warnings.warn(smsg, UserWarning)\n"
     ]
    },
    {
     "name": "stdout",
     "output_type": "stream",
     "text": [
      "[I 2025-02-10 18:12:33,960] Trial 28 finished with value: 0.18447493929634598 and parameters: {'n_estimators': 591, 'learning_rate': 0.018984876560608994, 'max_depth': 6, 'subsample': 0.5422059794358302}. Best is trial 14 with value: 0.1895174910298623.\n"
     ]
    },
    {
     "name": "stderr",
     "output_type": "stream",
     "text": [
      "C:\\Users\\asus\\AppData\\Local\\Temp\\ipykernel_8892\\1532981678.py:11: FutureWarning: suggest_loguniform has been deprecated in v3.0.0. This feature will be removed in v6.0.0. See https://github.com/optuna/optuna/releases/tag/v3.0.0. Use suggest_float(..., log=True) instead.\n",
      "  'learning_rate': trial.suggest_loguniform('learning_rate', 0.01, 0.3),\n",
      "C:\\Users\\asus\\AppData\\Local\\Temp\\ipykernel_8892\\1532981678.py:13: FutureWarning: suggest_uniform has been deprecated in v3.0.0. This feature will be removed in v6.0.0. See https://github.com/optuna/optuna/releases/tag/v3.0.0. Use suggest_float instead.\n",
      "  'subsample': trial.suggest_uniform('subsample', 0.5, 1.0),\n",
      "c:\\Users\\asus\\anaconda3\\Lib\\site-packages\\xgboost\\core.py:158: UserWarning: [18:12:34] WARNING: C:\\buildkite-agent\\builds\\buildkite-windows-cpu-autoscaling-group-i-08cbc0333d8d4aae1-1\\xgboost\\xgboost-ci-windows\\src\\learner.cc:740: \n",
      "Parameters: { \"use_label_encoder\" } are not used.\n",
      "\n",
      "  warnings.warn(smsg, UserWarning)\n"
     ]
    },
    {
     "name": "stdout",
     "output_type": "stream",
     "text": [
      "[I 2025-02-10 18:12:47,729] Trial 29 finished with value: 0.1465713265425738 and parameters: {'n_estimators': 373, 'learning_rate': 0.19920021130963916, 'max_depth': 14, 'subsample': 0.7807590310588733}. Best is trial 14 with value: 0.1895174910298623.\n"
     ]
    },
    {
     "name": "stderr",
     "output_type": "stream",
     "text": [
      "C:\\Users\\asus\\AppData\\Local\\Temp\\ipykernel_8892\\1532981678.py:11: FutureWarning: suggest_loguniform has been deprecated in v3.0.0. This feature will be removed in v6.0.0. See https://github.com/optuna/optuna/releases/tag/v3.0.0. Use suggest_float(..., log=True) instead.\n",
      "  'learning_rate': trial.suggest_loguniform('learning_rate', 0.01, 0.3),\n",
      "C:\\Users\\asus\\AppData\\Local\\Temp\\ipykernel_8892\\1532981678.py:13: FutureWarning: suggest_uniform has been deprecated in v3.0.0. This feature will be removed in v6.0.0. See https://github.com/optuna/optuna/releases/tag/v3.0.0. Use suggest_float instead.\n",
      "  'subsample': trial.suggest_uniform('subsample', 0.5, 1.0),\n",
      "c:\\Users\\asus\\anaconda3\\Lib\\site-packages\\xgboost\\core.py:158: UserWarning: [18:12:48] WARNING: C:\\buildkite-agent\\builds\\buildkite-windows-cpu-autoscaling-group-i-08cbc0333d8d4aae1-1\\xgboost\\xgboost-ci-windows\\src\\learner.cc:740: \n",
      "Parameters: { \"use_label_encoder\" } are not used.\n",
      "\n",
      "  warnings.warn(smsg, UserWarning)\n"
     ]
    },
    {
     "name": "stdout",
     "output_type": "stream",
     "text": [
      "[I 2025-02-10 18:13:10,955] Trial 30 finished with value: 0.1674370785394718 and parameters: {'n_estimators': 672, 'learning_rate': 0.01319295121200392, 'max_depth': 13, 'subsample': 0.6881887890391137}. Best is trial 14 with value: 0.1895174910298623.\n"
     ]
    },
    {
     "name": "stderr",
     "output_type": "stream",
     "text": [
      "C:\\Users\\asus\\AppData\\Local\\Temp\\ipykernel_8892\\1532981678.py:11: FutureWarning: suggest_loguniform has been deprecated in v3.0.0. This feature will be removed in v6.0.0. See https://github.com/optuna/optuna/releases/tag/v3.0.0. Use suggest_float(..., log=True) instead.\n",
      "  'learning_rate': trial.suggest_loguniform('learning_rate', 0.01, 0.3),\n",
      "C:\\Users\\asus\\AppData\\Local\\Temp\\ipykernel_8892\\1532981678.py:13: FutureWarning: suggest_uniform has been deprecated in v3.0.0. This feature will be removed in v6.0.0. See https://github.com/optuna/optuna/releases/tag/v3.0.0. Use suggest_float instead.\n",
      "  'subsample': trial.suggest_uniform('subsample', 0.5, 1.0),\n",
      "c:\\Users\\asus\\anaconda3\\Lib\\site-packages\\xgboost\\core.py:158: UserWarning: [18:13:11] WARNING: C:\\buildkite-agent\\builds\\buildkite-windows-cpu-autoscaling-group-i-08cbc0333d8d4aae1-1\\xgboost\\xgboost-ci-windows\\src\\learner.cc:740: \n",
      "Parameters: { \"use_label_encoder\" } are not used.\n",
      "\n",
      "  warnings.warn(smsg, UserWarning)\n"
     ]
    },
    {
     "name": "stdout",
     "output_type": "stream",
     "text": [
      "[I 2025-02-10 18:13:26,982] Trial 31 finished with value: 0.18381205146477553 and parameters: {'n_estimators': 592, 'learning_rate': 0.01617212991414632, 'max_depth': 7, 'subsample': 0.5999260424323989}. Best is trial 14 with value: 0.1895174910298623.\n"
     ]
    },
    {
     "name": "stderr",
     "output_type": "stream",
     "text": [
      "C:\\Users\\asus\\AppData\\Local\\Temp\\ipykernel_8892\\1532981678.py:11: FutureWarning: suggest_loguniform has been deprecated in v3.0.0. This feature will be removed in v6.0.0. See https://github.com/optuna/optuna/releases/tag/v3.0.0. Use suggest_float(..., log=True) instead.\n",
      "  'learning_rate': trial.suggest_loguniform('learning_rate', 0.01, 0.3),\n",
      "C:\\Users\\asus\\AppData\\Local\\Temp\\ipykernel_8892\\1532981678.py:13: FutureWarning: suggest_uniform has been deprecated in v3.0.0. This feature will be removed in v6.0.0. See https://github.com/optuna/optuna/releases/tag/v3.0.0. Use suggest_float instead.\n",
      "  'subsample': trial.suggest_uniform('subsample', 0.5, 1.0),\n",
      "c:\\Users\\asus\\anaconda3\\Lib\\site-packages\\xgboost\\core.py:158: UserWarning: [18:13:27] WARNING: C:\\buildkite-agent\\builds\\buildkite-windows-cpu-autoscaling-group-i-08cbc0333d8d4aae1-1\\xgboost\\xgboost-ci-windows\\src\\learner.cc:740: \n",
      "Parameters: { \"use_label_encoder\" } are not used.\n",
      "\n",
      "  warnings.warn(smsg, UserWarning)\n"
     ]
    },
    {
     "name": "stdout",
     "output_type": "stream",
     "text": [
      "[I 2025-02-10 18:13:39,646] Trial 32 finished with value: 0.18312300161195677 and parameters: {'n_estimators': 597, 'learning_rate': 0.027810272021929736, 'max_depth': 7, 'subsample': 0.6256808220598103}. Best is trial 14 with value: 0.1895174910298623.\n"
     ]
    },
    {
     "name": "stderr",
     "output_type": "stream",
     "text": [
      "C:\\Users\\asus\\AppData\\Local\\Temp\\ipykernel_8892\\1532981678.py:11: FutureWarning: suggest_loguniform has been deprecated in v3.0.0. This feature will be removed in v6.0.0. See https://github.com/optuna/optuna/releases/tag/v3.0.0. Use suggest_float(..., log=True) instead.\n",
      "  'learning_rate': trial.suggest_loguniform('learning_rate', 0.01, 0.3),\n",
      "C:\\Users\\asus\\AppData\\Local\\Temp\\ipykernel_8892\\1532981678.py:13: FutureWarning: suggest_uniform has been deprecated in v3.0.0. This feature will be removed in v6.0.0. See https://github.com/optuna/optuna/releases/tag/v3.0.0. Use suggest_float instead.\n",
      "  'subsample': trial.suggest_uniform('subsample', 0.5, 1.0),\n",
      "c:\\Users\\asus\\anaconda3\\Lib\\site-packages\\xgboost\\core.py:158: UserWarning: [18:13:40] WARNING: C:\\buildkite-agent\\builds\\buildkite-windows-cpu-autoscaling-group-i-08cbc0333d8d4aae1-1\\xgboost\\xgboost-ci-windows\\src\\learner.cc:740: \n",
      "Parameters: { \"use_label_encoder\" } are not used.\n",
      "\n",
      "  warnings.warn(smsg, UserWarning)\n"
     ]
    },
    {
     "name": "stdout",
     "output_type": "stream",
     "text": [
      "[I 2025-02-10 18:13:49,900] Trial 33 finished with value: 0.1778658442236397 and parameters: {'n_estimators': 505, 'learning_rate': 0.013456196544809576, 'max_depth': 8, 'subsample': 0.5481317199673079}. Best is trial 14 with value: 0.1895174910298623.\n"
     ]
    },
    {
     "name": "stderr",
     "output_type": "stream",
     "text": [
      "C:\\Users\\asus\\AppData\\Local\\Temp\\ipykernel_8892\\1532981678.py:11: FutureWarning: suggest_loguniform has been deprecated in v3.0.0. This feature will be removed in v6.0.0. See https://github.com/optuna/optuna/releases/tag/v3.0.0. Use suggest_float(..., log=True) instead.\n",
      "  'learning_rate': trial.suggest_loguniform('learning_rate', 0.01, 0.3),\n",
      "C:\\Users\\asus\\AppData\\Local\\Temp\\ipykernel_8892\\1532981678.py:13: FutureWarning: suggest_uniform has been deprecated in v3.0.0. This feature will be removed in v6.0.0. See https://github.com/optuna/optuna/releases/tag/v3.0.0. Use suggest_float instead.\n",
      "  'subsample': trial.suggest_uniform('subsample', 0.5, 1.0),\n",
      "c:\\Users\\asus\\anaconda3\\Lib\\site-packages\\xgboost\\core.py:158: UserWarning: [18:13:50] WARNING: C:\\buildkite-agent\\builds\\buildkite-windows-cpu-autoscaling-group-i-08cbc0333d8d4aae1-1\\xgboost\\xgboost-ci-windows\\src\\learner.cc:740: \n",
      "Parameters: { \"use_label_encoder\" } are not used.\n",
      "\n",
      "  warnings.warn(smsg, UserWarning)\n"
     ]
    },
    {
     "name": "stdout",
     "output_type": "stream",
     "text": [
      "[I 2025-02-10 18:13:57,589] Trial 34 finished with value: 0.1740970126663309 and parameters: {'n_estimators': 539, 'learning_rate': 0.01823046413077371, 'max_depth': 5, 'subsample': 0.6630058435836964}. Best is trial 14 with value: 0.1895174910298623.\n"
     ]
    },
    {
     "name": "stderr",
     "output_type": "stream",
     "text": [
      "C:\\Users\\asus\\AppData\\Local\\Temp\\ipykernel_8892\\1532981678.py:11: FutureWarning: suggest_loguniform has been deprecated in v3.0.0. This feature will be removed in v6.0.0. See https://github.com/optuna/optuna/releases/tag/v3.0.0. Use suggest_float(..., log=True) instead.\n",
      "  'learning_rate': trial.suggest_loguniform('learning_rate', 0.01, 0.3),\n",
      "C:\\Users\\asus\\AppData\\Local\\Temp\\ipykernel_8892\\1532981678.py:13: FutureWarning: suggest_uniform has been deprecated in v3.0.0. This feature will be removed in v6.0.0. See https://github.com/optuna/optuna/releases/tag/v3.0.0. Use suggest_float instead.\n",
      "  'subsample': trial.suggest_uniform('subsample', 0.5, 1.0),\n",
      "c:\\Users\\asus\\anaconda3\\Lib\\site-packages\\xgboost\\core.py:158: UserWarning: [18:13:58] WARNING: C:\\buildkite-agent\\builds\\buildkite-windows-cpu-autoscaling-group-i-08cbc0333d8d4aae1-1\\xgboost\\xgboost-ci-windows\\src\\learner.cc:740: \n",
      "Parameters: { \"use_label_encoder\" } are not used.\n",
      "\n",
      "  warnings.warn(smsg, UserWarning)\n"
     ]
    },
    {
     "name": "stdout",
     "output_type": "stream",
     "text": [
      "[I 2025-02-10 18:14:10,197] Trial 35 finished with value: 0.16633387177030337 and parameters: {'n_estimators': 757, 'learning_rate': 0.012620107491088363, 'max_depth': 4, 'subsample': 0.5719711356929101}. Best is trial 14 with value: 0.1895174910298623.\n"
     ]
    },
    {
     "name": "stderr",
     "output_type": "stream",
     "text": [
      "C:\\Users\\asus\\AppData\\Local\\Temp\\ipykernel_8892\\1532981678.py:11: FutureWarning: suggest_loguniform has been deprecated in v3.0.0. This feature will be removed in v6.0.0. See https://github.com/optuna/optuna/releases/tag/v3.0.0. Use suggest_float(..., log=True) instead.\n",
      "  'learning_rate': trial.suggest_loguniform('learning_rate', 0.01, 0.3),\n",
      "C:\\Users\\asus\\AppData\\Local\\Temp\\ipykernel_8892\\1532981678.py:13: FutureWarning: suggest_uniform has been deprecated in v3.0.0. This feature will be removed in v6.0.0. See https://github.com/optuna/optuna/releases/tag/v3.0.0. Use suggest_float instead.\n",
      "  'subsample': trial.suggest_uniform('subsample', 0.5, 1.0),\n",
      "c:\\Users\\asus\\anaconda3\\Lib\\site-packages\\xgboost\\core.py:158: UserWarning: [18:14:10] WARNING: C:\\buildkite-agent\\builds\\buildkite-windows-cpu-autoscaling-group-i-08cbc0333d8d4aae1-1\\xgboost\\xgboost-ci-windows\\src\\learner.cc:740: \n",
      "Parameters: { \"use_label_encoder\" } are not used.\n",
      "\n",
      "  warnings.warn(smsg, UserWarning)\n"
     ]
    },
    {
     "name": "stdout",
     "output_type": "stream",
     "text": [
      "[I 2025-02-10 18:14:23,796] Trial 36 finished with value: 0.1806588843299463 and parameters: {'n_estimators': 680, 'learning_rate': 0.04180766441312022, 'max_depth': 7, 'subsample': 0.5054361329532677}. Best is trial 14 with value: 0.1895174910298623.\n"
     ]
    },
    {
     "name": "stderr",
     "output_type": "stream",
     "text": [
      "C:\\Users\\asus\\AppData\\Local\\Temp\\ipykernel_8892\\1532981678.py:11: FutureWarning: suggest_loguniform has been deprecated in v3.0.0. This feature will be removed in v6.0.0. See https://github.com/optuna/optuna/releases/tag/v3.0.0. Use suggest_float(..., log=True) instead.\n",
      "  'learning_rate': trial.suggest_loguniform('learning_rate', 0.01, 0.3),\n",
      "C:\\Users\\asus\\AppData\\Local\\Temp\\ipykernel_8892\\1532981678.py:13: FutureWarning: suggest_uniform has been deprecated in v3.0.0. This feature will be removed in v6.0.0. See https://github.com/optuna/optuna/releases/tag/v3.0.0. Use suggest_float instead.\n",
      "  'subsample': trial.suggest_uniform('subsample', 0.5, 1.0),\n",
      "c:\\Users\\asus\\anaconda3\\Lib\\site-packages\\xgboost\\core.py:158: UserWarning: [18:14:24] WARNING: C:\\buildkite-agent\\builds\\buildkite-windows-cpu-autoscaling-group-i-08cbc0333d8d4aae1-1\\xgboost\\xgboost-ci-windows\\src\\learner.cc:740: \n",
      "Parameters: { \"use_label_encoder\" } are not used.\n",
      "\n",
      "  warnings.warn(smsg, UserWarning)\n"
     ]
    },
    {
     "name": "stdout",
     "output_type": "stream",
     "text": [
      "[I 2025-02-10 18:14:36,301] Trial 37 finished with value: 0.1847481984979144 and parameters: {'n_estimators': 616, 'learning_rate': 0.027040871751184276, 'max_depth': 6, 'subsample': 0.6168354204768698}. Best is trial 14 with value: 0.1895174910298623.\n"
     ]
    },
    {
     "name": "stderr",
     "output_type": "stream",
     "text": [
      "C:\\Users\\asus\\AppData\\Local\\Temp\\ipykernel_8892\\1532981678.py:11: FutureWarning: suggest_loguniform has been deprecated in v3.0.0. This feature will be removed in v6.0.0. See https://github.com/optuna/optuna/releases/tag/v3.0.0. Use suggest_float(..., log=True) instead.\n",
      "  'learning_rate': trial.suggest_loguniform('learning_rate', 0.01, 0.3),\n",
      "C:\\Users\\asus\\AppData\\Local\\Temp\\ipykernel_8892\\1532981678.py:13: FutureWarning: suggest_uniform has been deprecated in v3.0.0. This feature will be removed in v6.0.0. See https://github.com/optuna/optuna/releases/tag/v3.0.0. Use suggest_float instead.\n",
      "  'subsample': trial.suggest_uniform('subsample', 0.5, 1.0),\n",
      "c:\\Users\\asus\\anaconda3\\Lib\\site-packages\\xgboost\\core.py:158: UserWarning: [18:14:37] WARNING: C:\\buildkite-agent\\builds\\buildkite-windows-cpu-autoscaling-group-i-08cbc0333d8d4aae1-1\\xgboost\\xgboost-ci-windows\\src\\learner.cc:740: \n",
      "Parameters: { \"use_label_encoder\" } are not used.\n",
      "\n",
      "  warnings.warn(smsg, UserWarning)\n"
     ]
    },
    {
     "name": "stdout",
     "output_type": "stream",
     "text": [
      "[I 2025-02-10 18:14:48,084] Trial 38 finished with value: 0.17375381700676082 and parameters: {'n_estimators': 571, 'learning_rate': 0.02707148111443941, 'max_depth': 4, 'subsample': 0.7188259092361193}. Best is trial 14 with value: 0.1895174910298623.\n"
     ]
    },
    {
     "name": "stderr",
     "output_type": "stream",
     "text": [
      "C:\\Users\\asus\\AppData\\Local\\Temp\\ipykernel_8892\\1532981678.py:11: FutureWarning: suggest_loguniform has been deprecated in v3.0.0. This feature will be removed in v6.0.0. See https://github.com/optuna/optuna/releases/tag/v3.0.0. Use suggest_float(..., log=True) instead.\n",
      "  'learning_rate': trial.suggest_loguniform('learning_rate', 0.01, 0.3),\n",
      "C:\\Users\\asus\\AppData\\Local\\Temp\\ipykernel_8892\\1532981678.py:13: FutureWarning: suggest_uniform has been deprecated in v3.0.0. This feature will be removed in v6.0.0. See https://github.com/optuna/optuna/releases/tag/v3.0.0. Use suggest_float instead.\n",
      "  'subsample': trial.suggest_uniform('subsample', 0.5, 1.0),\n",
      "c:\\Users\\asus\\anaconda3\\Lib\\site-packages\\xgboost\\core.py:158: UserWarning: [18:14:48] WARNING: C:\\buildkite-agent\\builds\\buildkite-windows-cpu-autoscaling-group-i-08cbc0333d8d4aae1-1\\xgboost\\xgboost-ci-windows\\src\\learner.cc:740: \n",
      "Parameters: { \"use_label_encoder\" } are not used.\n",
      "\n",
      "  warnings.warn(smsg, UserWarning)\n"
     ]
    },
    {
     "name": "stdout",
     "output_type": "stream",
     "text": [
      "[I 2025-02-10 18:15:12,465] Trial 39 finished with value: 0.17338689031752255 and parameters: {'n_estimators': 640, 'learning_rate': 0.03375080576636993, 'max_depth': 9, 'subsample': 0.8210578087791573}. Best is trial 14 with value: 0.1895174910298623.\n"
     ]
    },
    {
     "name": "stderr",
     "output_type": "stream",
     "text": [
      "C:\\Users\\asus\\AppData\\Local\\Temp\\ipykernel_8892\\1532981678.py:11: FutureWarning: suggest_loguniform has been deprecated in v3.0.0. This feature will be removed in v6.0.0. See https://github.com/optuna/optuna/releases/tag/v3.0.0. Use suggest_float(..., log=True) instead.\n",
      "  'learning_rate': trial.suggest_loguniform('learning_rate', 0.01, 0.3),\n",
      "C:\\Users\\asus\\AppData\\Local\\Temp\\ipykernel_8892\\1532981678.py:13: FutureWarning: suggest_uniform has been deprecated in v3.0.0. This feature will be removed in v6.0.0. See https://github.com/optuna/optuna/releases/tag/v3.0.0. Use suggest_float instead.\n",
      "  'subsample': trial.suggest_uniform('subsample', 0.5, 1.0),\n",
      "c:\\Users\\asus\\anaconda3\\Lib\\site-packages\\xgboost\\core.py:158: UserWarning: [18:15:13] WARNING: C:\\buildkite-agent\\builds\\buildkite-windows-cpu-autoscaling-group-i-08cbc0333d8d4aae1-1\\xgboost\\xgboost-ci-windows\\src\\learner.cc:740: \n",
      "Parameters: { \"use_label_encoder\" } are not used.\n",
      "\n",
      "  warnings.warn(smsg, UserWarning)\n"
     ]
    },
    {
     "name": "stdout",
     "output_type": "stream",
     "text": [
      "[I 2025-02-10 18:15:22,009] Trial 40 finished with value: 0.1773951259150475 and parameters: {'n_estimators': 455, 'learning_rate': 0.018583918141092347, 'max_depth': 5, 'subsample': 0.7407972972716815}. Best is trial 14 with value: 0.1895174910298623.\n"
     ]
    },
    {
     "name": "stderr",
     "output_type": "stream",
     "text": [
      "C:\\Users\\asus\\AppData\\Local\\Temp\\ipykernel_8892\\1532981678.py:11: FutureWarning: suggest_loguniform has been deprecated in v3.0.0. This feature will be removed in v6.0.0. See https://github.com/optuna/optuna/releases/tag/v3.0.0. Use suggest_float(..., log=True) instead.\n",
      "  'learning_rate': trial.suggest_loguniform('learning_rate', 0.01, 0.3),\n",
      "C:\\Users\\asus\\AppData\\Local\\Temp\\ipykernel_8892\\1532981678.py:13: FutureWarning: suggest_uniform has been deprecated in v3.0.0. This feature will be removed in v6.0.0. See https://github.com/optuna/optuna/releases/tag/v3.0.0. Use suggest_float instead.\n",
      "  'subsample': trial.suggest_uniform('subsample', 0.5, 1.0),\n",
      "c:\\Users\\asus\\anaconda3\\Lib\\site-packages\\xgboost\\core.py:158: UserWarning: [18:15:22] WARNING: C:\\buildkite-agent\\builds\\buildkite-windows-cpu-autoscaling-group-i-08cbc0333d8d4aae1-1\\xgboost\\xgboost-ci-windows\\src\\learner.cc:740: \n",
      "Parameters: { \"use_label_encoder\" } are not used.\n",
      "\n",
      "  warnings.warn(smsg, UserWarning)\n"
     ]
    },
    {
     "name": "stdout",
     "output_type": "stream",
     "text": [
      "[I 2025-02-10 18:15:35,578] Trial 41 finished with value: 0.18026988722765988 and parameters: {'n_estimators': 618, 'learning_rate': 0.02157237225359368, 'max_depth': 6, 'subsample': 0.6246152859126789}. Best is trial 14 with value: 0.1895174910298623.\n"
     ]
    },
    {
     "name": "stderr",
     "output_type": "stream",
     "text": [
      "C:\\Users\\asus\\AppData\\Local\\Temp\\ipykernel_8892\\1532981678.py:11: FutureWarning: suggest_loguniform has been deprecated in v3.0.0. This feature will be removed in v6.0.0. See https://github.com/optuna/optuna/releases/tag/v3.0.0. Use suggest_float(..., log=True) instead.\n",
      "  'learning_rate': trial.suggest_loguniform('learning_rate', 0.01, 0.3),\n",
      "C:\\Users\\asus\\AppData\\Local\\Temp\\ipykernel_8892\\1532981678.py:13: FutureWarning: suggest_uniform has been deprecated in v3.0.0. This feature will be removed in v6.0.0. See https://github.com/optuna/optuna/releases/tag/v3.0.0. Use suggest_float instead.\n",
      "  'subsample': trial.suggest_uniform('subsample', 0.5, 1.0),\n",
      "c:\\Users\\asus\\anaconda3\\Lib\\site-packages\\xgboost\\core.py:158: UserWarning: [18:15:36] WARNING: C:\\buildkite-agent\\builds\\buildkite-windows-cpu-autoscaling-group-i-08cbc0333d8d4aae1-1\\xgboost\\xgboost-ci-windows\\src\\learner.cc:740: \n",
      "Parameters: { \"use_label_encoder\" } are not used.\n",
      "\n",
      "  warnings.warn(smsg, UserWarning)\n"
     ]
    },
    {
     "name": "stdout",
     "output_type": "stream",
     "text": [
      "[I 2025-02-10 18:15:48,560] Trial 42 finished with value: 0.18302500909516622 and parameters: {'n_estimators': 679, 'learning_rate': 0.015141316124919701, 'max_depth': 7, 'subsample': 0.5671703714355921}. Best is trial 14 with value: 0.1895174910298623.\n"
     ]
    },
    {
     "name": "stderr",
     "output_type": "stream",
     "text": [
      "C:\\Users\\asus\\AppData\\Local\\Temp\\ipykernel_8892\\1532981678.py:11: FutureWarning: suggest_loguniform has been deprecated in v3.0.0. This feature will be removed in v6.0.0. See https://github.com/optuna/optuna/releases/tag/v3.0.0. Use suggest_float(..., log=True) instead.\n",
      "  'learning_rate': trial.suggest_loguniform('learning_rate', 0.01, 0.3),\n",
      "C:\\Users\\asus\\AppData\\Local\\Temp\\ipykernel_8892\\1532981678.py:13: FutureWarning: suggest_uniform has been deprecated in v3.0.0. This feature will be removed in v6.0.0. See https://github.com/optuna/optuna/releases/tag/v3.0.0. Use suggest_float instead.\n",
      "  'subsample': trial.suggest_uniform('subsample', 0.5, 1.0),\n",
      "c:\\Users\\asus\\anaconda3\\Lib\\site-packages\\xgboost\\core.py:158: UserWarning: [18:15:49] WARNING: C:\\buildkite-agent\\builds\\buildkite-windows-cpu-autoscaling-group-i-08cbc0333d8d4aae1-1\\xgboost\\xgboost-ci-windows\\src\\learner.cc:740: \n",
      "Parameters: { \"use_label_encoder\" } are not used.\n",
      "\n",
      "  warnings.warn(smsg, UserWarning)\n"
     ]
    },
    {
     "name": "stdout",
     "output_type": "stream",
     "text": [
      "[I 2025-02-10 18:16:04,876] Trial 43 finished with value: 0.18447593957991967 and parameters: {'n_estimators': 740, 'learning_rate': 0.012105379220762928, 'max_depth': 6, 'subsample': 0.6074091935119321}. Best is trial 14 with value: 0.1895174910298623.\n"
     ]
    },
    {
     "name": "stderr",
     "output_type": "stream",
     "text": [
      "C:\\Users\\asus\\AppData\\Local\\Temp\\ipykernel_8892\\1532981678.py:11: FutureWarning: suggest_loguniform has been deprecated in v3.0.0. This feature will be removed in v6.0.0. See https://github.com/optuna/optuna/releases/tag/v3.0.0. Use suggest_float(..., log=True) instead.\n",
      "  'learning_rate': trial.suggest_loguniform('learning_rate', 0.01, 0.3),\n",
      "C:\\Users\\asus\\AppData\\Local\\Temp\\ipykernel_8892\\1532981678.py:13: FutureWarning: suggest_uniform has been deprecated in v3.0.0. This feature will be removed in v6.0.0. See https://github.com/optuna/optuna/releases/tag/v3.0.0. Use suggest_float instead.\n",
      "  'subsample': trial.suggest_uniform('subsample', 0.5, 1.0),\n",
      "c:\\Users\\asus\\anaconda3\\Lib\\site-packages\\xgboost\\core.py:158: UserWarning: [18:16:05] WARNING: C:\\buildkite-agent\\builds\\buildkite-windows-cpu-autoscaling-group-i-08cbc0333d8d4aae1-1\\xgboost\\xgboost-ci-windows\\src\\learner.cc:740: \n",
      "Parameters: { \"use_label_encoder\" } are not used.\n",
      "\n",
      "  warnings.warn(smsg, UserWarning)\n"
     ]
    },
    {
     "name": "stdout",
     "output_type": "stream",
     "text": [
      "[I 2025-02-10 18:16:14,874] Trial 44 finished with value: 0.16365477243554744 and parameters: {'n_estimators': 503, 'learning_rate': 0.0606962053467998, 'max_depth': 8, 'subsample': 0.6648936503899593}. Best is trial 14 with value: 0.1895174910298623.\n"
     ]
    },
    {
     "name": "stderr",
     "output_type": "stream",
     "text": [
      "C:\\Users\\asus\\AppData\\Local\\Temp\\ipykernel_8892\\1532981678.py:11: FutureWarning: suggest_loguniform has been deprecated in v3.0.0. This feature will be removed in v6.0.0. See https://github.com/optuna/optuna/releases/tag/v3.0.0. Use suggest_float(..., log=True) instead.\n",
      "  'learning_rate': trial.suggest_loguniform('learning_rate', 0.01, 0.3),\n",
      "C:\\Users\\asus\\AppData\\Local\\Temp\\ipykernel_8892\\1532981678.py:13: FutureWarning: suggest_uniform has been deprecated in v3.0.0. This feature will be removed in v6.0.0. See https://github.com/optuna/optuna/releases/tag/v3.0.0. Use suggest_float instead.\n",
      "  'subsample': trial.suggest_uniform('subsample', 0.5, 1.0),\n",
      "c:\\Users\\asus\\anaconda3\\Lib\\site-packages\\xgboost\\core.py:158: UserWarning: [18:16:15] WARNING: C:\\buildkite-agent\\builds\\buildkite-windows-cpu-autoscaling-group-i-08cbc0333d8d4aae1-1\\xgboost\\xgboost-ci-windows\\src\\learner.cc:740: \n",
      "Parameters: { \"use_label_encoder\" } are not used.\n",
      "\n",
      "  warnings.warn(smsg, UserWarning)\n"
     ]
    },
    {
     "name": "stdout",
     "output_type": "stream",
     "text": [
      "[I 2025-02-10 18:16:22,029] Trial 45 finished with value: 0.18084101035445377 and parameters: {'n_estimators': 608, 'learning_rate': 0.02551637690146311, 'max_depth': 5, 'subsample': 0.9343908211382285}. Best is trial 14 with value: 0.1895174910298623.\n"
     ]
    },
    {
     "name": "stderr",
     "output_type": "stream",
     "text": [
      "C:\\Users\\asus\\AppData\\Local\\Temp\\ipykernel_8892\\1532981678.py:11: FutureWarning: suggest_loguniform has been deprecated in v3.0.0. This feature will be removed in v6.0.0. See https://github.com/optuna/optuna/releases/tag/v3.0.0. Use suggest_float(..., log=True) instead.\n",
      "  'learning_rate': trial.suggest_loguniform('learning_rate', 0.01, 0.3),\n",
      "C:\\Users\\asus\\AppData\\Local\\Temp\\ipykernel_8892\\1532981678.py:13: FutureWarning: suggest_uniform has been deprecated in v3.0.0. This feature will be removed in v6.0.0. See https://github.com/optuna/optuna/releases/tag/v3.0.0. Use suggest_float instead.\n",
      "  'subsample': trial.suggest_uniform('subsample', 0.5, 1.0),\n",
      "c:\\Users\\asus\\anaconda3\\Lib\\site-packages\\xgboost\\core.py:158: UserWarning: [18:16:22] WARNING: C:\\buildkite-agent\\builds\\buildkite-windows-cpu-autoscaling-group-i-08cbc0333d8d4aae1-1\\xgboost\\xgboost-ci-windows\\src\\learner.cc:740: \n",
      "Parameters: { \"use_label_encoder\" } are not used.\n",
      "\n",
      "  warnings.warn(smsg, UserWarning)\n"
     ]
    },
    {
     "name": "stdout",
     "output_type": "stream",
     "text": [
      "[I 2025-02-10 18:16:29,323] Trial 46 finished with value: 0.16605691611107515 and parameters: {'n_estimators': 573, 'learning_rate': 0.019748114478913566, 'max_depth': 4, 'subsample': 0.6400936234764685}. Best is trial 14 with value: 0.1895174910298623.\n"
     ]
    },
    {
     "name": "stderr",
     "output_type": "stream",
     "text": [
      "C:\\Users\\asus\\AppData\\Local\\Temp\\ipykernel_8892\\1532981678.py:11: FutureWarning: suggest_loguniform has been deprecated in v3.0.0. This feature will be removed in v6.0.0. See https://github.com/optuna/optuna/releases/tag/v3.0.0. Use suggest_float(..., log=True) instead.\n",
      "  'learning_rate': trial.suggest_loguniform('learning_rate', 0.01, 0.3),\n",
      "C:\\Users\\asus\\AppData\\Local\\Temp\\ipykernel_8892\\1532981678.py:13: FutureWarning: suggest_uniform has been deprecated in v3.0.0. This feature will be removed in v6.0.0. See https://github.com/optuna/optuna/releases/tag/v3.0.0. Use suggest_float instead.\n",
      "  'subsample': trial.suggest_uniform('subsample', 0.5, 1.0),\n",
      "c:\\Users\\asus\\anaconda3\\Lib\\site-packages\\xgboost\\core.py:158: UserWarning: [18:16:29] WARNING: C:\\buildkite-agent\\builds\\buildkite-windows-cpu-autoscaling-group-i-08cbc0333d8d4aae1-1\\xgboost\\xgboost-ci-windows\\src\\learner.cc:740: \n",
      "Parameters: { \"use_label_encoder\" } are not used.\n",
      "\n",
      "  warnings.warn(smsg, UserWarning)\n"
     ]
    },
    {
     "name": "stdout",
     "output_type": "stream",
     "text": [
      "[I 2025-02-10 18:16:36,638] Trial 47 finished with value: 0.16449860472278627 and parameters: {'n_estimators': 528, 'learning_rate': 0.08503322676750234, 'max_depth': 3, 'subsample': 0.6955207667623496}. Best is trial 14 with value: 0.1895174910298623.\n"
     ]
    },
    {
     "name": "stderr",
     "output_type": "stream",
     "text": [
      "C:\\Users\\asus\\AppData\\Local\\Temp\\ipykernel_8892\\1532981678.py:11: FutureWarning: suggest_loguniform has been deprecated in v3.0.0. This feature will be removed in v6.0.0. See https://github.com/optuna/optuna/releases/tag/v3.0.0. Use suggest_float(..., log=True) instead.\n",
      "  'learning_rate': trial.suggest_loguniform('learning_rate', 0.01, 0.3),\n",
      "C:\\Users\\asus\\AppData\\Local\\Temp\\ipykernel_8892\\1532981678.py:13: FutureWarning: suggest_uniform has been deprecated in v3.0.0. This feature will be removed in v6.0.0. See https://github.com/optuna/optuna/releases/tag/v3.0.0. Use suggest_float instead.\n",
      "  'subsample': trial.suggest_uniform('subsample', 0.5, 1.0),\n",
      "c:\\Users\\asus\\anaconda3\\Lib\\site-packages\\xgboost\\core.py:158: UserWarning: [18:16:37] WARNING: C:\\buildkite-agent\\builds\\buildkite-windows-cpu-autoscaling-group-i-08cbc0333d8d4aae1-1\\xgboost\\xgboost-ci-windows\\src\\learner.cc:740: \n",
      "Parameters: { \"use_label_encoder\" } are not used.\n",
      "\n",
      "  warnings.warn(smsg, UserWarning)\n"
     ]
    },
    {
     "name": "stdout",
     "output_type": "stream",
     "text": [
      "[I 2025-02-10 18:16:47,762] Trial 48 finished with value: 0.1856454605666175 and parameters: {'n_estimators': 665, 'learning_rate': 0.03874456557230618, 'max_depth': 6, 'subsample': 0.6599787269460289}. Best is trial 14 with value: 0.1895174910298623.\n"
     ]
    },
    {
     "name": "stderr",
     "output_type": "stream",
     "text": [
      "C:\\Users\\asus\\AppData\\Local\\Temp\\ipykernel_8892\\1532981678.py:11: FutureWarning: suggest_loguniform has been deprecated in v3.0.0. This feature will be removed in v6.0.0. See https://github.com/optuna/optuna/releases/tag/v3.0.0. Use suggest_float(..., log=True) instead.\n",
      "  'learning_rate': trial.suggest_loguniform('learning_rate', 0.01, 0.3),\n",
      "C:\\Users\\asus\\AppData\\Local\\Temp\\ipykernel_8892\\1532981678.py:13: FutureWarning: suggest_uniform has been deprecated in v3.0.0. This feature will be removed in v6.0.0. See https://github.com/optuna/optuna/releases/tag/v3.0.0. Use suggest_float instead.\n",
      "  'subsample': trial.suggest_uniform('subsample', 0.5, 1.0),\n",
      "c:\\Users\\asus\\anaconda3\\Lib\\site-packages\\xgboost\\core.py:158: UserWarning: [18:16:48] WARNING: C:\\buildkite-agent\\builds\\buildkite-windows-cpu-autoscaling-group-i-08cbc0333d8d4aae1-1\\xgboost\\xgboost-ci-windows\\src\\learner.cc:740: \n",
      "Parameters: { \"use_label_encoder\" } are not used.\n",
      "\n",
      "  warnings.warn(smsg, UserWarning)\n"
     ]
    },
    {
     "name": "stdout",
     "output_type": "stream",
     "text": [
      "[I 2025-02-10 18:16:52,053] Trial 49 finished with value: 0.18099200898969797 and parameters: {'n_estimators': 117, 'learning_rate': 0.040234036124475424, 'max_depth': 6, 'subsample': 0.7212624276888058}. Best is trial 14 with value: 0.1895174910298623.\n",
      "Best hyperparameters:\n",
      "{'n_estimators': 661, 'learning_rate': 0.013032877095342548, 'max_depth': 6, 'subsample': 0.6576370723981031}\n"
     ]
    }
   ],
   "source": [
    "import optuna\n",
    "import xgboost as xgb\n",
    "from sklearn.metrics import average_precision_score\n",
    "from sklearn.model_selection import train_test_split\n",
    "\n",
    "# Define the objective function for Optuna\n",
    "def objective(trial):\n",
    "    # Define the hyperparameters to tune\n",
    "    param = {\n",
    "        'n_estimators': trial.suggest_int('n_estimators', 100, 800),\n",
    "        'learning_rate': trial.suggest_loguniform('learning_rate', 0.01, 0.3),\n",
    "        'max_depth': trial.suggest_int('max_depth', 3, 15),\n",
    "        'subsample': trial.suggest_uniform('subsample', 0.5, 1.0),\n",
    "        'colsample_bytree': 0.8,\n",
    "        'scale_pos_weight': scale_pos_weight,  # Use the previously calculated scale_pos_weight\n",
    "        'random_state': 42,\n",
    "        'eval_metric': 'aucpr',\n",
    "        'use_label_encoder': False\n",
    "    }\n",
    "\n",
    "    # Initialize the XGBoost model with the hyperparameters\n",
    "    model = xgb.XGBClassifier(**param)\n",
    "\n",
    "    # Split the unique IDs into training and validation sets\n",
    "    unique_ids = X_train_augmented['ID'].unique()\n",
    "\n",
    "    X_merged = X_train_augmented.copy()\n",
    "    X_merged['fraud_flag'] = y_train\n",
    "\n",
    "    train_ids, val_ids = train_test_split(unique_ids, test_size=0.2, random_state=42, stratify=X_merged[['ID', 'fraud_flag']].drop_duplicates()['fraud_flag'])\n",
    "\n",
    "    # Create training and validation sets based on the split IDs\n",
    "    X_train_split = X_train_augmented[X_train_augmented['ID'].isin(train_ids)].drop(columns=['ID'])\n",
    "    y_train_split = y_train[X_train_augmented['ID'].isin(train_ids)]\n",
    "    X_val_split = X_train_augmented[X_train_augmented['ID'].isin(val_ids)].drop(columns=['ID'])\n",
    "    y_val_split = y_train[X_train_augmented['ID'].isin(val_ids)]\n",
    "\n",
    "    # Filter the training and validation data to include only the important  features (ID is removed)\n",
    "    X_train_split = X_train_split[important_features]\n",
    "    X_val_split = X_val_split[important_features]\n",
    "\n",
    "    # Fit the model on the training data\n",
    "    model.fit(X_train_split, y_train_split)\n",
    "\n",
    "    # Make predictions on the validation set\n",
    "    y_val_pred_prob = model.predict_proba(X_val_split)[:, 1]  # Get probability of fraud (class 1)\n",
    "\n",
    "    # Calculate the average precision score\n",
    "    average_precision = average_precision_score(y_val_split, y_val_pred_prob)\n",
    "\n",
    "    return average_precision\n",
    "\n",
    "# Create an Optuna study and optimize the objective function\n",
    "study = optuna.create_study(direction='maximize')\n",
    "study.optimize(objective, n_trials=50,show_progress_bar=True)\n",
    "\n",
    "# Print the best hyperparameters\n",
    "print(\"Best hyperparameters:\")\n",
    "print(study.best_params)\n",
    "\n"
   ]
  },
  {
   "cell_type": "markdown",
   "metadata": {},
   "source": [
    "-  If you don't want to recompute optuna"
   ]
  },
  {
   "cell_type": "code",
   "execution_count": 46,
   "metadata": {},
   "outputs": [
    {
     "name": "stdout",
     "output_type": "stream",
     "text": [
      "Best hyperparameters:\n",
      "{'n_estimators': 661, 'learning_rate': 0.013032877095342548, 'max_depth': 6, 'subsample': 0.6576370723981031}\n"
     ]
    }
   ],
   "source": [
    "# Show the best hyperparameters\n",
    "\n",
    "best_params = study.best_params\n",
    "\n",
    "#to avoid running the optimization again, we can use the best hyperparameters found by the optimization\n",
    "\n",
    "#best_params ={'n_estimators': 661, 'learning_rate': 0.013032877095342548, 'max_depth': 6, 'subsample': 0.6576370723981031}\n",
    "\n",
    "print(\"Best hyperparameters:\")\n",
    "print(best_params)\n"
   ]
  },
  {
   "cell_type": "markdown",
   "metadata": {},
   "source": [
    "----------"
   ]
  },
  {
   "cell_type": "markdown",
   "metadata": {},
   "source": [
    "# <a id='toc5_'></a>[Whole Pipeline & Y_Test generation](#toc0_)"
   ]
  },
  {
   "cell_type": "code",
   "execution_count": null,
   "metadata": {},
   "outputs": [
    {
     "name": "stderr",
     "output_type": "stream",
     "text": [
      "C:\\Users\\asus\\AppData\\Local\\Temp\\ipykernel_70092\\4223941004.py:1: DtypeWarning: Columns (21,22,23,24,69,70,71,72,93,94,95,96,97,104,105,106,107,108,109,110,111,112,113,114,115,116,117,118,119,120) have mixed types. Specify dtype option on import or set low_memory=False.\n",
      "  X_train_df = pd.read_csv('X_train.csv')\n",
      "C:\\Users\\asus\\AppData\\Local\\Temp\\ipykernel_70092\\4223941004.py:3: DtypeWarning: Columns (20,21,22,23,24,68,69,70,71,72,92,93,94,95,96,97,106,107,108,109,110,111,112,113,114,115,116,117,118) have mixed types. Specify dtype option on import or set low_memory=False.\n",
      "  X_test_df = pd.read_csv('X_test.csv')\n"
     ]
    },
    {
     "data": {
      "text/html": [
       "<div>\n",
       "<style scoped>\n",
       "    .dataframe tbody tr th:only-of-type {\n",
       "        vertical-align: middle;\n",
       "    }\n",
       "\n",
       "    .dataframe tbody tr th {\n",
       "        vertical-align: top;\n",
       "    }\n",
       "\n",
       "    .dataframe thead th {\n",
       "        text-align: right;\n",
       "    }\n",
       "</style>\n",
       "<table border=\"1\" class=\"dataframe\">\n",
       "  <thead>\n",
       "    <tr style=\"text-align: right;\">\n",
       "      <th></th>\n",
       "      <th>ID</th>\n",
       "      <th>item1</th>\n",
       "      <th>item2</th>\n",
       "      <th>item3</th>\n",
       "      <th>item4</th>\n",
       "      <th>item5</th>\n",
       "      <th>item6</th>\n",
       "      <th>item7</th>\n",
       "      <th>item8</th>\n",
       "      <th>item9</th>\n",
       "      <th>...</th>\n",
       "      <th>Nbr_of_prod_purchas16</th>\n",
       "      <th>Nbr_of_prod_purchas17</th>\n",
       "      <th>Nbr_of_prod_purchas18</th>\n",
       "      <th>Nbr_of_prod_purchas19</th>\n",
       "      <th>Nbr_of_prod_purchas20</th>\n",
       "      <th>Nbr_of_prod_purchas21</th>\n",
       "      <th>Nbr_of_prod_purchas22</th>\n",
       "      <th>Nbr_of_prod_purchas23</th>\n",
       "      <th>Nbr_of_prod_purchas24</th>\n",
       "      <th>Nb_of_items</th>\n",
       "    </tr>\n",
       "  </thead>\n",
       "  <tbody>\n",
       "    <tr>\n",
       "      <th>0</th>\n",
       "      <td>64707</td>\n",
       "      <td>HEALTH BEAUTY ELECTRICAL</td>\n",
       "      <td>NaN</td>\n",
       "      <td>NaN</td>\n",
       "      <td>NaN</td>\n",
       "      <td>NaN</td>\n",
       "      <td>NaN</td>\n",
       "      <td>NaN</td>\n",
       "      <td>NaN</td>\n",
       "      <td>NaN</td>\n",
       "      <td>...</td>\n",
       "      <td>NaN</td>\n",
       "      <td>NaN</td>\n",
       "      <td>NaN</td>\n",
       "      <td>NaN</td>\n",
       "      <td>NaN</td>\n",
       "      <td>NaN</td>\n",
       "      <td>NaN</td>\n",
       "      <td>NaN</td>\n",
       "      <td>NaN</td>\n",
       "      <td>1.0</td>\n",
       "    </tr>\n",
       "    <tr>\n",
       "      <th>1</th>\n",
       "      <td>63919</td>\n",
       "      <td>COMPUTER PERIPHERALS ACCESSORIES</td>\n",
       "      <td>NaN</td>\n",
       "      <td>NaN</td>\n",
       "      <td>NaN</td>\n",
       "      <td>NaN</td>\n",
       "      <td>NaN</td>\n",
       "      <td>NaN</td>\n",
       "      <td>NaN</td>\n",
       "      <td>NaN</td>\n",
       "      <td>...</td>\n",
       "      <td>NaN</td>\n",
       "      <td>NaN</td>\n",
       "      <td>NaN</td>\n",
       "      <td>NaN</td>\n",
       "      <td>NaN</td>\n",
       "      <td>NaN</td>\n",
       "      <td>NaN</td>\n",
       "      <td>NaN</td>\n",
       "      <td>NaN</td>\n",
       "      <td>1.0</td>\n",
       "    </tr>\n",
       "    <tr>\n",
       "      <th>2</th>\n",
       "      <td>15664</td>\n",
       "      <td>COMPUTERS</td>\n",
       "      <td>NaN</td>\n",
       "      <td>NaN</td>\n",
       "      <td>NaN</td>\n",
       "      <td>NaN</td>\n",
       "      <td>NaN</td>\n",
       "      <td>NaN</td>\n",
       "      <td>NaN</td>\n",
       "      <td>NaN</td>\n",
       "      <td>...</td>\n",
       "      <td>NaN</td>\n",
       "      <td>NaN</td>\n",
       "      <td>NaN</td>\n",
       "      <td>NaN</td>\n",
       "      <td>NaN</td>\n",
       "      <td>NaN</td>\n",
       "      <td>NaN</td>\n",
       "      <td>NaN</td>\n",
       "      <td>NaN</td>\n",
       "      <td>1.0</td>\n",
       "    </tr>\n",
       "    <tr>\n",
       "      <th>3</th>\n",
       "      <td>6626</td>\n",
       "      <td>COMPUTERS</td>\n",
       "      <td>FULFILMENT CHARGE</td>\n",
       "      <td>NaN</td>\n",
       "      <td>NaN</td>\n",
       "      <td>NaN</td>\n",
       "      <td>NaN</td>\n",
       "      <td>NaN</td>\n",
       "      <td>NaN</td>\n",
       "      <td>NaN</td>\n",
       "      <td>...</td>\n",
       "      <td>NaN</td>\n",
       "      <td>NaN</td>\n",
       "      <td>NaN</td>\n",
       "      <td>NaN</td>\n",
       "      <td>NaN</td>\n",
       "      <td>NaN</td>\n",
       "      <td>NaN</td>\n",
       "      <td>NaN</td>\n",
       "      <td>NaN</td>\n",
       "      <td>2.0</td>\n",
       "    </tr>\n",
       "    <tr>\n",
       "      <th>4</th>\n",
       "      <td>26766</td>\n",
       "      <td>COMPUTERS</td>\n",
       "      <td>NaN</td>\n",
       "      <td>NaN</td>\n",
       "      <td>NaN</td>\n",
       "      <td>NaN</td>\n",
       "      <td>NaN</td>\n",
       "      <td>NaN</td>\n",
       "      <td>NaN</td>\n",
       "      <td>NaN</td>\n",
       "      <td>...</td>\n",
       "      <td>NaN</td>\n",
       "      <td>NaN</td>\n",
       "      <td>NaN</td>\n",
       "      <td>NaN</td>\n",
       "      <td>NaN</td>\n",
       "      <td>NaN</td>\n",
       "      <td>NaN</td>\n",
       "      <td>NaN</td>\n",
       "      <td>NaN</td>\n",
       "      <td>1.0</td>\n",
       "    </tr>\n",
       "    <tr>\n",
       "      <th>...</th>\n",
       "      <td>...</td>\n",
       "      <td>...</td>\n",
       "      <td>...</td>\n",
       "      <td>...</td>\n",
       "      <td>...</td>\n",
       "      <td>...</td>\n",
       "      <td>...</td>\n",
       "      <td>...</td>\n",
       "      <td>...</td>\n",
       "      <td>...</td>\n",
       "      <td>...</td>\n",
       "      <td>...</td>\n",
       "      <td>...</td>\n",
       "      <td>...</td>\n",
       "      <td>...</td>\n",
       "      <td>...</td>\n",
       "      <td>...</td>\n",
       "      <td>...</td>\n",
       "      <td>...</td>\n",
       "      <td>...</td>\n",
       "      <td>...</td>\n",
       "    </tr>\n",
       "    <tr>\n",
       "      <th>23193</th>\n",
       "      <td>63474</td>\n",
       "      <td>COMPUTER PERIPHERALS ACCESSORIES</td>\n",
       "      <td>POWER BATTERIES</td>\n",
       "      <td>NaN</td>\n",
       "      <td>NaN</td>\n",
       "      <td>NaN</td>\n",
       "      <td>NaN</td>\n",
       "      <td>NaN</td>\n",
       "      <td>NaN</td>\n",
       "      <td>NaN</td>\n",
       "      <td>...</td>\n",
       "      <td>NaN</td>\n",
       "      <td>NaN</td>\n",
       "      <td>NaN</td>\n",
       "      <td>NaN</td>\n",
       "      <td>NaN</td>\n",
       "      <td>NaN</td>\n",
       "      <td>NaN</td>\n",
       "      <td>NaN</td>\n",
       "      <td>NaN</td>\n",
       "      <td>2.0</td>\n",
       "    </tr>\n",
       "    <tr>\n",
       "      <th>23194</th>\n",
       "      <td>80438</td>\n",
       "      <td>TELEVISIONS HOME CINEMA</td>\n",
       "      <td>NaN</td>\n",
       "      <td>NaN</td>\n",
       "      <td>NaN</td>\n",
       "      <td>NaN</td>\n",
       "      <td>NaN</td>\n",
       "      <td>NaN</td>\n",
       "      <td>NaN</td>\n",
       "      <td>NaN</td>\n",
       "      <td>...</td>\n",
       "      <td>NaN</td>\n",
       "      <td>NaN</td>\n",
       "      <td>NaN</td>\n",
       "      <td>NaN</td>\n",
       "      <td>NaN</td>\n",
       "      <td>NaN</td>\n",
       "      <td>NaN</td>\n",
       "      <td>NaN</td>\n",
       "      <td>NaN</td>\n",
       "      <td>1.0</td>\n",
       "    </tr>\n",
       "    <tr>\n",
       "      <th>23195</th>\n",
       "      <td>29485</td>\n",
       "      <td>COMPUTERS</td>\n",
       "      <td>NaN</td>\n",
       "      <td>NaN</td>\n",
       "      <td>NaN</td>\n",
       "      <td>NaN</td>\n",
       "      <td>NaN</td>\n",
       "      <td>NaN</td>\n",
       "      <td>NaN</td>\n",
       "      <td>NaN</td>\n",
       "      <td>...</td>\n",
       "      <td>NaN</td>\n",
       "      <td>NaN</td>\n",
       "      <td>NaN</td>\n",
       "      <td>NaN</td>\n",
       "      <td>NaN</td>\n",
       "      <td>NaN</td>\n",
       "      <td>NaN</td>\n",
       "      <td>NaN</td>\n",
       "      <td>NaN</td>\n",
       "      <td>1.0</td>\n",
       "    </tr>\n",
       "    <tr>\n",
       "      <th>23196</th>\n",
       "      <td>59838</td>\n",
       "      <td>COMPUTER PERIPHERALS ACCESSORIES</td>\n",
       "      <td>WARRANTY</td>\n",
       "      <td>NaN</td>\n",
       "      <td>NaN</td>\n",
       "      <td>NaN</td>\n",
       "      <td>NaN</td>\n",
       "      <td>NaN</td>\n",
       "      <td>NaN</td>\n",
       "      <td>NaN</td>\n",
       "      <td>...</td>\n",
       "      <td>NaN</td>\n",
       "      <td>NaN</td>\n",
       "      <td>NaN</td>\n",
       "      <td>NaN</td>\n",
       "      <td>NaN</td>\n",
       "      <td>NaN</td>\n",
       "      <td>NaN</td>\n",
       "      <td>NaN</td>\n",
       "      <td>NaN</td>\n",
       "      <td>2.0</td>\n",
       "    </tr>\n",
       "    <tr>\n",
       "      <th>23197</th>\n",
       "      <td>110584</td>\n",
       "      <td>COMPUTERS</td>\n",
       "      <td>FULFILMENT CHARGE</td>\n",
       "      <td>NaN</td>\n",
       "      <td>NaN</td>\n",
       "      <td>NaN</td>\n",
       "      <td>NaN</td>\n",
       "      <td>NaN</td>\n",
       "      <td>NaN</td>\n",
       "      <td>NaN</td>\n",
       "      <td>...</td>\n",
       "      <td>NaN</td>\n",
       "      <td>NaN</td>\n",
       "      <td>NaN</td>\n",
       "      <td>NaN</td>\n",
       "      <td>NaN</td>\n",
       "      <td>NaN</td>\n",
       "      <td>NaN</td>\n",
       "      <td>NaN</td>\n",
       "      <td>NaN</td>\n",
       "      <td>2.0</td>\n",
       "    </tr>\n",
       "  </tbody>\n",
       "</table>\n",
       "<p>23198 rows × 146 columns</p>\n",
       "</div>"
      ],
      "text/plain": [
       "           ID                             item1              item2 item3  \\\n",
       "0       64707          HEALTH BEAUTY ELECTRICAL                NaN   NaN   \n",
       "1       63919  COMPUTER PERIPHERALS ACCESSORIES                NaN   NaN   \n",
       "2       15664                         COMPUTERS                NaN   NaN   \n",
       "3        6626                         COMPUTERS  FULFILMENT CHARGE   NaN   \n",
       "4       26766                         COMPUTERS                NaN   NaN   \n",
       "...       ...                               ...                ...   ...   \n",
       "23193   63474  COMPUTER PERIPHERALS ACCESSORIES    POWER BATTERIES   NaN   \n",
       "23194   80438           TELEVISIONS HOME CINEMA                NaN   NaN   \n",
       "23195   29485                         COMPUTERS                NaN   NaN   \n",
       "23196   59838  COMPUTER PERIPHERALS ACCESSORIES           WARRANTY   NaN   \n",
       "23197  110584                         COMPUTERS  FULFILMENT CHARGE   NaN   \n",
       "\n",
       "      item4 item5 item6 item7 item8 item9  ... Nbr_of_prod_purchas16  \\\n",
       "0       NaN   NaN   NaN   NaN   NaN   NaN  ...                   NaN   \n",
       "1       NaN   NaN   NaN   NaN   NaN   NaN  ...                   NaN   \n",
       "2       NaN   NaN   NaN   NaN   NaN   NaN  ...                   NaN   \n",
       "3       NaN   NaN   NaN   NaN   NaN   NaN  ...                   NaN   \n",
       "4       NaN   NaN   NaN   NaN   NaN   NaN  ...                   NaN   \n",
       "...     ...   ...   ...   ...   ...   ...  ...                   ...   \n",
       "23193   NaN   NaN   NaN   NaN   NaN   NaN  ...                   NaN   \n",
       "23194   NaN   NaN   NaN   NaN   NaN   NaN  ...                   NaN   \n",
       "23195   NaN   NaN   NaN   NaN   NaN   NaN  ...                   NaN   \n",
       "23196   NaN   NaN   NaN   NaN   NaN   NaN  ...                   NaN   \n",
       "23197   NaN   NaN   NaN   NaN   NaN   NaN  ...                   NaN   \n",
       "\n",
       "      Nbr_of_prod_purchas17 Nbr_of_prod_purchas18 Nbr_of_prod_purchas19  \\\n",
       "0                       NaN                   NaN                   NaN   \n",
       "1                       NaN                   NaN                   NaN   \n",
       "2                       NaN                   NaN                   NaN   \n",
       "3                       NaN                   NaN                   NaN   \n",
       "4                       NaN                   NaN                   NaN   \n",
       "...                     ...                   ...                   ...   \n",
       "23193                   NaN                   NaN                   NaN   \n",
       "23194                   NaN                   NaN                   NaN   \n",
       "23195                   NaN                   NaN                   NaN   \n",
       "23196                   NaN                   NaN                   NaN   \n",
       "23197                   NaN                   NaN                   NaN   \n",
       "\n",
       "      Nbr_of_prod_purchas20 Nbr_of_prod_purchas21 Nbr_of_prod_purchas22  \\\n",
       "0                       NaN                   NaN                   NaN   \n",
       "1                       NaN                   NaN                   NaN   \n",
       "2                       NaN                   NaN                   NaN   \n",
       "3                       NaN                   NaN                   NaN   \n",
       "4                       NaN                   NaN                   NaN   \n",
       "...                     ...                   ...                   ...   \n",
       "23193                   NaN                   NaN                   NaN   \n",
       "23194                   NaN                   NaN                   NaN   \n",
       "23195                   NaN                   NaN                   NaN   \n",
       "23196                   NaN                   NaN                   NaN   \n",
       "23197                   NaN                   NaN                   NaN   \n",
       "\n",
       "      Nbr_of_prod_purchas23 Nbr_of_prod_purchas24 Nb_of_items  \n",
       "0                       NaN                   NaN         1.0  \n",
       "1                       NaN                   NaN         1.0  \n",
       "2                       NaN                   NaN         1.0  \n",
       "3                       NaN                   NaN         2.0  \n",
       "4                       NaN                   NaN         1.0  \n",
       "...                     ...                   ...         ...  \n",
       "23193                   NaN                   NaN         2.0  \n",
       "23194                   NaN                   NaN         1.0  \n",
       "23195                   NaN                   NaN         1.0  \n",
       "23196                   NaN                   NaN         2.0  \n",
       "23197                   NaN                   NaN         2.0  \n",
       "\n",
       "[23198 rows x 146 columns]"
      ]
     },
     "execution_count": 44,
     "metadata": {},
     "output_type": "execute_result"
    }
   ],
   "source": [
    "X_train_df = pd.read_csv('X_train.csv')\n",
    "Y_train_df = pd.read_csv('Y_train.csv')\n",
    "X_test_df = pd.read_csv('X_test.csv')\n",
    "Y_test_df = pd.read_csv('Y_test.csv')\n",
    "\n",
    "X_test_df"
   ]
  },
  {
   "cell_type": "markdown",
   "metadata": {},
   "source": [
    "1 - Reformating of our dataset"
   ]
  },
  {
   "cell_type": "markdown",
   "metadata": {},
   "source": [
    "BE CAREFUL !! Since we want at the end to submit in the format (index, ID, fraud_flag), we should keep in the long format the **same order of IDs** in the wide format so that we can easily reformat to the desired format before submitting "
   ]
  },
  {
   "cell_type": "code",
   "execution_count": null,
   "metadata": {},
   "outputs": [],
   "source": [
    "\n",
    "\n",
    "# Merge X_train_df with Y_train_df\n",
    "X_train_df = pd.merge(X_train_df, Y_train_df, on='ID')\n",
    "X_train_df.drop(columns=['index'], inplace=True)\n",
    "\n",
    "# Function to transform the dataset\n",
    "def transform_dataset(df, is_train=True):\n",
    "    # Store the original order of IDs\n",
    "    original_order = df[\"ID\"].tolist()\n",
    "\n",
    "    # Calculate the total_basket_price\n",
    "    cash_price_columns = [f'cash_price{i}' for i in range(1, 25)]\n",
    "    df['total_basket_price'] = df[cash_price_columns].sum(axis=1)\n",
    "\n",
    "    # Define the sets of related columns\n",
    "    item_columns = [f'item{i}' for i in range(1, 25)]\n",
    "    make_columns = [f'make{i}' for i in range(1, 25)]\n",
    "    model_columns = [f'model{i}' for i in range(1, 25)]\n",
    "    goods_code_columns = [f'goods_code{i}' for i in range(1, 25)]\n",
    "    nbr_of_prod_purchas_columns = [f'Nbr_of_prod_purchas{i}' for i in range(1, 25)]\n",
    "\n",
    "    # Melt the dataset for each set of related columns\n",
    "    melted_dfs = []\n",
    "    id_vars = ['ID', 'Nb_of_items', 'total_basket_price']\n",
    "    if is_train:\n",
    "        id_vars.append('fraud_flag')\n",
    "    for item_col, cash_price_col, make_col, model_col, goods_code_col, nbr_of_prod_purchas_col in zip(\n",
    "            item_columns, cash_price_columns, make_columns, model_columns, goods_code_columns, nbr_of_prod_purchas_columns):\n",
    "        # Check if the columns exist in the DataFrame\n",
    "        value_vars = [item_col, cash_price_col, make_col, model_col, goods_code_col, nbr_of_prod_purchas_col]\n",
    "        for col in value_vars:\n",
    "            if col not in df.columns:\n",
    "                raise KeyError(f\"Column '{col}' not found in the DataFrame\")\n",
    "        melted_df = pd.melt(df, id_vars=id_vars, value_vars=value_vars, var_name='variable', value_name='value')\n",
    "        melted_dfs.append(melted_df)\n",
    "\n",
    "    # Concatenate the melted DataFrames\n",
    "    df_long = pd.concat(melted_dfs, ignore_index=True)\n",
    "\n",
    "    # Remove NaN values\n",
    "    df_long = df_long.dropna(subset=['value'])\n",
    "\n",
    "    # Extract the item number (1, 2, 3, ...)\n",
    "    df_long[\"item_number\"] = df_long[\"variable\"].str.extract(r'(\\d+)')\n",
    "    df_long[\"variable\"] = df_long[\"variable\"].str.replace(r'\\d+', '', regex=True)  # Remove numbers\n",
    "\n",
    "    # Pivot to make each feature its own column\n",
    "    index_cols = [\"ID\", \"Nb_of_items\", \"total_basket_price\", \"item_number\"]\n",
    "    if is_train:\n",
    "        index_cols.append('fraud_flag')\n",
    "    df_final = df_long.pivot(index=index_cols, columns=\"variable\", values=\"value\").reset_index()\n",
    "\n",
    "    # Rename columns properly\n",
    "    df_final.columns.name = None  # Remove column name\n",
    "    df_final = df_final.rename(columns={\"item_\": \"item\", \"cash_price\": \"cash_price\", \"make\": \"make\", \"model\": \"model\", \n",
    "                                        \"goods_code\": \"goods_code\", \"Nbr_of_prod_purchas\": \"Nbr_of_prod_purchas\"})\n",
    "\n",
    "    # Drop rows where 'item' is NaN\n",
    "    df_final = df_final.dropna(subset=['item'])\n",
    "\n",
    "    # Ensure IDs follow the original order\n",
    "    df_final[\"ID\"] = pd.Categorical(df_final[\"ID\"], categories=original_order, ordered=True)\n",
    "    df_final = df_final.sort_values(by=[\"ID\", \"item_number\"]).reset_index(drop=True)\n",
    "\n",
    "    # Sort columns\n",
    "    if is_train:\n",
    "        columns = [\"ID\", \"Nb_of_items\", \"total_basket_price\", \"item_number\", \"item\", \"Nbr_of_prod_purchas\", \"make\", \"model\", \"goods_code\", \"cash_price\", \"fraud_flag\"]\n",
    "    else:\n",
    "        columns = [\"ID\", \"Nb_of_items\", \"total_basket_price\", \"item_number\", \"item\", \"Nbr_of_prod_purchas\", \"make\", \"model\", \"goods_code\", \"cash_price\"]\n",
    "    df_final = df_final[columns]\n",
    "\n",
    "    # Re convert ID to int\n",
    "\n",
    "    df_final['ID'] = df_final['ID'].astype(int)\n",
    "    \n",
    "    return df_final\n",
    "\n",
    "# Transform the training dataset\n",
    "X_train = transform_dataset(X_train_df, is_train=True)\n",
    "\n",
    "# Transform the test dataset\n",
    "X_test = transform_dataset(X_test_df, is_train=False)\n",
    "\n"
   ]
  },
  {
   "cell_type": "markdown",
   "metadata": {},
   "source": [
    "2 - Target encoding"
   ]
  },
  {
   "cell_type": "code",
   "execution_count": null,
   "metadata": {},
   "outputs": [],
   "source": [
    "y_train = X_train['fraud_flag']\n",
    "X_train = X_train.drop(columns=['fraud_flag'])"
   ]
  },
  {
   "cell_type": "code",
   "execution_count": null,
   "metadata": {},
   "outputs": [
    {
     "data": {
      "text/plain": [
       "ID                       0\n",
       "Nb_of_items              0\n",
       "total_basket_price       0\n",
       "item_number              0\n",
       "item                     0\n",
       "Nbr_of_prod_purchas      0\n",
       "make                   384\n",
       "model                  384\n",
       "goods_code               0\n",
       "cash_price               0\n",
       "dtype: int64"
      ]
     },
     "execution_count": 47,
     "metadata": {},
     "output_type": "execute_result"
    }
   ],
   "source": [
    "X_test.isnull().sum()"
   ]
  },
  {
   "cell_type": "code",
   "execution_count": null,
   "metadata": {},
   "outputs": [
    {
     "name": "stdout",
     "output_type": "stream",
     "text": [
      "See if the missing values are replaced by 'Missing' in the encoded datasets:\n",
      "         ID  Nb_of_items  total_basket_price item_number  \\\n",
      "146   40741          1.0              1149.0           1   \n",
      "166   40729          1.0              1117.0           1   \n",
      "809   15276          1.0               649.0           1   \n",
      "994   15456          1.0               999.0           1   \n",
      "1163  15375          4.0              1048.0           1   \n",
      "\n",
      "                                           item Nbr_of_prod_purchas     make  \\\n",
      "146                                   COMPUTERS                 1.0  Missing   \n",
      "166                                   COMPUTERS                 1.0  Missing   \n",
      "809   TELEPHONES, FAX MACHINES & TWO-WAY RADIOS                 1.0  Missing   \n",
      "994                                   COMPUTERS                 1.0  Missing   \n",
      "1163                                  COMPUTERS                 1.0  Missing   \n",
      "\n",
      "        model goods_code cash_price  \n",
      "146   Missing  240040988     1149.0  \n",
      "166   Missing  239246775     1117.0  \n",
      "809   Missing  238349193      649.0  \n",
      "994   Missing  240041004      999.0  \n",
      "1163  Missing  239246782      929.0  \n",
      "Encoded Training Data:\n",
      "      ID  Nb_of_items  total_basket_price item_number      item  \\\n",
      "0  85517          1.0               889.0           1  0.022794   \n",
      "1  51113          1.0               409.0           1  0.004236   \n",
      "2  83008          1.0              1399.0           1       NaN   \n",
      "3  78712          2.0               808.0           1  0.022794   \n",
      "4  78712          2.0               808.0           2  0.004236   \n",
      "\n",
      "  Nbr_of_prod_purchas    make     model  goods_code cash_price  \n",
      "0                 1.0  0.0182  0.012292    0.014744      889.0  \n",
      "1                 1.0  0.0182  0.005435    0.002874      409.0  \n",
      "2                 1.0     NaN       NaN         NaN     1399.0  \n",
      "3                 1.0  0.0182  0.002796    0.000003      689.0  \n",
      "4                 1.0  0.0182  0.003053    0.002721      119.0  \n",
      "Encoded Validation Data:\n",
      "      ID  Nb_of_items  total_basket_price item_number          item  \\\n",
      "0  64707          1.0               399.0           1  5.299438e-09   \n",
      "1  63919          1.0               294.0           1  4.235767e-03   \n",
      "2  15664          1.0               929.0           1  2.279351e-02   \n",
      "3   6626          2.0               546.0           1  2.279351e-02   \n",
      "4   6626          2.0               546.0           2  2.186202e-02   \n",
      "\n",
      "  Nbr_of_prod_purchas          make     model  goods_code cash_price  \n",
      "0                 1.0  5.385483e-16  0.000002    0.000002      399.0  \n",
      "1                 1.0  1.856375e-02  0.009902    0.014085      294.0  \n",
      "2                 1.0  1.820025e-02  0.008010    0.007400      929.0  \n",
      "3                 1.0  1.820025e-02  0.006182    0.005376      539.0  \n",
      "4                 1.0  1.191766e-02  0.015412    0.021862        7.0  \n"
     ]
    }
   ],
   "source": [
    "\n",
    "\n",
    "# Identify the non-numerical columns for target encoding\n",
    "non_numerical_columns = ['item', 'make', 'model', 'goods_code']\n",
    "\n",
    "\n",
    "\n",
    "X_train_not_encoded[non_numerical_columns] = X_train_not_encoded[non_numerical_columns].fillna(\"Missing\").astype(str)\n",
    "X_val_not_encoded[non_numerical_columns] = X_val_not_encoded[non_numerical_columns].fillna(\"Missing\").astype(str)\n",
    "\n",
    "# Replace NaNs with the string \"MISSING\" before encoding\n",
    "X_train[non_numerical_columns] = X_train_not_encoded[non_numerical_columns].fillna(\"Missing\").astype(str)\n",
    "X_test[non_numerical_columns] = X_test[non_numerical_columns].fillna(\"Missing\").astype(str)\n",
    "\n",
    "print(\"See if the missing values are replaced by 'Missing' in the encoded datasets:\")\n",
    "print(X_test[X_test['model'] == 'Missing'].head())\n",
    "\n",
    "\n",
    "\n",
    "# Initialize the TargetEncoder with handle_missing='return_nan' to keep NaN values\n",
    "encoder = ce.TargetEncoder(cols=non_numerical_columns, handle_missing='return_nan')\n",
    "\n",
    "# Fit the encoder on the training data and transform both training and validation sets\n",
    "X_train_encoded = encoder.fit_transform(X_train, y_train)\n",
    "X_test_encoded = encoder.transform(X_test)\n",
    "\n",
    "# Replace NaN values with -1 in the encoded datasets\n",
    "#X_train_encoded.fillna(-1, inplace=True)\n",
    "#X_test_encoded.fillna(-1, inplace=True)\n",
    "\n",
    "# Display the first few rows of the encoded training data\n",
    "print(\"Encoded Training Data:\")\n",
    "print(X_train_encoded.head())\n",
    "\n",
    "# Display the first few rows of the encoded validation data\n",
    "print(\"Encoded Validation Data:\")\n",
    "print(X_test_encoded.head())"
   ]
  },
  {
   "cell_type": "code",
   "execution_count": null,
   "metadata": {},
   "outputs": [
    {
     "data": {
      "text/plain": [
       "ID                     0\n",
       "Nb_of_items            0\n",
       "total_basket_price     0\n",
       "item_number            0\n",
       "item                   0\n",
       "Nbr_of_prod_purchas    0\n",
       "make                   0\n",
       "model                  0\n",
       "goods_code             0\n",
       "cash_price             0\n",
       "dtype: int64"
      ]
     },
     "execution_count": 49,
     "metadata": {},
     "output_type": "execute_result"
    }
   ],
   "source": [
    "X_test_encoded.isna().sum()"
   ]
  },
  {
   "cell_type": "code",
   "execution_count": null,
   "metadata": {},
   "outputs": [
    {
     "data": {
      "text/plain": [
       "ID                       int32\n",
       "Nb_of_items            float64\n",
       "total_basket_price     float64\n",
       "item_number            float64\n",
       "item                   float64\n",
       "Nbr_of_prod_purchas    float64\n",
       "make                   float64\n",
       "model                  float64\n",
       "goods_code             float64\n",
       "cash_price             float64\n",
       "dtype: object"
      ]
     },
     "execution_count": 50,
     "metadata": {},
     "output_type": "execute_result"
    }
   ],
   "source": [
    "X_train_encoded = X_train_encoded.astype(float)\n",
    "X_test_encoded = X_test_encoded.astype(float)\n",
    "\n",
    "#Except the ID column\n",
    "\n",
    "X_train_encoded['ID'] = X_train_encoded['ID'].astype(int)\n",
    "X_test_encoded['ID'] = X_test_encoded['ID'].astype(int)\n",
    "\n",
    "X_train_encoded.dtypes"
   ]
  },
  {
   "cell_type": "code",
   "execution_count": null,
   "metadata": {},
   "outputs": [
    {
     "name": "stderr",
     "output_type": "stream",
     "text": [
      "C:\\Users\\asus\\AppData\\Local\\Temp\\ipykernel_70092\\1942948646.py:3: FutureWarning: A value is trying to be set on a copy of a DataFrame or Series through chained assignment using an inplace method.\n",
      "The behavior will change in pandas 3.0. This inplace method will never work because the intermediate object on which we are setting values always behaves as a copy.\n",
      "\n",
      "For example, when doing 'df[col].method(value, inplace=True)', try using 'df.method({col: value}, inplace=True)' or df[col] = df[col].method(value) instead, to perform the operation inplace on the original object.\n",
      "\n",
      "\n",
      "  df[\"contribution_to_total\"].fillna(0, inplace=True)  # Handle division by zero\n",
      "C:\\Users\\asus\\AppData\\Local\\Temp\\ipykernel_70092\\1942948646.py:9: FutureWarning: A value is trying to be set on a copy of a DataFrame or Series through chained assignment using an inplace method.\n",
      "The behavior will change in pandas 3.0. This inplace method will never work because the intermediate object on which we are setting values always behaves as a copy.\n",
      "\n",
      "For example, when doing 'df[col].method(value, inplace=True)', try using 'df.method({col: value}, inplace=True)' or df[col] = df[col].method(value) instead, to perform the operation inplace on the original object.\n",
      "\n",
      "\n",
      "  df[\"avg_item_price\"].fillna(0, inplace=True)\n",
      "C:\\Users\\asus\\AppData\\Local\\Temp\\ipykernel_70092\\1942948646.py:28: FutureWarning: A value is trying to be set on a copy of a DataFrame or Series through chained assignment using an inplace method.\n",
      "The behavior will change in pandas 3.0. This inplace method will never work because the intermediate object on which we are setting values always behaves as a copy.\n",
      "\n",
      "For example, when doing 'df[col].method(value, inplace=True)', try using 'df.method({col: value}, inplace=True)' or df[col] = df[col].method(value) instead, to perform the operation inplace on the original object.\n",
      "\n",
      "\n",
      "  df[\"item_repetition_ratio\"].fillna(0, inplace=True)\n",
      "C:\\Users\\asus\\AppData\\Local\\Temp\\ipykernel_70092\\1942948646.py:3: FutureWarning: A value is trying to be set on a copy of a DataFrame or Series through chained assignment using an inplace method.\n",
      "The behavior will change in pandas 3.0. This inplace method will never work because the intermediate object on which we are setting values always behaves as a copy.\n",
      "\n",
      "For example, when doing 'df[col].method(value, inplace=True)', try using 'df.method({col: value}, inplace=True)' or df[col] = df[col].method(value) instead, to perform the operation inplace on the original object.\n",
      "\n",
      "\n",
      "  df[\"contribution_to_total\"].fillna(0, inplace=True)  # Handle division by zero\n",
      "C:\\Users\\asus\\AppData\\Local\\Temp\\ipykernel_70092\\1942948646.py:9: FutureWarning: A value is trying to be set on a copy of a DataFrame or Series through chained assignment using an inplace method.\n",
      "The behavior will change in pandas 3.0. This inplace method will never work because the intermediate object on which we are setting values always behaves as a copy.\n",
      "\n",
      "For example, when doing 'df[col].method(value, inplace=True)', try using 'df.method({col: value}, inplace=True)' or df[col] = df[col].method(value) instead, to perform the operation inplace on the original object.\n",
      "\n",
      "\n",
      "  df[\"avg_item_price\"].fillna(0, inplace=True)\n",
      "C:\\Users\\asus\\AppData\\Local\\Temp\\ipykernel_70092\\1942948646.py:28: FutureWarning: A value is trying to be set on a copy of a DataFrame or Series through chained assignment using an inplace method.\n",
      "The behavior will change in pandas 3.0. This inplace method will never work because the intermediate object on which we are setting values always behaves as a copy.\n",
      "\n",
      "For example, when doing 'df[col].method(value, inplace=True)', try using 'df.method({col: value}, inplace=True)' or df[col] = df[col].method(value) instead, to perform the operation inplace on the original object.\n",
      "\n",
      "\n",
      "  df[\"item_repetition_ratio\"].fillna(0, inplace=True)\n"
     ]
    }
   ],
   "source": [
    "def compute_contribution_to_total(df):\n",
    "    df[\"contribution_to_total\"] = df[\"cash_price\"] / df[\"total_basket_price\"]\n",
    "    df[\"contribution_to_total\"].fillna(0, inplace=True)  # Handle division by zero\n",
    "    return df\n",
    "\n",
    "# Average item price in the basket\n",
    "def compute_avg_item_price(df):\n",
    "    df[\"avg_item_price\"] = df[\"total_basket_price\"] / df[\"Nb_of_items\"]\n",
    "    df[\"avg_item_price\"].fillna(0, inplace=True)\n",
    "    return df\n",
    "\n",
    "# Maximum item contribution to total basket price\n",
    "def compute_max_item_contribution(df):\n",
    "    df[\"max_item_contribution\"] = df[[\"cash_price\", \"total_basket_price\"]].max(axis=1) / df[\"total_basket_price\"]\n",
    "    df[\"max_item_contribution\"].fillna(0, inplace=True)\n",
    "    return df\n",
    "\n",
    "# Basket price deviation (Z-score)\n",
    "def compute_basket_price_zscore(df):\n",
    "    mean_price = df[\"total_basket_price\"].mean()\n",
    "    std_price = df[\"total_basket_price\"].std()\n",
    "    df[\"basket_price_zscore\"] = (df[\"total_basket_price\"] - mean_price) / (std_price + 1e-6)\n",
    "    return df\n",
    "\n",
    "# Item repetition within a basket\n",
    "def compute_item_repetition_ratio(df):\n",
    "    df[\"item_repetition_ratio\"] = df[\"Nbr_of_prod_purchas\"] / df[\"Nb_of_items\"]\n",
    "    df[\"item_repetition_ratio\"].fillna(0, inplace=True)\n",
    "    return df\n",
    "\n",
    "# Apply transformations\n",
    "X_train_encoded = compute_contribution_to_total(X_train_encoded)\n",
    "X_train_encoded = compute_avg_item_price(X_train_encoded)\n",
    "#X_train_encoded = compute_max_item_contribution(X_train_encoded)\n",
    "X_train_encoded = compute_basket_price_zscore(X_train_encoded)\n",
    "X_train_encoded = compute_item_repetition_ratio(X_train_encoded)\n",
    "\n",
    "X_test_encoded = compute_contribution_to_total(X_test_encoded)\n",
    "X_test_encoded = compute_avg_item_price(X_test_encoded)\n",
    "#X_test_encoded = compute_max_item_contribution(X_test_encoded)\n",
    "X_test_encoded = compute_basket_price_zscore(X_test_encoded)\n",
    "X_test_encoded = compute_item_repetition_ratio(X_test_encoded)\n"
   ]
  },
  {
   "cell_type": "markdown",
   "metadata": {},
   "source": [
    "Use the best parameters found earlier"
   ]
  },
  {
   "cell_type": "code",
   "execution_count": null,
   "metadata": {},
   "outputs": [
    {
     "name": "stdout",
     "output_type": "stream",
     "text": [
      "Top Features:\n",
      "['total_basket_price', 'avg_item_price', 'contribution_to_total', 'goods_code', 'model', 'cash_price']\n"
     ]
    }
   ],
   "source": [
    "# Select only the top features (ID is removed as well )\n",
    "\n",
    "X_train_top_features = X_train_encoded[important_features]\n",
    "X_test_top_features = X_test_encoded[important_features]\n",
    "\n",
    "print(\"Top Features:\")\n",
    "print(important_features)\n",
    "\n"
   ]
  },
  {
   "cell_type": "code",
   "execution_count": null,
   "metadata": {},
   "outputs": [
    {
     "name": "stderr",
     "output_type": "stream",
     "text": [
      "c:\\Users\\asus\\anaconda3\\Lib\\site-packages\\xgboost\\core.py:158: UserWarning: [17:44:32] WARNING: C:\\buildkite-agent\\builds\\buildkite-windows-cpu-autoscaling-group-i-08cbc0333d8d4aae1-1\\xgboost\\xgboost-ci-windows\\src\\learner.cc:740: \n",
      "Parameters: { \"use_label_encoder\" } are not used.\n",
      "\n",
      "  warnings.warn(smsg, UserWarning)\n"
     ]
    },
    {
     "name": "stdout",
     "output_type": "stream",
     "text": [
      "Groupby Result:\n",
      "           ID  fraud_prob\n",
      "0       64707    0.000510\n",
      "1       63919    0.039699\n",
      "2       15664    0.052266\n",
      "3        6626    0.424754\n",
      "4       26766    0.790536\n",
      "...       ...         ...\n",
      "23193   63474    0.240184\n",
      "23194   80438    0.089877\n",
      "23195   29485    0.552627\n",
      "23196   59838    0.034950\n",
      "23197  110584    0.760648\n",
      "\n",
      "[23198 rows x 2 columns]\n",
      "number of rows:  23198\n"
     ]
    }
   ],
   "source": [
    "\n",
    "# Calculate the scale_pos_weight\n",
    "num_negatives = (y_train == 0).sum()\n",
    "num_positives = (y_train == 1).sum()\n",
    "scale_pos_weight = num_negatives / num_positives\n",
    "\n",
    "\n",
    "# Initialize the XGBoost model\n",
    "model = xgb.XGBClassifier(\n",
    "    **best_params,\n",
    "    scale_pos_weight=scale_pos_weight,  # Handle class imbalance\n",
    "    random_state=42,\n",
    "    eval_metric='aucpr',\n",
    "    use_label_encoder=False\n",
    "    )\n",
    "'''\n",
    "model = RandomForestClassifier(\n",
    "    n_estimators=300,           # More trees for stability\n",
    "    #max_depth=15,               # Limit depth to prevent overfitting        \n",
    "    #max_features='sqrt',        # Randomly select features to reduce correlation\n",
    "    #class_weight='balanced_subsample',  # Adjust for class imbalance\n",
    "    class_weight={0: 1, 1: 5}\n",
    "    #bootstrap=True,             # Use bootstrap samples\n",
    "            # Evaluate generalization performance\n",
    "    #random_state=42,\n",
    "    #n_jobs=-1                   # Use all available cores for speed\n",
    ")\n",
    "'''\n",
    "\n",
    "# Fit the model on the training data\n",
    "model.fit(X_train_top_features, y_train)\n",
    "# Make predictions on the validation set\n",
    "y_test_pred = model.predict_proba(X_test_top_features)[:, 1]\n",
    "\n",
    "# Attach predictions to their corresponding basket ID\n",
    "df_val_predictions = pd.DataFrame({\"ID\": X_test_encoded[\"ID\"], \"fraud_prob\": y_test_pred})\n",
    "\n",
    "#transform id to int\n",
    "\n",
    "df_val_predictions['ID'] = df_val_predictions['ID'].astype(int)\n",
    "\n",
    "# Aggregate predictions per basket (using mean probability)\n",
    "df_basket_pred = df_val_predictions.groupby(\"ID\",sort=False).max().reset_index()\n",
    "\n",
    "print(\"Groupby Result:\")\n",
    "print(df_basket_pred)\n",
    "print(\"number of rows: \", df_basket_pred.shape[0])\n",
    "\n",
    "\n"
   ]
  },
  {
   "cell_type": "code",
   "execution_count": null,
   "metadata": {},
   "outputs": [
    {
     "name": "stdout",
     "output_type": "stream",
     "text": [
      "   index     ID          fraud_flag\n",
      "0      0  64707  0.0005097520770505\n",
      "1      1  63919  0.0396992303431034\n",
      "2      2  15664  0.0522663369774818\n",
      "3      3   6626  0.4247535467147827\n",
      "4      4  26766  0.7905360460281372\n"
     ]
    }
   ],
   "source": [
    "# Save the predictions to a CSV file\n",
    "# Create the submission DataFrame\n",
    "submission_df = pd.DataFrame({\n",
    "    'index': range(len(df_basket_pred)),\n",
    "    'ID': df_basket_pred['ID'],\n",
    "    'fraud_flag': df_basket_pred['fraud_prob']\n",
    "})\n",
    "\n",
    "# Save the submission DataFrame to a CSV file\n",
    "submission_df['fraud_flag'] = submission_df['fraud_flag'].astype(float).map('{:.16f}'.format)\n",
    "\n",
    "submission_df.to_csv('submission.csv', index=False)\n",
    "\n",
    "\n",
    "# Display the first few rows of the submission DataFrame\n",
    "print(submission_df.head())\n"
   ]
  },
  {
   "cell_type": "markdown",
   "metadata": {},
   "source": [
    "# <a id='toc6_'></a>[Summary](#toc0_)"
   ]
  },
  {
   "cell_type": "markdown",
   "metadata": {},
   "source": [
    "**Situation :**\n",
    "- For this fraud detection challenge, we had to deal with a highly imbalanced dataset. This is anticipated for such a task where fraud cases are so rare compared to legitimate ones.  \n",
    "\n",
    "- Each row of the dataset records a purchase from a the same basket. Since in our dataset the crushing majority of the baskets dont have more than 2 items, we have too much NaN Values at hand, and too much useless columns.\n",
    "\n",
    "**What we did**\n",
    "\n",
    "- In order to address the issues above, we switch from a wide to a long format in order to have one item per row. This way we get rid of the unnecessary columns, and we keep only the items that are actually present. In order to keep a link between Items from the same basket, we repeat accross these items features that are specific for the basket.\n",
    "\n",
    "- To encode the non-numerical variable, we use **target encoding** to not add a lot of features (one-hot encoding), to avoid ordinality between different categories (label encoding) and to assign a value based on its influence on the outcome in the traing.\n",
    "\n",
    "- To deal with our umbalanced data, we use a **stratified** training/validation split to keep the distribution based on the target variable. We also use **oversampling** method for the Logistic, Quadratic and SVC classifiers to improve their performance. For the XGBoost and Random Forest Classifier, they are already robust in case of data imbalance, especially the **XGBoost method** with its ability to improve at each step upon its previous mistake, which makes it a strong model to deal with imbalance, especially with parameters like **scale_pos_weight**.\n",
    "\n",
    "- To enrich our data, we add new features to better capture more nuanced informations. Then we filter these features to captures 90% of the informations based on the importance computed by the XGBoost to remove unnecessary informations.*\n",
    "\n",
    "- Also, to avoid overfitting, we drop the ID column in order to **prevent overfitting**, since the ID doesn't provide any information about the character of a transaction, and it's irrelevant for our predictions. Letting our models learn from it will `enable our model to cheat based on this information `\n",
    "\n",
    "**Result** \n",
    "\n",
    "- We manage with our XGBoost to **beat the benchmark** of `0.14` for the average_precision_score.  \n",
    "\n",
    "- Note : Using the methods presented in this notebook, we obtain a score of 0.18 on the submission board. `BUT when we were experimenting, we got our best submission with a score of 0.249 while keeping the ID column, which indicates that there is a strong correlation between the ID and the target variable inn the dataset that was handed to us`. \n",
    "\n",
    "**Paths to explore** \n",
    "\n",
    "- Trying Oversampling/Undersampling along with XGBoost (just lightly just to decrease the umbalanceness a little bit) and see if it improves.\n",
    "- We tried a Neural network with 2 hidden layers, but it didn't gave us better results than the linear classifiers. Maybe use it to embed our dataset before using XGBoost.\n",
    "- We can also use PCA to keep two dimensions and removing Noise, but we loose in interpretabiliy.\n",
    "- If we only care about the **submission score**, we can keep the ID and try to optimize the overfitting aspect of our model and improve our ranking.\n",
    "\n"
   ]
  }
 ],
 "metadata": {
  "kernelspec": {
   "display_name": "base",
   "language": "python",
   "name": "python3"
  },
  "language_info": {
   "codemirror_mode": {
    "name": "ipython",
    "version": 3
   },
   "file_extension": ".py",
   "mimetype": "text/x-python",
   "name": "python",
   "nbconvert_exporter": "python",
   "pygments_lexer": "ipython3",
   "version": "3.12.3"
  }
 },
 "nbformat": 4,
 "nbformat_minor": 2
}
